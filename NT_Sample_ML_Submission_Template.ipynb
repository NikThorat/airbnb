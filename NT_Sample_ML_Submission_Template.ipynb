{
  "nbformat": 4,
  "nbformat_minor": 0,
  "metadata": {
    "colab": {
      "provenance": [],
      "collapsed_sections": [
        "vncDsAP0Gaoa",
        "FJNUwmbgGyua",
        "w6K7xa23Elo4",
        "yQaldy8SH6Dl",
        "mDgbUHAGgjLW",
        "O_i_v8NEhb9l",
        "HhfV-JJviCcP",
        "Y3lxredqlCYt",
        "3RnN4peoiCZX",
        "x71ZqKXriCWQ",
        "7hBIi_osiCS2",
        "JlHwYmJAmNHm",
        "35m5QtbWiB9F",
        "PoPl-ycgm1ru",
        "H0kj-8xxnORC",
        "nA9Y7ga8ng1Z",
        "PBTbrJXOngz2",
        "u3PMJOP6ngxN",
        "dauF4eBmngu3",
        "bKJF3rekwFvQ",
        "MSa1f5Uengrz",
        "GF8Ens_Soomf",
        "0wOQAZs5pc--",
        "K5QZ13OEpz2H",
        "lQ7QKXXCp7Bj",
        "448CDAPjqfQr",
        "KSlN3yHqYklG",
        "t6dVpIINYklI",
        "ijmpgYnKYklI",
        "-JiQyfWJYklI",
        "EM7whBJCYoAo",
        "fge-S5ZAYoAp",
        "85gYPyotYoAp",
        "RoGjAbkUYoAp",
        "4Of9eVA-YrdM",
        "iky9q4vBYrdO",
        "F6T5p64dYrdO",
        "y-Ehk30pYrdP",
        "bamQiAODYuh1",
        "QHF8YVU7Yuh3",
        "GwzvFGzlYuh3",
        "qYpmQ266Yuh3",
        "OH-pJp9IphqM",
        "bbFf2-_FphqN",
        "_ouA3fa0phqN",
        "Seke61FWphqN",
        "PIIx-8_IphqN",
        "t27r6nlMphqO",
        "r2jJGEOYphqO",
        "b0JNsNcRphqO",
        "BZR9WyysphqO",
        "jj7wYXLtphqO",
        "eZrbJ2SmphqO",
        "rFu4xreNphqO",
        "YJ55k-q6phqO",
        "gCFgpxoyphqP",
        "OVtJsKN_phqQ",
        "lssrdh5qphqQ",
        "U2RJ9gkRphqQ",
        "1M8mcRywphqQ",
        "tgIPom80phqQ",
        "JMzcOPDDphqR",
        "x-EpHcCOp1ci",
        "X_VqEhTip1ck",
        "8zGJKyg5p1ck",
        "PVzmfK_Ep1ck",
        "n3dbpmDWp1ck",
        "ylSl6qgtp1ck",
        "ZWILFDl5p1ck",
        "M7G43BXep1ck",
        "Ag9LCva-p1cl",
        "E6MkPsBcp1cl",
        "2cELzS2fp1cl",
        "3MPXvC8up1cl",
        "NC_X3p0fY2L0",
        "UV0SzAkaZNRQ",
        "YPEH6qLeZNRQ",
        "q29F0dvdveiT",
        "EXh0U9oCveiU",
        "22aHeOlLveiV",
        "g-ATYxFrGrvw",
        "Yfr_Vlr8HBkt",
        "8yEUt7NnHlrM",
        "tEA2Xm5dHt1r",
        "I79__PHVH19G",
        "Ou-I18pAyIpj",
        "fF3858GYyt-u",
        "4_0_7-oCpUZd",
        "hwyV_J3ipUZe",
        "3yB-zSqbpUZe",
        "dEUvejAfpUZe",
        "Fd15vwWVpUZf",
        "bn_IUdTipZyH",
        "49K5P_iCpZyH",
        "Nff-vKELpZyI",
        "kLW572S8pZyI",
        "dWbDXHzopZyI",
        "yLjJCtPM0KBk",
        "xiyOF9F70UgQ",
        "7wuGOrhz0itI",
        "id1riN9m0vUs",
        "578E2V7j08f6",
        "89xtkJwZ18nB",
        "67NQN5KX2AMe",
        "Iwf50b-R2tYG",
        "GMQiZwjn3iu7",
        "WVIkgGqN3qsr",
        "XkPnILGE3zoT",
        "Hlsf0x5436Go",
        "mT9DMSJo4nBL",
        "c49ITxTc407N",
        "OeJFEK0N496M",
        "9ExmJH0g5HBk",
        "cJNqERVU536h",
        "k5UmGsbsOxih",
        "T0VqWOYE6DLQ",
        "qBMux9mC6MCf",
        "-oLEiFgy-5Pf",
        "C74aWNz2AliB",
        "2DejudWSA-a0",
        "pEMng2IbBLp7",
        "rAdphbQ9Bhjc",
        "TNVZ9zx19K6k",
        "nqoHp30x9hH9",
        "rMDnDkt2B6du",
        "yiiVWRdJDDil",
        "1UUpS68QDMuG",
        "kexQrXU-DjzY",
        "T5CmagL3EC8N",
        "BhH2vgX9EjGr",
        "qjKvONjwE8ra",
        "P1XJ9OREExlT",
        "VFOzZv6IFROw",
        "TIqpNgepFxVj",
        "VfCC591jGiD4",
        "OB4l2ZhMeS1U",
        "ArJBuiUVfxKd",
        "4qY1EAkEfxKe",
        "PiV4Ypx8fxKe",
        "TfvqoZmBfxKf",
        "dJ2tPlVmpsJ0",
        "JWYfwnehpsJ1",
        "-jK_YjpMpsJ2",
        "HAih1iBOpsJ2",
        "zVGeBEFhpsJ2",
        "bmKjuQ-FpsJ3",
        "Fze-IPXLpx6K",
        "7AN1z2sKpx6M",
        "9PIHJqyupx6M",
        "_-qAgymDpx6N",
        "Z-hykwinpx6N",
        "h_CCil-SKHpo",
        "cBFFvTBNJzUa",
        "HvGl1hHyA_VK",
        "EyNgTHvd2WFk",
        "KH5McJBi2d8v",
        "iW_Lq9qf2h6X",
        "-Kee-DAl2viO",
        "gCX9965dhzqZ",
        "gIfDvo9L0UH2"
      ],
      "include_colab_link": true
    },
    "kernelspec": {
      "name": "python3",
      "display_name": "Python 3"
    },
    "language_info": {
      "name": "python"
    }
  },
  "cells": [
    {
      "cell_type": "markdown",
      "metadata": {
        "id": "view-in-github",
        "colab_type": "text"
      },
      "source": [
        "<a href=\"https://colab.research.google.com/github/NikThorat/airbnb/blob/main/NT_Sample_ML_Submission_Template.ipynb\" target=\"_parent\"><img src=\"https://colab.research.google.com/assets/colab-badge.svg\" alt=\"Open In Colab\"/></a>"
      ]
    },
    {
      "cell_type": "markdown",
      "source": [
        "# **Project Name**    - **Airbnb Bookings Analysis Project**\n",
        "\n"
      ],
      "metadata": {
        "id": "vncDsAP0Gaoa"
      }
    },
    {
      "cell_type": "markdown",
      "source": [
        "##### **Project Type**    - **EDA**\n",
        "##### **Contribution**    - **Individual**\n",
        "##### **Team Member -** **Nikhil Santosh Thorat**\n"
      ],
      "metadata": {
        "id": "beRrZCGUAJYm"
      }
    },
    {
      "cell_type": "markdown",
      "source": [
        "# **Project Summary -**"
      ],
      "metadata": {
        "id": "FJNUwmbgGyua"
      }
    },
    {
      "cell_type": "markdown",
      "source": [
        "Airbnb, as in “Air Bed and Breakfast”, is a service that allows property owners to rent out their spaces/condos to travelers looking for a place to stay.Airbnb is the most well-known company for short-term housing rentals.\n",
        "\n",
        "Airbnb was started in 2008 by Brian Chesky, Nathan Blecharczyk, and Joe Gebbia, based in San Francisco, California. The platform is accessible via website and mobile app.\n",
        "\n",
        "Since 2008, guests and hosts have used Airbnb to expand on travelling possibilities and present a more unique, personalised way of experiencing the world.\n",
        "\n",
        "This millions of listings generate a lot of data- data that can be analyzed and used for security, business decisions, understanding of customers’ and providers’ (hosts) behaviour and performance on the platform, guiding marketing initiatives, implementation of innovation additional services.\n",
        "\n",
        "The biggest problems Airbnb Hosts deal with? The most common problems vacation rental hosts deal with are regulations, local laws, parties, excessive turnovers, unmanageable guests, not knowing your market and finding better guests.\n",
        "\n",
        "The theory behind the “AirBnb Effect” comes as hosts convert long-term rentals that could house local residents and families to short-term rentals for visitors, thus decreasing an already short supply of housing.\n",
        "\n",
        "The main purpose of EDA is to help look at data before making any assumptions. It can help identify obvious errors, as well as better understand patterns within the data, detect outliers or anomalous events, find interesting relations among the variables.It can help with the detection of obvious errors, a better comprehension of data patterns, the detection of outliers or unexpected events, and the discovery of interesting correlations between variables.\n",
        "\n"
      ],
      "metadata": {
        "id": "F6v_1wHtG2nS"
      }
    },
    {
      "cell_type": "markdown",
      "source": [
        "# **GitHub Link -**"
      ],
      "metadata": {
        "id": "w6K7xa23Elo4"
      }
    },
    {
      "cell_type": "markdown",
      "source": [],
      "metadata": {
        "id": "h1o69JH3Eqqn"
      }
    },
    {
      "cell_type": "markdown",
      "source": [
        "# **Problem Statement**\n"
      ],
      "metadata": {
        "id": "yQaldy8SH6Dl"
      }
    },
    {
      "cell_type": "markdown",
      "source": [
        "AirBnb hosts and the platform itself strive to optimize the hosting experience and attract more booking. The challenge is to analyze AirBnb booking patterns,user preferences, and pricing strategies to uncover valuable insights. By conducting an in depth Exploratory data Analysis(EDA), we aim to understand the dynamics influencing booking trends, user behaviour, and host success. The ultimate goal is to provide actionable insights for hosts to enhance their listings and for AirBnb to refine its platform features, ultimately fostering a deeper understanding of the vacation rental market.\n",
        "\n",
        "## **Business Objective -**\n",
        "facilitate trust and communication between the host and guest, and to make the process of booking and staying in a rental property as seamless and convenient as possible.\n",
        "Enhance host strategies by leveraging data insights, resulting in increased booking and revenue on the Airbnb platform.\n",
        "\n",
        ""
      ],
      "metadata": {
        "id": "DpeJGUA3kjGy"
      }
    },
    {
      "cell_type": "markdown",
      "source": [
        "# **General Guidelines** : -  "
      ],
      "metadata": {
        "id": "mDgbUHAGgjLW"
      }
    },
    {
      "cell_type": "markdown",
      "source": [
        "1.   Well-structured, formatted, and commented code is required.\n",
        "2.   Exception Handling, Production Grade Code & Deployment Ready Code will be a plus. Those students will be awarded some additional credits.\n",
        "     \n",
        "     The additional credits will have advantages over other students during Star Student selection.\n",
        "       \n",
        "             [ Note: - Deployment Ready Code is defined as, the whole .ipynb notebook should be executable in one go\n",
        "                       without a single error logged. ]\n",
        "\n",
        "3.   Each and every logic should have proper comments.\n",
        "4. You may add as many number of charts you want. Make Sure for each and every chart the following format should be answered.\n",
        "        \n",
        "\n",
        "```\n",
        "# Chart visualization code\n",
        "```\n",
        "            \n",
        "\n",
        "*   Why did you pick the specific chart?\n",
        "*   What is/are the insight(s) found from the chart?\n",
        "* Will the gained insights help creating a positive business impact?\n",
        "Are there any insights that lead to negative growth? Justify with specific reason.\n",
        "\n",
        "5. You have to create at least 15 logical & meaningful charts having important insights.\n",
        "\n",
        "\n",
        "[ Hints : - Do the Vizualization in  a structured way while following \"UBM\" Rule.\n",
        "\n",
        "U - Univariate Analysis,\n",
        "\n",
        "B - Bivariate Analysis (Numerical - Categorical, Numerical - Numerical, Categorical - Categorical)\n",
        "\n",
        "M - Multivariate Analysis\n",
        " ]\n",
        "\n",
        "\n",
        "\n",
        "\n",
        "\n",
        "6. You may add more ml algorithms for model creation. Make sure for each and every algorithm, the following format should be answered.\n",
        "\n",
        "\n",
        "*   Explain the ML Model used and it's performance using Evaluation metric Score Chart.\n",
        "\n",
        "\n",
        "*   Cross- Validation & Hyperparameter Tuning\n",
        "\n",
        "*   Have you seen any improvement? Note down the improvement with updates Evaluation metric Score Chart.\n",
        "\n",
        "*   Explain each evaluation metric's indication towards business and the business impact pf the ML model used.\n",
        "\n",
        "\n",
        "\n",
        "\n",
        "\n",
        "\n",
        "\n",
        "\n",
        "\n",
        "\n",
        "\n",
        "\n",
        "\n",
        "\n",
        "\n",
        "\n",
        "\n",
        "\n"
      ],
      "metadata": {
        "id": "ZrxVaUj-hHfC"
      }
    },
    {
      "cell_type": "markdown",
      "source": [
        "# ***Let's Begin !***"
      ],
      "metadata": {
        "id": "O_i_v8NEhb9l"
      }
    },
    {
      "cell_type": "markdown",
      "source": [
        "## ***1. Know Your Data***"
      ],
      "metadata": {
        "id": "HhfV-JJviCcP"
      }
    },
    {
      "cell_type": "markdown",
      "source": [
        "### Import Libraries"
      ],
      "metadata": {
        "id": "Y3lxredqlCYt"
      }
    },
    {
      "cell_type": "code",
      "source": [
        "import pandas as pd\n",
        "import numpy as np\n",
        "import matplotlib.pyplot as plt\n",
        "import seaborn as sns\n",
        "\n",
        "import warnings\n",
        "warnings.filterwarnings('ignore')"
      ],
      "metadata": {
        "id": "M8Vqi-pPk-HR"
      },
      "execution_count": 3,
      "outputs": []
    },
    {
      "cell_type": "markdown",
      "source": [
        "### Dataset Loading"
      ],
      "metadata": {
        "id": "3RnN4peoiCZX"
      }
    },
    {
      "cell_type": "code",
      "source": [
        "# Load Dataset\n",
        "airbnb_df =pd.read_csv('Airbnb NYC 2019.csv')\n",
        "print(\"Airbnb Booking Analysis Dataset:\")\n",
        "airbnb_df"
      ],
      "metadata": {
        "id": "4CkvbW_SlZ_R",
        "colab": {
          "base_uri": "https://localhost:8080/",
          "height": 843
        },
        "outputId": "5757391c-0c56-4769-dbe6-6d672d1d26a1"
      },
      "execution_count": 5,
      "outputs": [
        {
          "output_type": "stream",
          "name": "stdout",
          "text": [
            "Airbnb Booking Analysis Dataset:\n"
          ]
        },
        {
          "output_type": "execute_result",
          "data": {
            "text/plain": [
              "             id                                               name   host_id  \\\n",
              "0          2539                 Clean & quiet apt home by the park      2787   \n",
              "1          2595                              Skylit Midtown Castle      2845   \n",
              "2          3647                THE VILLAGE OF HARLEM....NEW YORK !      4632   \n",
              "3          3831                    Cozy Entire Floor of Brownstone      4869   \n",
              "4          5022   Entire Apt: Spacious Studio/Loft by central park      7192   \n",
              "...         ...                                                ...       ...   \n",
              "48890  36484665    Charming one bedroom - newly renovated rowhouse   8232441   \n",
              "48891  36485057      Affordable room in Bushwick/East Williamsburg   6570630   \n",
              "48892  36485431            Sunny Studio at Historical Neighborhood  23492952   \n",
              "48893  36485609               43rd St. Time Square-cozy single bed  30985759   \n",
              "48894  36487245  Trendy duplex in the very heart of Hell's Kitchen  68119814   \n",
              "\n",
              "           host_name neighbourhood_group       neighbourhood  latitude  \\\n",
              "0               John            Brooklyn          Kensington  40.64749   \n",
              "1           Jennifer           Manhattan             Midtown  40.75362   \n",
              "2          Elisabeth           Manhattan              Harlem  40.80902   \n",
              "3        LisaRoxanne            Brooklyn        Clinton Hill  40.68514   \n",
              "4              Laura           Manhattan         East Harlem  40.79851   \n",
              "...              ...                 ...                 ...       ...   \n",
              "48890        Sabrina            Brooklyn  Bedford-Stuyvesant  40.67853   \n",
              "48891        Marisol            Brooklyn            Bushwick  40.70184   \n",
              "48892  Ilgar & Aysel           Manhattan              Harlem  40.81475   \n",
              "48893            Taz           Manhattan      Hell's Kitchen  40.75751   \n",
              "48894     Christophe           Manhattan      Hell's Kitchen  40.76404   \n",
              "\n",
              "       longitude        room_type  price  minimum_nights  number_of_reviews  \\\n",
              "0      -73.97237     Private room    149               1                  9   \n",
              "1      -73.98377  Entire home/apt    225               1                 45   \n",
              "2      -73.94190     Private room    150               3                  0   \n",
              "3      -73.95976  Entire home/apt     89               1                270   \n",
              "4      -73.94399  Entire home/apt     80              10                  9   \n",
              "...          ...              ...    ...             ...                ...   \n",
              "48890  -73.94995     Private room     70               2                  0   \n",
              "48891  -73.93317     Private room     40               4                  0   \n",
              "48892  -73.94867  Entire home/apt    115              10                  0   \n",
              "48893  -73.99112      Shared room     55               1                  0   \n",
              "48894  -73.98933     Private room     90               7                  0   \n",
              "\n",
              "      last_review  reviews_per_month  calculated_host_listings_count  \\\n",
              "0      2018-10-19               0.21                               6   \n",
              "1      2019-05-21               0.38                               2   \n",
              "2             NaN                NaN                               1   \n",
              "3      2019-07-05               4.64                               1   \n",
              "4      2018-11-19               0.10                               1   \n",
              "...           ...                ...                             ...   \n",
              "48890         NaN                NaN                               2   \n",
              "48891         NaN                NaN                               2   \n",
              "48892         NaN                NaN                               1   \n",
              "48893         NaN                NaN                               6   \n",
              "48894         NaN                NaN                               1   \n",
              "\n",
              "       availability_365  \n",
              "0                   365  \n",
              "1                   355  \n",
              "2                   365  \n",
              "3                   194  \n",
              "4                     0  \n",
              "...                 ...  \n",
              "48890                 9  \n",
              "48891                36  \n",
              "48892                27  \n",
              "48893                 2  \n",
              "48894                23  \n",
              "\n",
              "[48895 rows x 16 columns]"
            ],
            "text/html": [
              "\n",
              "  <div id=\"df-1926645f-d192-47a3-a374-d349b1332092\" class=\"colab-df-container\">\n",
              "    <div>\n",
              "<style scoped>\n",
              "    .dataframe tbody tr th:only-of-type {\n",
              "        vertical-align: middle;\n",
              "    }\n",
              "\n",
              "    .dataframe tbody tr th {\n",
              "        vertical-align: top;\n",
              "    }\n",
              "\n",
              "    .dataframe thead th {\n",
              "        text-align: right;\n",
              "    }\n",
              "</style>\n",
              "<table border=\"1\" class=\"dataframe\">\n",
              "  <thead>\n",
              "    <tr style=\"text-align: right;\">\n",
              "      <th></th>\n",
              "      <th>id</th>\n",
              "      <th>name</th>\n",
              "      <th>host_id</th>\n",
              "      <th>host_name</th>\n",
              "      <th>neighbourhood_group</th>\n",
              "      <th>neighbourhood</th>\n",
              "      <th>latitude</th>\n",
              "      <th>longitude</th>\n",
              "      <th>room_type</th>\n",
              "      <th>price</th>\n",
              "      <th>minimum_nights</th>\n",
              "      <th>number_of_reviews</th>\n",
              "      <th>last_review</th>\n",
              "      <th>reviews_per_month</th>\n",
              "      <th>calculated_host_listings_count</th>\n",
              "      <th>availability_365</th>\n",
              "    </tr>\n",
              "  </thead>\n",
              "  <tbody>\n",
              "    <tr>\n",
              "      <th>0</th>\n",
              "      <td>2539</td>\n",
              "      <td>Clean &amp; quiet apt home by the park</td>\n",
              "      <td>2787</td>\n",
              "      <td>John</td>\n",
              "      <td>Brooklyn</td>\n",
              "      <td>Kensington</td>\n",
              "      <td>40.64749</td>\n",
              "      <td>-73.97237</td>\n",
              "      <td>Private room</td>\n",
              "      <td>149</td>\n",
              "      <td>1</td>\n",
              "      <td>9</td>\n",
              "      <td>2018-10-19</td>\n",
              "      <td>0.21</td>\n",
              "      <td>6</td>\n",
              "      <td>365</td>\n",
              "    </tr>\n",
              "    <tr>\n",
              "      <th>1</th>\n",
              "      <td>2595</td>\n",
              "      <td>Skylit Midtown Castle</td>\n",
              "      <td>2845</td>\n",
              "      <td>Jennifer</td>\n",
              "      <td>Manhattan</td>\n",
              "      <td>Midtown</td>\n",
              "      <td>40.75362</td>\n",
              "      <td>-73.98377</td>\n",
              "      <td>Entire home/apt</td>\n",
              "      <td>225</td>\n",
              "      <td>1</td>\n",
              "      <td>45</td>\n",
              "      <td>2019-05-21</td>\n",
              "      <td>0.38</td>\n",
              "      <td>2</td>\n",
              "      <td>355</td>\n",
              "    </tr>\n",
              "    <tr>\n",
              "      <th>2</th>\n",
              "      <td>3647</td>\n",
              "      <td>THE VILLAGE OF HARLEM....NEW YORK !</td>\n",
              "      <td>4632</td>\n",
              "      <td>Elisabeth</td>\n",
              "      <td>Manhattan</td>\n",
              "      <td>Harlem</td>\n",
              "      <td>40.80902</td>\n",
              "      <td>-73.94190</td>\n",
              "      <td>Private room</td>\n",
              "      <td>150</td>\n",
              "      <td>3</td>\n",
              "      <td>0</td>\n",
              "      <td>NaN</td>\n",
              "      <td>NaN</td>\n",
              "      <td>1</td>\n",
              "      <td>365</td>\n",
              "    </tr>\n",
              "    <tr>\n",
              "      <th>3</th>\n",
              "      <td>3831</td>\n",
              "      <td>Cozy Entire Floor of Brownstone</td>\n",
              "      <td>4869</td>\n",
              "      <td>LisaRoxanne</td>\n",
              "      <td>Brooklyn</td>\n",
              "      <td>Clinton Hill</td>\n",
              "      <td>40.68514</td>\n",
              "      <td>-73.95976</td>\n",
              "      <td>Entire home/apt</td>\n",
              "      <td>89</td>\n",
              "      <td>1</td>\n",
              "      <td>270</td>\n",
              "      <td>2019-07-05</td>\n",
              "      <td>4.64</td>\n",
              "      <td>1</td>\n",
              "      <td>194</td>\n",
              "    </tr>\n",
              "    <tr>\n",
              "      <th>4</th>\n",
              "      <td>5022</td>\n",
              "      <td>Entire Apt: Spacious Studio/Loft by central park</td>\n",
              "      <td>7192</td>\n",
              "      <td>Laura</td>\n",
              "      <td>Manhattan</td>\n",
              "      <td>East Harlem</td>\n",
              "      <td>40.79851</td>\n",
              "      <td>-73.94399</td>\n",
              "      <td>Entire home/apt</td>\n",
              "      <td>80</td>\n",
              "      <td>10</td>\n",
              "      <td>9</td>\n",
              "      <td>2018-11-19</td>\n",
              "      <td>0.10</td>\n",
              "      <td>1</td>\n",
              "      <td>0</td>\n",
              "    </tr>\n",
              "    <tr>\n",
              "      <th>...</th>\n",
              "      <td>...</td>\n",
              "      <td>...</td>\n",
              "      <td>...</td>\n",
              "      <td>...</td>\n",
              "      <td>...</td>\n",
              "      <td>...</td>\n",
              "      <td>...</td>\n",
              "      <td>...</td>\n",
              "      <td>...</td>\n",
              "      <td>...</td>\n",
              "      <td>...</td>\n",
              "      <td>...</td>\n",
              "      <td>...</td>\n",
              "      <td>...</td>\n",
              "      <td>...</td>\n",
              "      <td>...</td>\n",
              "    </tr>\n",
              "    <tr>\n",
              "      <th>48890</th>\n",
              "      <td>36484665</td>\n",
              "      <td>Charming one bedroom - newly renovated rowhouse</td>\n",
              "      <td>8232441</td>\n",
              "      <td>Sabrina</td>\n",
              "      <td>Brooklyn</td>\n",
              "      <td>Bedford-Stuyvesant</td>\n",
              "      <td>40.67853</td>\n",
              "      <td>-73.94995</td>\n",
              "      <td>Private room</td>\n",
              "      <td>70</td>\n",
              "      <td>2</td>\n",
              "      <td>0</td>\n",
              "      <td>NaN</td>\n",
              "      <td>NaN</td>\n",
              "      <td>2</td>\n",
              "      <td>9</td>\n",
              "    </tr>\n",
              "    <tr>\n",
              "      <th>48891</th>\n",
              "      <td>36485057</td>\n",
              "      <td>Affordable room in Bushwick/East Williamsburg</td>\n",
              "      <td>6570630</td>\n",
              "      <td>Marisol</td>\n",
              "      <td>Brooklyn</td>\n",
              "      <td>Bushwick</td>\n",
              "      <td>40.70184</td>\n",
              "      <td>-73.93317</td>\n",
              "      <td>Private room</td>\n",
              "      <td>40</td>\n",
              "      <td>4</td>\n",
              "      <td>0</td>\n",
              "      <td>NaN</td>\n",
              "      <td>NaN</td>\n",
              "      <td>2</td>\n",
              "      <td>36</td>\n",
              "    </tr>\n",
              "    <tr>\n",
              "      <th>48892</th>\n",
              "      <td>36485431</td>\n",
              "      <td>Sunny Studio at Historical Neighborhood</td>\n",
              "      <td>23492952</td>\n",
              "      <td>Ilgar &amp; Aysel</td>\n",
              "      <td>Manhattan</td>\n",
              "      <td>Harlem</td>\n",
              "      <td>40.81475</td>\n",
              "      <td>-73.94867</td>\n",
              "      <td>Entire home/apt</td>\n",
              "      <td>115</td>\n",
              "      <td>10</td>\n",
              "      <td>0</td>\n",
              "      <td>NaN</td>\n",
              "      <td>NaN</td>\n",
              "      <td>1</td>\n",
              "      <td>27</td>\n",
              "    </tr>\n",
              "    <tr>\n",
              "      <th>48893</th>\n",
              "      <td>36485609</td>\n",
              "      <td>43rd St. Time Square-cozy single bed</td>\n",
              "      <td>30985759</td>\n",
              "      <td>Taz</td>\n",
              "      <td>Manhattan</td>\n",
              "      <td>Hell's Kitchen</td>\n",
              "      <td>40.75751</td>\n",
              "      <td>-73.99112</td>\n",
              "      <td>Shared room</td>\n",
              "      <td>55</td>\n",
              "      <td>1</td>\n",
              "      <td>0</td>\n",
              "      <td>NaN</td>\n",
              "      <td>NaN</td>\n",
              "      <td>6</td>\n",
              "      <td>2</td>\n",
              "    </tr>\n",
              "    <tr>\n",
              "      <th>48894</th>\n",
              "      <td>36487245</td>\n",
              "      <td>Trendy duplex in the very heart of Hell's Kitchen</td>\n",
              "      <td>68119814</td>\n",
              "      <td>Christophe</td>\n",
              "      <td>Manhattan</td>\n",
              "      <td>Hell's Kitchen</td>\n",
              "      <td>40.76404</td>\n",
              "      <td>-73.98933</td>\n",
              "      <td>Private room</td>\n",
              "      <td>90</td>\n",
              "      <td>7</td>\n",
              "      <td>0</td>\n",
              "      <td>NaN</td>\n",
              "      <td>NaN</td>\n",
              "      <td>1</td>\n",
              "      <td>23</td>\n",
              "    </tr>\n",
              "  </tbody>\n",
              "</table>\n",
              "<p>48895 rows × 16 columns</p>\n",
              "</div>\n",
              "    <div class=\"colab-df-buttons\">\n",
              "\n",
              "  <div class=\"colab-df-container\">\n",
              "    <button class=\"colab-df-convert\" onclick=\"convertToInteractive('df-1926645f-d192-47a3-a374-d349b1332092')\"\n",
              "            title=\"Convert this dataframe to an interactive table.\"\n",
              "            style=\"display:none;\">\n",
              "\n",
              "  <svg xmlns=\"http://www.w3.org/2000/svg\" height=\"24px\" viewBox=\"0 -960 960 960\">\n",
              "    <path d=\"M120-120v-720h720v720H120Zm60-500h600v-160H180v160Zm220 220h160v-160H400v160Zm0 220h160v-160H400v160ZM180-400h160v-160H180v160Zm440 0h160v-160H620v160ZM180-180h160v-160H180v160Zm440 0h160v-160H620v160Z\"/>\n",
              "  </svg>\n",
              "    </button>\n",
              "\n",
              "  <style>\n",
              "    .colab-df-container {\n",
              "      display:flex;\n",
              "      gap: 12px;\n",
              "    }\n",
              "\n",
              "    .colab-df-convert {\n",
              "      background-color: #E8F0FE;\n",
              "      border: none;\n",
              "      border-radius: 50%;\n",
              "      cursor: pointer;\n",
              "      display: none;\n",
              "      fill: #1967D2;\n",
              "      height: 32px;\n",
              "      padding: 0 0 0 0;\n",
              "      width: 32px;\n",
              "    }\n",
              "\n",
              "    .colab-df-convert:hover {\n",
              "      background-color: #E2EBFA;\n",
              "      box-shadow: 0px 1px 2px rgba(60, 64, 67, 0.3), 0px 1px 3px 1px rgba(60, 64, 67, 0.15);\n",
              "      fill: #174EA6;\n",
              "    }\n",
              "\n",
              "    .colab-df-buttons div {\n",
              "      margin-bottom: 4px;\n",
              "    }\n",
              "\n",
              "    [theme=dark] .colab-df-convert {\n",
              "      background-color: #3B4455;\n",
              "      fill: #D2E3FC;\n",
              "    }\n",
              "\n",
              "    [theme=dark] .colab-df-convert:hover {\n",
              "      background-color: #434B5C;\n",
              "      box-shadow: 0px 1px 3px 1px rgba(0, 0, 0, 0.15);\n",
              "      filter: drop-shadow(0px 1px 2px rgba(0, 0, 0, 0.3));\n",
              "      fill: #FFFFFF;\n",
              "    }\n",
              "  </style>\n",
              "\n",
              "    <script>\n",
              "      const buttonEl =\n",
              "        document.querySelector('#df-1926645f-d192-47a3-a374-d349b1332092 button.colab-df-convert');\n",
              "      buttonEl.style.display =\n",
              "        google.colab.kernel.accessAllowed ? 'block' : 'none';\n",
              "\n",
              "      async function convertToInteractive(key) {\n",
              "        const element = document.querySelector('#df-1926645f-d192-47a3-a374-d349b1332092');\n",
              "        const dataTable =\n",
              "          await google.colab.kernel.invokeFunction('convertToInteractive',\n",
              "                                                    [key], {});\n",
              "        if (!dataTable) return;\n",
              "\n",
              "        const docLinkHtml = 'Like what you see? Visit the ' +\n",
              "          '<a target=\"_blank\" href=https://colab.research.google.com/notebooks/data_table.ipynb>data table notebook</a>'\n",
              "          + ' to learn more about interactive tables.';\n",
              "        element.innerHTML = '';\n",
              "        dataTable['output_type'] = 'display_data';\n",
              "        await google.colab.output.renderOutput(dataTable, element);\n",
              "        const docLink = document.createElement('div');\n",
              "        docLink.innerHTML = docLinkHtml;\n",
              "        element.appendChild(docLink);\n",
              "      }\n",
              "    </script>\n",
              "  </div>\n",
              "\n",
              "\n",
              "<div id=\"df-34cbc0f0-9f82-40be-b62f-8f74c03f38d8\">\n",
              "  <button class=\"colab-df-quickchart\" onclick=\"quickchart('df-34cbc0f0-9f82-40be-b62f-8f74c03f38d8')\"\n",
              "            title=\"Suggest charts\"\n",
              "            style=\"display:none;\">\n",
              "\n",
              "<svg xmlns=\"http://www.w3.org/2000/svg\" height=\"24px\"viewBox=\"0 0 24 24\"\n",
              "     width=\"24px\">\n",
              "    <g>\n",
              "        <path d=\"M19 3H5c-1.1 0-2 .9-2 2v14c0 1.1.9 2 2 2h14c1.1 0 2-.9 2-2V5c0-1.1-.9-2-2-2zM9 17H7v-7h2v7zm4 0h-2V7h2v10zm4 0h-2v-4h2v4z\"/>\n",
              "    </g>\n",
              "</svg>\n",
              "  </button>\n",
              "\n",
              "<style>\n",
              "  .colab-df-quickchart {\n",
              "      --bg-color: #E8F0FE;\n",
              "      --fill-color: #1967D2;\n",
              "      --hover-bg-color: #E2EBFA;\n",
              "      --hover-fill-color: #174EA6;\n",
              "      --disabled-fill-color: #AAA;\n",
              "      --disabled-bg-color: #DDD;\n",
              "  }\n",
              "\n",
              "  [theme=dark] .colab-df-quickchart {\n",
              "      --bg-color: #3B4455;\n",
              "      --fill-color: #D2E3FC;\n",
              "      --hover-bg-color: #434B5C;\n",
              "      --hover-fill-color: #FFFFFF;\n",
              "      --disabled-bg-color: #3B4455;\n",
              "      --disabled-fill-color: #666;\n",
              "  }\n",
              "\n",
              "  .colab-df-quickchart {\n",
              "    background-color: var(--bg-color);\n",
              "    border: none;\n",
              "    border-radius: 50%;\n",
              "    cursor: pointer;\n",
              "    display: none;\n",
              "    fill: var(--fill-color);\n",
              "    height: 32px;\n",
              "    padding: 0;\n",
              "    width: 32px;\n",
              "  }\n",
              "\n",
              "  .colab-df-quickchart:hover {\n",
              "    background-color: var(--hover-bg-color);\n",
              "    box-shadow: 0 1px 2px rgba(60, 64, 67, 0.3), 0 1px 3px 1px rgba(60, 64, 67, 0.15);\n",
              "    fill: var(--button-hover-fill-color);\n",
              "  }\n",
              "\n",
              "  .colab-df-quickchart-complete:disabled,\n",
              "  .colab-df-quickchart-complete:disabled:hover {\n",
              "    background-color: var(--disabled-bg-color);\n",
              "    fill: var(--disabled-fill-color);\n",
              "    box-shadow: none;\n",
              "  }\n",
              "\n",
              "  .colab-df-spinner {\n",
              "    border: 2px solid var(--fill-color);\n",
              "    border-color: transparent;\n",
              "    border-bottom-color: var(--fill-color);\n",
              "    animation:\n",
              "      spin 1s steps(1) infinite;\n",
              "  }\n",
              "\n",
              "  @keyframes spin {\n",
              "    0% {\n",
              "      border-color: transparent;\n",
              "      border-bottom-color: var(--fill-color);\n",
              "      border-left-color: var(--fill-color);\n",
              "    }\n",
              "    20% {\n",
              "      border-color: transparent;\n",
              "      border-left-color: var(--fill-color);\n",
              "      border-top-color: var(--fill-color);\n",
              "    }\n",
              "    30% {\n",
              "      border-color: transparent;\n",
              "      border-left-color: var(--fill-color);\n",
              "      border-top-color: var(--fill-color);\n",
              "      border-right-color: var(--fill-color);\n",
              "    }\n",
              "    40% {\n",
              "      border-color: transparent;\n",
              "      border-right-color: var(--fill-color);\n",
              "      border-top-color: var(--fill-color);\n",
              "    }\n",
              "    60% {\n",
              "      border-color: transparent;\n",
              "      border-right-color: var(--fill-color);\n",
              "    }\n",
              "    80% {\n",
              "      border-color: transparent;\n",
              "      border-right-color: var(--fill-color);\n",
              "      border-bottom-color: var(--fill-color);\n",
              "    }\n",
              "    90% {\n",
              "      border-color: transparent;\n",
              "      border-bottom-color: var(--fill-color);\n",
              "    }\n",
              "  }\n",
              "</style>\n",
              "\n",
              "  <script>\n",
              "    async function quickchart(key) {\n",
              "      const quickchartButtonEl =\n",
              "        document.querySelector('#' + key + ' button');\n",
              "      quickchartButtonEl.disabled = true;  // To prevent multiple clicks.\n",
              "      quickchartButtonEl.classList.add('colab-df-spinner');\n",
              "      try {\n",
              "        const charts = await google.colab.kernel.invokeFunction(\n",
              "            'suggestCharts', [key], {});\n",
              "      } catch (error) {\n",
              "        console.error('Error during call to suggestCharts:', error);\n",
              "      }\n",
              "      quickchartButtonEl.classList.remove('colab-df-spinner');\n",
              "      quickchartButtonEl.classList.add('colab-df-quickchart-complete');\n",
              "    }\n",
              "    (() => {\n",
              "      let quickchartButtonEl =\n",
              "        document.querySelector('#df-34cbc0f0-9f82-40be-b62f-8f74c03f38d8 button');\n",
              "      quickchartButtonEl.style.display =\n",
              "        google.colab.kernel.accessAllowed ? 'block' : 'none';\n",
              "    })();\n",
              "  </script>\n",
              "</div>\n",
              "\n",
              "  <div id=\"id_451ce012-d647-4795-8866-45ae15e9d382\">\n",
              "    <style>\n",
              "      .colab-df-generate {\n",
              "        background-color: #E8F0FE;\n",
              "        border: none;\n",
              "        border-radius: 50%;\n",
              "        cursor: pointer;\n",
              "        display: none;\n",
              "        fill: #1967D2;\n",
              "        height: 32px;\n",
              "        padding: 0 0 0 0;\n",
              "        width: 32px;\n",
              "      }\n",
              "\n",
              "      .colab-df-generate:hover {\n",
              "        background-color: #E2EBFA;\n",
              "        box-shadow: 0px 1px 2px rgba(60, 64, 67, 0.3), 0px 1px 3px 1px rgba(60, 64, 67, 0.15);\n",
              "        fill: #174EA6;\n",
              "      }\n",
              "\n",
              "      [theme=dark] .colab-df-generate {\n",
              "        background-color: #3B4455;\n",
              "        fill: #D2E3FC;\n",
              "      }\n",
              "\n",
              "      [theme=dark] .colab-df-generate:hover {\n",
              "        background-color: #434B5C;\n",
              "        box-shadow: 0px 1px 3px 1px rgba(0, 0, 0, 0.15);\n",
              "        filter: drop-shadow(0px 1px 2px rgba(0, 0, 0, 0.3));\n",
              "        fill: #FFFFFF;\n",
              "      }\n",
              "    </style>\n",
              "    <button class=\"colab-df-generate\" onclick=\"generateWithVariable('airbnb_df')\"\n",
              "            title=\"Generate code using this dataframe.\"\n",
              "            style=\"display:none;\">\n",
              "\n",
              "  <svg xmlns=\"http://www.w3.org/2000/svg\" height=\"24px\"viewBox=\"0 0 24 24\"\n",
              "       width=\"24px\">\n",
              "    <path d=\"M7,19H8.4L18.45,9,17,7.55,7,17.6ZM5,21V16.75L18.45,3.32a2,2,0,0,1,2.83,0l1.4,1.43a1.91,1.91,0,0,1,.58,1.4,1.91,1.91,0,0,1-.58,1.4L9.25,21ZM18.45,9,17,7.55Zm-12,3A5.31,5.31,0,0,0,4.9,8.1,5.31,5.31,0,0,0,1,6.5,5.31,5.31,0,0,0,4.9,4.9,5.31,5.31,0,0,0,6.5,1,5.31,5.31,0,0,0,8.1,4.9,5.31,5.31,0,0,0,12,6.5,5.46,5.46,0,0,0,6.5,12Z\"/>\n",
              "  </svg>\n",
              "    </button>\n",
              "    <script>\n",
              "      (() => {\n",
              "      const buttonEl =\n",
              "        document.querySelector('#id_451ce012-d647-4795-8866-45ae15e9d382 button.colab-df-generate');\n",
              "      buttonEl.style.display =\n",
              "        google.colab.kernel.accessAllowed ? 'block' : 'none';\n",
              "\n",
              "      buttonEl.onclick = () => {\n",
              "        google.colab.notebook.generateWithVariable('airbnb_df');\n",
              "      }\n",
              "      })();\n",
              "    </script>\n",
              "  </div>\n",
              "\n",
              "    </div>\n",
              "  </div>\n"
            ],
            "application/vnd.google.colaboratory.intrinsic+json": {
              "type": "dataframe",
              "variable_name": "airbnb_df",
              "summary": "{\n  \"name\": \"airbnb_df\",\n  \"rows\": 48895,\n  \"fields\": [\n    {\n      \"column\": \"id\",\n      \"properties\": {\n        \"dtype\": \"number\",\n        \"std\": 10983108,\n        \"min\": 2539,\n        \"max\": 36487245,\n        \"num_unique_values\": 48895,\n        \"samples\": [\n          317905,\n          34205267,\n          12342297\n        ],\n        \"semantic_type\": \"\",\n        \"description\": \"\"\n      }\n    },\n    {\n      \"column\": \"name\",\n      \"properties\": {\n        \"dtype\": \"string\",\n        \"num_unique_values\": 47905,\n        \"samples\": [\n          \"Luxurious Penthouse 3bed/2bath Apt w/Gym, Doorman\",\n          \"MANHATTAN LIVING!\",\n          \"Wonderful private room near Two Bridges II\"\n        ],\n        \"semantic_type\": \"\",\n        \"description\": \"\"\n      }\n    },\n    {\n      \"column\": \"host_id\",\n      \"properties\": {\n        \"dtype\": \"number\",\n        \"std\": 78610967,\n        \"min\": 2438,\n        \"max\": 274321313,\n        \"num_unique_values\": 37457,\n        \"samples\": [\n          1504257,\n          5592151,\n          208938947\n        ],\n        \"semantic_type\": \"\",\n        \"description\": \"\"\n      }\n    },\n    {\n      \"column\": \"host_name\",\n      \"properties\": {\n        \"dtype\": \"category\",\n        \"num_unique_values\": 11452,\n        \"samples\": [\n          \"Eki\",\n          \"Laine\",\n          \"Elen\"\n        ],\n        \"semantic_type\": \"\",\n        \"description\": \"\"\n      }\n    },\n    {\n      \"column\": \"neighbourhood_group\",\n      \"properties\": {\n        \"dtype\": \"category\",\n        \"num_unique_values\": 5,\n        \"samples\": [\n          \"Manhattan\",\n          \"Bronx\",\n          \"Queens\"\n        ],\n        \"semantic_type\": \"\",\n        \"description\": \"\"\n      }\n    },\n    {\n      \"column\": \"neighbourhood\",\n      \"properties\": {\n        \"dtype\": \"category\",\n        \"num_unique_values\": 221,\n        \"samples\": [\n          \"Stuyvesant Town\",\n          \"Eltingville\",\n          \"Stapleton\"\n        ],\n        \"semantic_type\": \"\",\n        \"description\": \"\"\n      }\n    },\n    {\n      \"column\": \"latitude\",\n      \"properties\": {\n        \"dtype\": \"number\",\n        \"std\": 0.054530078057371915,\n        \"min\": 40.49979,\n        \"max\": 40.91306,\n        \"num_unique_values\": 19048,\n        \"samples\": [\n          40.75913,\n          40.68314,\n          40.72126\n        ],\n        \"semantic_type\": \"\",\n        \"description\": \"\"\n      }\n    },\n    {\n      \"column\": \"longitude\",\n      \"properties\": {\n        \"dtype\": \"number\",\n        \"std\": 0.04615673610637153,\n        \"min\": -74.24442,\n        \"max\": -73.71299,\n        \"num_unique_values\": 14718,\n        \"samples\": [\n          -73.88892,\n          -73.87851,\n          -73.97175\n        ],\n        \"semantic_type\": \"\",\n        \"description\": \"\"\n      }\n    },\n    {\n      \"column\": \"room_type\",\n      \"properties\": {\n        \"dtype\": \"category\",\n        \"num_unique_values\": 3,\n        \"samples\": [\n          \"Private room\",\n          \"Entire home/apt\",\n          \"Shared room\"\n        ],\n        \"semantic_type\": \"\",\n        \"description\": \"\"\n      }\n    },\n    {\n      \"column\": \"price\",\n      \"properties\": {\n        \"dtype\": \"number\",\n        \"std\": 240,\n        \"min\": 0,\n        \"max\": 10000,\n        \"num_unique_values\": 674,\n        \"samples\": [\n          519,\n          675,\n          488\n        ],\n        \"semantic_type\": \"\",\n        \"description\": \"\"\n      }\n    },\n    {\n      \"column\": \"minimum_nights\",\n      \"properties\": {\n        \"dtype\": \"number\",\n        \"std\": 20,\n        \"min\": 1,\n        \"max\": 1250,\n        \"num_unique_values\": 109,\n        \"samples\": [\n          160,\n          60,\n          2\n        ],\n        \"semantic_type\": \"\",\n        \"description\": \"\"\n      }\n    },\n    {\n      \"column\": \"number_of_reviews\",\n      \"properties\": {\n        \"dtype\": \"number\",\n        \"std\": 44,\n        \"min\": 0,\n        \"max\": 629,\n        \"num_unique_values\": 394,\n        \"samples\": [\n          12,\n          144,\n          314\n        ],\n        \"semantic_type\": \"\",\n        \"description\": \"\"\n      }\n    },\n    {\n      \"column\": \"last_review\",\n      \"properties\": {\n        \"dtype\": \"object\",\n        \"num_unique_values\": 1764,\n        \"samples\": [\n          \"2016-07-26\",\n          \"2018-05-21\",\n          \"2019-02-27\"\n        ],\n        \"semantic_type\": \"\",\n        \"description\": \"\"\n      }\n    },\n    {\n      \"column\": \"reviews_per_month\",\n      \"properties\": {\n        \"dtype\": \"number\",\n        \"std\": 1.6804419952744725,\n        \"min\": 0.01,\n        \"max\": 58.5,\n        \"num_unique_values\": 937,\n        \"samples\": [\n          1.7,\n          0.28,\n          2.14\n        ],\n        \"semantic_type\": \"\",\n        \"description\": \"\"\n      }\n    },\n    {\n      \"column\": \"calculated_host_listings_count\",\n      \"properties\": {\n        \"dtype\": \"number\",\n        \"std\": 32,\n        \"min\": 1,\n        \"max\": 327,\n        \"num_unique_values\": 47,\n        \"samples\": [\n          37,\n          17,\n          121\n        ],\n        \"semantic_type\": \"\",\n        \"description\": \"\"\n      }\n    },\n    {\n      \"column\": \"availability_365\",\n      \"properties\": {\n        \"dtype\": \"number\",\n        \"std\": 131,\n        \"min\": 0,\n        \"max\": 365,\n        \"num_unique_values\": 366,\n        \"samples\": [\n          335,\n          309,\n          249\n        ],\n        \"semantic_type\": \"\",\n        \"description\": \"\"\n      }\n    }\n  ]\n}"
            }
          },
          "metadata": {},
          "execution_count": 5
        }
      ]
    },
    {
      "cell_type": "markdown",
      "source": [
        "### Dataset First View"
      ],
      "metadata": {
        "id": "x71ZqKXriCWQ"
      }
    },
    {
      "cell_type": "code",
      "source": [
        "# Dataset First Look\n",
        "airbnb_df.head()"
      ],
      "metadata": {
        "id": "LWNFOSvLl09H",
        "colab": {
          "base_uri": "https://localhost:8080/",
          "height": 417
        },
        "outputId": "81d2fe26-f93d-4a0b-848d-8c8510927bd8"
      },
      "execution_count": 6,
      "outputs": [
        {
          "output_type": "execute_result",
          "data": {
            "text/plain": [
              "     id                                              name  host_id  \\\n",
              "0  2539                Clean & quiet apt home by the park     2787   \n",
              "1  2595                             Skylit Midtown Castle     2845   \n",
              "2  3647               THE VILLAGE OF HARLEM....NEW YORK !     4632   \n",
              "3  3831                   Cozy Entire Floor of Brownstone     4869   \n",
              "4  5022  Entire Apt: Spacious Studio/Loft by central park     7192   \n",
              "\n",
              "     host_name neighbourhood_group neighbourhood  latitude  longitude  \\\n",
              "0         John            Brooklyn    Kensington  40.64749  -73.97237   \n",
              "1     Jennifer           Manhattan       Midtown  40.75362  -73.98377   \n",
              "2    Elisabeth           Manhattan        Harlem  40.80902  -73.94190   \n",
              "3  LisaRoxanne            Brooklyn  Clinton Hill  40.68514  -73.95976   \n",
              "4        Laura           Manhattan   East Harlem  40.79851  -73.94399   \n",
              "\n",
              "         room_type  price  minimum_nights  number_of_reviews last_review  \\\n",
              "0     Private room    149               1                  9  2018-10-19   \n",
              "1  Entire home/apt    225               1                 45  2019-05-21   \n",
              "2     Private room    150               3                  0         NaN   \n",
              "3  Entire home/apt     89               1                270  2019-07-05   \n",
              "4  Entire home/apt     80              10                  9  2018-11-19   \n",
              "\n",
              "   reviews_per_month  calculated_host_listings_count  availability_365  \n",
              "0               0.21                               6               365  \n",
              "1               0.38                               2               355  \n",
              "2                NaN                               1               365  \n",
              "3               4.64                               1               194  \n",
              "4               0.10                               1                 0  "
            ],
            "text/html": [
              "\n",
              "  <div id=\"df-5ef4d56e-b4c5-4278-9fd0-2a46c69cef74\" class=\"colab-df-container\">\n",
              "    <div>\n",
              "<style scoped>\n",
              "    .dataframe tbody tr th:only-of-type {\n",
              "        vertical-align: middle;\n",
              "    }\n",
              "\n",
              "    .dataframe tbody tr th {\n",
              "        vertical-align: top;\n",
              "    }\n",
              "\n",
              "    .dataframe thead th {\n",
              "        text-align: right;\n",
              "    }\n",
              "</style>\n",
              "<table border=\"1\" class=\"dataframe\">\n",
              "  <thead>\n",
              "    <tr style=\"text-align: right;\">\n",
              "      <th></th>\n",
              "      <th>id</th>\n",
              "      <th>name</th>\n",
              "      <th>host_id</th>\n",
              "      <th>host_name</th>\n",
              "      <th>neighbourhood_group</th>\n",
              "      <th>neighbourhood</th>\n",
              "      <th>latitude</th>\n",
              "      <th>longitude</th>\n",
              "      <th>room_type</th>\n",
              "      <th>price</th>\n",
              "      <th>minimum_nights</th>\n",
              "      <th>number_of_reviews</th>\n",
              "      <th>last_review</th>\n",
              "      <th>reviews_per_month</th>\n",
              "      <th>calculated_host_listings_count</th>\n",
              "      <th>availability_365</th>\n",
              "    </tr>\n",
              "  </thead>\n",
              "  <tbody>\n",
              "    <tr>\n",
              "      <th>0</th>\n",
              "      <td>2539</td>\n",
              "      <td>Clean &amp; quiet apt home by the park</td>\n",
              "      <td>2787</td>\n",
              "      <td>John</td>\n",
              "      <td>Brooklyn</td>\n",
              "      <td>Kensington</td>\n",
              "      <td>40.64749</td>\n",
              "      <td>-73.97237</td>\n",
              "      <td>Private room</td>\n",
              "      <td>149</td>\n",
              "      <td>1</td>\n",
              "      <td>9</td>\n",
              "      <td>2018-10-19</td>\n",
              "      <td>0.21</td>\n",
              "      <td>6</td>\n",
              "      <td>365</td>\n",
              "    </tr>\n",
              "    <tr>\n",
              "      <th>1</th>\n",
              "      <td>2595</td>\n",
              "      <td>Skylit Midtown Castle</td>\n",
              "      <td>2845</td>\n",
              "      <td>Jennifer</td>\n",
              "      <td>Manhattan</td>\n",
              "      <td>Midtown</td>\n",
              "      <td>40.75362</td>\n",
              "      <td>-73.98377</td>\n",
              "      <td>Entire home/apt</td>\n",
              "      <td>225</td>\n",
              "      <td>1</td>\n",
              "      <td>45</td>\n",
              "      <td>2019-05-21</td>\n",
              "      <td>0.38</td>\n",
              "      <td>2</td>\n",
              "      <td>355</td>\n",
              "    </tr>\n",
              "    <tr>\n",
              "      <th>2</th>\n",
              "      <td>3647</td>\n",
              "      <td>THE VILLAGE OF HARLEM....NEW YORK !</td>\n",
              "      <td>4632</td>\n",
              "      <td>Elisabeth</td>\n",
              "      <td>Manhattan</td>\n",
              "      <td>Harlem</td>\n",
              "      <td>40.80902</td>\n",
              "      <td>-73.94190</td>\n",
              "      <td>Private room</td>\n",
              "      <td>150</td>\n",
              "      <td>3</td>\n",
              "      <td>0</td>\n",
              "      <td>NaN</td>\n",
              "      <td>NaN</td>\n",
              "      <td>1</td>\n",
              "      <td>365</td>\n",
              "    </tr>\n",
              "    <tr>\n",
              "      <th>3</th>\n",
              "      <td>3831</td>\n",
              "      <td>Cozy Entire Floor of Brownstone</td>\n",
              "      <td>4869</td>\n",
              "      <td>LisaRoxanne</td>\n",
              "      <td>Brooklyn</td>\n",
              "      <td>Clinton Hill</td>\n",
              "      <td>40.68514</td>\n",
              "      <td>-73.95976</td>\n",
              "      <td>Entire home/apt</td>\n",
              "      <td>89</td>\n",
              "      <td>1</td>\n",
              "      <td>270</td>\n",
              "      <td>2019-07-05</td>\n",
              "      <td>4.64</td>\n",
              "      <td>1</td>\n",
              "      <td>194</td>\n",
              "    </tr>\n",
              "    <tr>\n",
              "      <th>4</th>\n",
              "      <td>5022</td>\n",
              "      <td>Entire Apt: Spacious Studio/Loft by central park</td>\n",
              "      <td>7192</td>\n",
              "      <td>Laura</td>\n",
              "      <td>Manhattan</td>\n",
              "      <td>East Harlem</td>\n",
              "      <td>40.79851</td>\n",
              "      <td>-73.94399</td>\n",
              "      <td>Entire home/apt</td>\n",
              "      <td>80</td>\n",
              "      <td>10</td>\n",
              "      <td>9</td>\n",
              "      <td>2018-11-19</td>\n",
              "      <td>0.10</td>\n",
              "      <td>1</td>\n",
              "      <td>0</td>\n",
              "    </tr>\n",
              "  </tbody>\n",
              "</table>\n",
              "</div>\n",
              "    <div class=\"colab-df-buttons\">\n",
              "\n",
              "  <div class=\"colab-df-container\">\n",
              "    <button class=\"colab-df-convert\" onclick=\"convertToInteractive('df-5ef4d56e-b4c5-4278-9fd0-2a46c69cef74')\"\n",
              "            title=\"Convert this dataframe to an interactive table.\"\n",
              "            style=\"display:none;\">\n",
              "\n",
              "  <svg xmlns=\"http://www.w3.org/2000/svg\" height=\"24px\" viewBox=\"0 -960 960 960\">\n",
              "    <path d=\"M120-120v-720h720v720H120Zm60-500h600v-160H180v160Zm220 220h160v-160H400v160Zm0 220h160v-160H400v160ZM180-400h160v-160H180v160Zm440 0h160v-160H620v160ZM180-180h160v-160H180v160Zm440 0h160v-160H620v160Z\"/>\n",
              "  </svg>\n",
              "    </button>\n",
              "\n",
              "  <style>\n",
              "    .colab-df-container {\n",
              "      display:flex;\n",
              "      gap: 12px;\n",
              "    }\n",
              "\n",
              "    .colab-df-convert {\n",
              "      background-color: #E8F0FE;\n",
              "      border: none;\n",
              "      border-radius: 50%;\n",
              "      cursor: pointer;\n",
              "      display: none;\n",
              "      fill: #1967D2;\n",
              "      height: 32px;\n",
              "      padding: 0 0 0 0;\n",
              "      width: 32px;\n",
              "    }\n",
              "\n",
              "    .colab-df-convert:hover {\n",
              "      background-color: #E2EBFA;\n",
              "      box-shadow: 0px 1px 2px rgba(60, 64, 67, 0.3), 0px 1px 3px 1px rgba(60, 64, 67, 0.15);\n",
              "      fill: #174EA6;\n",
              "    }\n",
              "\n",
              "    .colab-df-buttons div {\n",
              "      margin-bottom: 4px;\n",
              "    }\n",
              "\n",
              "    [theme=dark] .colab-df-convert {\n",
              "      background-color: #3B4455;\n",
              "      fill: #D2E3FC;\n",
              "    }\n",
              "\n",
              "    [theme=dark] .colab-df-convert:hover {\n",
              "      background-color: #434B5C;\n",
              "      box-shadow: 0px 1px 3px 1px rgba(0, 0, 0, 0.15);\n",
              "      filter: drop-shadow(0px 1px 2px rgba(0, 0, 0, 0.3));\n",
              "      fill: #FFFFFF;\n",
              "    }\n",
              "  </style>\n",
              "\n",
              "    <script>\n",
              "      const buttonEl =\n",
              "        document.querySelector('#df-5ef4d56e-b4c5-4278-9fd0-2a46c69cef74 button.colab-df-convert');\n",
              "      buttonEl.style.display =\n",
              "        google.colab.kernel.accessAllowed ? 'block' : 'none';\n",
              "\n",
              "      async function convertToInteractive(key) {\n",
              "        const element = document.querySelector('#df-5ef4d56e-b4c5-4278-9fd0-2a46c69cef74');\n",
              "        const dataTable =\n",
              "          await google.colab.kernel.invokeFunction('convertToInteractive',\n",
              "                                                    [key], {});\n",
              "        if (!dataTable) return;\n",
              "\n",
              "        const docLinkHtml = 'Like what you see? Visit the ' +\n",
              "          '<a target=\"_blank\" href=https://colab.research.google.com/notebooks/data_table.ipynb>data table notebook</a>'\n",
              "          + ' to learn more about interactive tables.';\n",
              "        element.innerHTML = '';\n",
              "        dataTable['output_type'] = 'display_data';\n",
              "        await google.colab.output.renderOutput(dataTable, element);\n",
              "        const docLink = document.createElement('div');\n",
              "        docLink.innerHTML = docLinkHtml;\n",
              "        element.appendChild(docLink);\n",
              "      }\n",
              "    </script>\n",
              "  </div>\n",
              "\n",
              "\n",
              "<div id=\"df-5cbf321a-80af-4de1-9abe-3a70fea81089\">\n",
              "  <button class=\"colab-df-quickchart\" onclick=\"quickchart('df-5cbf321a-80af-4de1-9abe-3a70fea81089')\"\n",
              "            title=\"Suggest charts\"\n",
              "            style=\"display:none;\">\n",
              "\n",
              "<svg xmlns=\"http://www.w3.org/2000/svg\" height=\"24px\"viewBox=\"0 0 24 24\"\n",
              "     width=\"24px\">\n",
              "    <g>\n",
              "        <path d=\"M19 3H5c-1.1 0-2 .9-2 2v14c0 1.1.9 2 2 2h14c1.1 0 2-.9 2-2V5c0-1.1-.9-2-2-2zM9 17H7v-7h2v7zm4 0h-2V7h2v10zm4 0h-2v-4h2v4z\"/>\n",
              "    </g>\n",
              "</svg>\n",
              "  </button>\n",
              "\n",
              "<style>\n",
              "  .colab-df-quickchart {\n",
              "      --bg-color: #E8F0FE;\n",
              "      --fill-color: #1967D2;\n",
              "      --hover-bg-color: #E2EBFA;\n",
              "      --hover-fill-color: #174EA6;\n",
              "      --disabled-fill-color: #AAA;\n",
              "      --disabled-bg-color: #DDD;\n",
              "  }\n",
              "\n",
              "  [theme=dark] .colab-df-quickchart {\n",
              "      --bg-color: #3B4455;\n",
              "      --fill-color: #D2E3FC;\n",
              "      --hover-bg-color: #434B5C;\n",
              "      --hover-fill-color: #FFFFFF;\n",
              "      --disabled-bg-color: #3B4455;\n",
              "      --disabled-fill-color: #666;\n",
              "  }\n",
              "\n",
              "  .colab-df-quickchart {\n",
              "    background-color: var(--bg-color);\n",
              "    border: none;\n",
              "    border-radius: 50%;\n",
              "    cursor: pointer;\n",
              "    display: none;\n",
              "    fill: var(--fill-color);\n",
              "    height: 32px;\n",
              "    padding: 0;\n",
              "    width: 32px;\n",
              "  }\n",
              "\n",
              "  .colab-df-quickchart:hover {\n",
              "    background-color: var(--hover-bg-color);\n",
              "    box-shadow: 0 1px 2px rgba(60, 64, 67, 0.3), 0 1px 3px 1px rgba(60, 64, 67, 0.15);\n",
              "    fill: var(--button-hover-fill-color);\n",
              "  }\n",
              "\n",
              "  .colab-df-quickchart-complete:disabled,\n",
              "  .colab-df-quickchart-complete:disabled:hover {\n",
              "    background-color: var(--disabled-bg-color);\n",
              "    fill: var(--disabled-fill-color);\n",
              "    box-shadow: none;\n",
              "  }\n",
              "\n",
              "  .colab-df-spinner {\n",
              "    border: 2px solid var(--fill-color);\n",
              "    border-color: transparent;\n",
              "    border-bottom-color: var(--fill-color);\n",
              "    animation:\n",
              "      spin 1s steps(1) infinite;\n",
              "  }\n",
              "\n",
              "  @keyframes spin {\n",
              "    0% {\n",
              "      border-color: transparent;\n",
              "      border-bottom-color: var(--fill-color);\n",
              "      border-left-color: var(--fill-color);\n",
              "    }\n",
              "    20% {\n",
              "      border-color: transparent;\n",
              "      border-left-color: var(--fill-color);\n",
              "      border-top-color: var(--fill-color);\n",
              "    }\n",
              "    30% {\n",
              "      border-color: transparent;\n",
              "      border-left-color: var(--fill-color);\n",
              "      border-top-color: var(--fill-color);\n",
              "      border-right-color: var(--fill-color);\n",
              "    }\n",
              "    40% {\n",
              "      border-color: transparent;\n",
              "      border-right-color: var(--fill-color);\n",
              "      border-top-color: var(--fill-color);\n",
              "    }\n",
              "    60% {\n",
              "      border-color: transparent;\n",
              "      border-right-color: var(--fill-color);\n",
              "    }\n",
              "    80% {\n",
              "      border-color: transparent;\n",
              "      border-right-color: var(--fill-color);\n",
              "      border-bottom-color: var(--fill-color);\n",
              "    }\n",
              "    90% {\n",
              "      border-color: transparent;\n",
              "      border-bottom-color: var(--fill-color);\n",
              "    }\n",
              "  }\n",
              "</style>\n",
              "\n",
              "  <script>\n",
              "    async function quickchart(key) {\n",
              "      const quickchartButtonEl =\n",
              "        document.querySelector('#' + key + ' button');\n",
              "      quickchartButtonEl.disabled = true;  // To prevent multiple clicks.\n",
              "      quickchartButtonEl.classList.add('colab-df-spinner');\n",
              "      try {\n",
              "        const charts = await google.colab.kernel.invokeFunction(\n",
              "            'suggestCharts', [key], {});\n",
              "      } catch (error) {\n",
              "        console.error('Error during call to suggestCharts:', error);\n",
              "      }\n",
              "      quickchartButtonEl.classList.remove('colab-df-spinner');\n",
              "      quickchartButtonEl.classList.add('colab-df-quickchart-complete');\n",
              "    }\n",
              "    (() => {\n",
              "      let quickchartButtonEl =\n",
              "        document.querySelector('#df-5cbf321a-80af-4de1-9abe-3a70fea81089 button');\n",
              "      quickchartButtonEl.style.display =\n",
              "        google.colab.kernel.accessAllowed ? 'block' : 'none';\n",
              "    })();\n",
              "  </script>\n",
              "</div>\n",
              "\n",
              "    </div>\n",
              "  </div>\n"
            ],
            "application/vnd.google.colaboratory.intrinsic+json": {
              "type": "dataframe",
              "variable_name": "airbnb_df",
              "summary": "{\n  \"name\": \"airbnb_df\",\n  \"rows\": 48895,\n  \"fields\": [\n    {\n      \"column\": \"id\",\n      \"properties\": {\n        \"dtype\": \"number\",\n        \"std\": 10983108,\n        \"min\": 2539,\n        \"max\": 36487245,\n        \"num_unique_values\": 48895,\n        \"samples\": [\n          317905,\n          34205267,\n          12342297\n        ],\n        \"semantic_type\": \"\",\n        \"description\": \"\"\n      }\n    },\n    {\n      \"column\": \"name\",\n      \"properties\": {\n        \"dtype\": \"string\",\n        \"num_unique_values\": 47905,\n        \"samples\": [\n          \"Luxurious Penthouse 3bed/2bath Apt w/Gym, Doorman\",\n          \"MANHATTAN LIVING!\",\n          \"Wonderful private room near Two Bridges II\"\n        ],\n        \"semantic_type\": \"\",\n        \"description\": \"\"\n      }\n    },\n    {\n      \"column\": \"host_id\",\n      \"properties\": {\n        \"dtype\": \"number\",\n        \"std\": 78610967,\n        \"min\": 2438,\n        \"max\": 274321313,\n        \"num_unique_values\": 37457,\n        \"samples\": [\n          1504257,\n          5592151,\n          208938947\n        ],\n        \"semantic_type\": \"\",\n        \"description\": \"\"\n      }\n    },\n    {\n      \"column\": \"host_name\",\n      \"properties\": {\n        \"dtype\": \"category\",\n        \"num_unique_values\": 11452,\n        \"samples\": [\n          \"Eki\",\n          \"Laine\",\n          \"Elen\"\n        ],\n        \"semantic_type\": \"\",\n        \"description\": \"\"\n      }\n    },\n    {\n      \"column\": \"neighbourhood_group\",\n      \"properties\": {\n        \"dtype\": \"category\",\n        \"num_unique_values\": 5,\n        \"samples\": [\n          \"Manhattan\",\n          \"Bronx\",\n          \"Queens\"\n        ],\n        \"semantic_type\": \"\",\n        \"description\": \"\"\n      }\n    },\n    {\n      \"column\": \"neighbourhood\",\n      \"properties\": {\n        \"dtype\": \"category\",\n        \"num_unique_values\": 221,\n        \"samples\": [\n          \"Stuyvesant Town\",\n          \"Eltingville\",\n          \"Stapleton\"\n        ],\n        \"semantic_type\": \"\",\n        \"description\": \"\"\n      }\n    },\n    {\n      \"column\": \"latitude\",\n      \"properties\": {\n        \"dtype\": \"number\",\n        \"std\": 0.054530078057371915,\n        \"min\": 40.49979,\n        \"max\": 40.91306,\n        \"num_unique_values\": 19048,\n        \"samples\": [\n          40.75913,\n          40.68314,\n          40.72126\n        ],\n        \"semantic_type\": \"\",\n        \"description\": \"\"\n      }\n    },\n    {\n      \"column\": \"longitude\",\n      \"properties\": {\n        \"dtype\": \"number\",\n        \"std\": 0.04615673610637153,\n        \"min\": -74.24442,\n        \"max\": -73.71299,\n        \"num_unique_values\": 14718,\n        \"samples\": [\n          -73.88892,\n          -73.87851,\n          -73.97175\n        ],\n        \"semantic_type\": \"\",\n        \"description\": \"\"\n      }\n    },\n    {\n      \"column\": \"room_type\",\n      \"properties\": {\n        \"dtype\": \"category\",\n        \"num_unique_values\": 3,\n        \"samples\": [\n          \"Private room\",\n          \"Entire home/apt\",\n          \"Shared room\"\n        ],\n        \"semantic_type\": \"\",\n        \"description\": \"\"\n      }\n    },\n    {\n      \"column\": \"price\",\n      \"properties\": {\n        \"dtype\": \"number\",\n        \"std\": 240,\n        \"min\": 0,\n        \"max\": 10000,\n        \"num_unique_values\": 674,\n        \"samples\": [\n          519,\n          675,\n          488\n        ],\n        \"semantic_type\": \"\",\n        \"description\": \"\"\n      }\n    },\n    {\n      \"column\": \"minimum_nights\",\n      \"properties\": {\n        \"dtype\": \"number\",\n        \"std\": 20,\n        \"min\": 1,\n        \"max\": 1250,\n        \"num_unique_values\": 109,\n        \"samples\": [\n          160,\n          60,\n          2\n        ],\n        \"semantic_type\": \"\",\n        \"description\": \"\"\n      }\n    },\n    {\n      \"column\": \"number_of_reviews\",\n      \"properties\": {\n        \"dtype\": \"number\",\n        \"std\": 44,\n        \"min\": 0,\n        \"max\": 629,\n        \"num_unique_values\": 394,\n        \"samples\": [\n          12,\n          144,\n          314\n        ],\n        \"semantic_type\": \"\",\n        \"description\": \"\"\n      }\n    },\n    {\n      \"column\": \"last_review\",\n      \"properties\": {\n        \"dtype\": \"object\",\n        \"num_unique_values\": 1764,\n        \"samples\": [\n          \"2016-07-26\",\n          \"2018-05-21\",\n          \"2019-02-27\"\n        ],\n        \"semantic_type\": \"\",\n        \"description\": \"\"\n      }\n    },\n    {\n      \"column\": \"reviews_per_month\",\n      \"properties\": {\n        \"dtype\": \"number\",\n        \"std\": 1.6804419952744725,\n        \"min\": 0.01,\n        \"max\": 58.5,\n        \"num_unique_values\": 937,\n        \"samples\": [\n          1.7,\n          0.28,\n          2.14\n        ],\n        \"semantic_type\": \"\",\n        \"description\": \"\"\n      }\n    },\n    {\n      \"column\": \"calculated_host_listings_count\",\n      \"properties\": {\n        \"dtype\": \"number\",\n        \"std\": 32,\n        \"min\": 1,\n        \"max\": 327,\n        \"num_unique_values\": 47,\n        \"samples\": [\n          37,\n          17,\n          121\n        ],\n        \"semantic_type\": \"\",\n        \"description\": \"\"\n      }\n    },\n    {\n      \"column\": \"availability_365\",\n      \"properties\": {\n        \"dtype\": \"number\",\n        \"std\": 131,\n        \"min\": 0,\n        \"max\": 365,\n        \"num_unique_values\": 366,\n        \"samples\": [\n          335,\n          309,\n          249\n        ],\n        \"semantic_type\": \"\",\n        \"description\": \"\"\n      }\n    }\n  ]\n}"
            }
          },
          "metadata": {},
          "execution_count": 6
        }
      ]
    },
    {
      "cell_type": "markdown",
      "source": [
        "### Dataset Rows & Columns count"
      ],
      "metadata": {
        "id": "7hBIi_osiCS2"
      }
    },
    {
      "cell_type": "code",
      "source": [
        "# Dataset Rows & Columns count\n",
        "shape=airbnb_df.shape\n",
        "print( \"No. of Rows and Columns in Dataset are :\", shape)"
      ],
      "metadata": {
        "id": "Kllu7SJgmLij",
        "colab": {
          "base_uri": "https://localhost:8080/"
        },
        "outputId": "0e6d9855-26b2-4714-a848-f213b9914007"
      },
      "execution_count": 7,
      "outputs": [
        {
          "output_type": "stream",
          "name": "stdout",
          "text": [
            "No. of Rows and Columns in Dataset are : (48895, 16)\n"
          ]
        }
      ]
    },
    {
      "cell_type": "markdown",
      "source": [
        "### Dataset Information"
      ],
      "metadata": {
        "id": "JlHwYmJAmNHm"
      }
    },
    {
      "cell_type": "code",
      "source": [
        "# Dataset Info\n",
        "print(\"Dataset Info :\")\n",
        "airbnb_df.info()"
      ],
      "metadata": {
        "id": "e9hRXRi6meOf",
        "colab": {
          "base_uri": "https://localhost:8080/"
        },
        "outputId": "6900d9cc-b1bb-4c38-c4b5-ccf1c440fb6d"
      },
      "execution_count": 8,
      "outputs": [
        {
          "output_type": "stream",
          "name": "stdout",
          "text": [
            "Dataset Info :\n",
            "<class 'pandas.core.frame.DataFrame'>\n",
            "RangeIndex: 48895 entries, 0 to 48894\n",
            "Data columns (total 16 columns):\n",
            " #   Column                          Non-Null Count  Dtype  \n",
            "---  ------                          --------------  -----  \n",
            " 0   id                              48895 non-null  int64  \n",
            " 1   name                            48879 non-null  object \n",
            " 2   host_id                         48895 non-null  int64  \n",
            " 3   host_name                       48874 non-null  object \n",
            " 4   neighbourhood_group             48895 non-null  object \n",
            " 5   neighbourhood                   48895 non-null  object \n",
            " 6   latitude                        48895 non-null  float64\n",
            " 7   longitude                       48895 non-null  float64\n",
            " 8   room_type                       48895 non-null  object \n",
            " 9   price                           48895 non-null  int64  \n",
            " 10  minimum_nights                  48895 non-null  int64  \n",
            " 11  number_of_reviews               48895 non-null  int64  \n",
            " 12  last_review                     38843 non-null  object \n",
            " 13  reviews_per_month               38843 non-null  float64\n",
            " 14  calculated_host_listings_count  48895 non-null  int64  \n",
            " 15  availability_365                48895 non-null  int64  \n",
            "dtypes: float64(3), int64(7), object(6)\n",
            "memory usage: 6.0+ MB\n"
          ]
        }
      ]
    },
    {
      "cell_type": "markdown",
      "source": [
        "#### Duplicate Values"
      ],
      "metadata": {
        "id": "35m5QtbWiB9F"
      }
    },
    {
      "cell_type": "code",
      "source": [
        "# Dataset Duplicate Value Count\n",
        "length = len(airbnb_df[airbnb_df.duplicated()])\n",
        "print(\"Dupilcate Value Count is :\", length)"
      ],
      "metadata": {
        "id": "1sLdpKYkmox0",
        "colab": {
          "base_uri": "https://localhost:8080/"
        },
        "outputId": "ef9da979-d183-44fe-c3b2-7e8dbe05b9a4"
      },
      "execution_count": 9,
      "outputs": [
        {
          "output_type": "stream",
          "name": "stdout",
          "text": [
            "Dupilcate Value Count is : 0\n"
          ]
        }
      ]
    },
    {
      "cell_type": "markdown",
      "source": [
        "#### Missing Values/Null Values"
      ],
      "metadata": {
        "id": "PoPl-ycgm1ru"
      }
    },
    {
      "cell_type": "code",
      "source": [
        "# Missing Values/Null Values Count\n",
        "print(\"Missing Values/Null Values Count :\")\n",
        "print(airbnb_df.isnull().sum())"
      ],
      "metadata": {
        "id": "GgHWkxvamxVg",
        "colab": {
          "base_uri": "https://localhost:8080/"
        },
        "outputId": "5eedcf2f-d03d-4309-de69-11ce2554cf24"
      },
      "execution_count": 10,
      "outputs": [
        {
          "output_type": "stream",
          "name": "stdout",
          "text": [
            "Missing Values/Null Values Count :\n",
            "id                                    0\n",
            "name                                 16\n",
            "host_id                               0\n",
            "host_name                            21\n",
            "neighbourhood_group                   0\n",
            "neighbourhood                         0\n",
            "latitude                              0\n",
            "longitude                             0\n",
            "room_type                             0\n",
            "price                                 0\n",
            "minimum_nights                        0\n",
            "number_of_reviews                     0\n",
            "last_review                       10052\n",
            "reviews_per_month                 10052\n",
            "calculated_host_listings_count        0\n",
            "availability_365                      0\n",
            "dtype: int64\n"
          ]
        }
      ]
    },
    {
      "cell_type": "code",
      "source": [
        "# Visualizing the missing values\n",
        "plt.figure(figsize=(10, 6))\n",
        "sns.heatmap(airbnb_df.isnull(), cmap='viridis', cbar=False, yticklabels=False)\n",
        "plt.title('Missing Values in Airbnb Dataset')\n",
        "plt.show()"
      ],
      "metadata": {
        "id": "3q5wnI3om9sJ",
        "colab": {
          "base_uri": "https://localhost:8080/",
          "height": 741
        },
        "outputId": "d995c203-be08-444e-c8b2-8e8dffd52aa8"
      },
      "execution_count": 11,
      "outputs": [
        {
          "output_type": "display_data",
          "data": {
            "text/plain": [
              "<Figure size 1000x600 with 1 Axes>"
            ],
            "image/png": "[encoded data removed]"
          },
          "metadata": {}
        }
      ]
    },
    {
      "cell_type": "markdown",
      "source": [
        "### What did you know about your dataset?"
      ],
      "metadata": {
        "id": "H0kj-8xxnORC"
      }
    },
    {
      "cell_type": "markdown",
      "source": [
        "**DATASET OVERVIEW** :\n",
        "\n",
        "The Airbnb booking dataset comprises of 48895 rows and 16 columns, each representing a unique booking. Features include host details, neighborhood information, room types, prices, availability, and reviews.\n",
        "\n",
        "**Key Features Examined** :\n",
        "\n",
        "Identification of features such as \"host_id,\" \"neighbourhood_group,\" \"room_type,\" \"price,\" and \"availability_365\" for analysis. Exploration of categorical features like \"neighbourhood_group\" ,\"neighbourhood\"and \"room_type\" for insights into listing distribution.\n",
        "\n",
        "**Missing Values** :\n",
        "\n",
        "Notable missing values in the \"last_review\" and \"reviews_per_month\" column were observed, warranting further investigation.\n",
        "\n",
        "**Duplicate Values** :\n",
        "There are no duplicate values in the dataset.\n",
        "\n",
        "**Data Types Check** :\n",
        "\n",
        "Evaluation of data types ensured proper handling of numeric, categorical, and datetime features.\n",
        "\n",
        "**Foundation for Analysis** :\n",
        "\n",
        "This initial exploration forms the basis for in-depth analysis, hypothesis testing, and deriving insights from the Airbnb booking dataset.Answer Here"
      ],
      "metadata": {
        "id": "gfoNAAC-nUe_"
      }
    },
    {
      "cell_type": "markdown",
      "source": [
        "## ***2. Understanding Your Variables***"
      ],
      "metadata": {
        "id": "nA9Y7ga8ng1Z"
      }
    },
    {
      "cell_type": "code",
      "source": [
        "# Dataset Columns\n",
        "column_names=list(airbnb_df.columns)\n",
        "print(\"Columns present in Dataset are :\")\n",
        "column_names"
      ],
      "metadata": {
        "id": "j7xfkqrt5Ag5",
        "colab": {
          "base_uri": "https://localhost:8080/"
        },
        "outputId": "056e822a-a5a6-4d73-d87b-535f19247db6"
      },
      "execution_count": 12,
      "outputs": [
        {
          "output_type": "stream",
          "name": "stdout",
          "text": [
            "Columns present in Dataset are :\n"
          ]
        },
        {
          "output_type": "execute_result",
          "data": {
            "text/plain": [
              "['id',\n",
              " 'name',\n",
              " 'host_id',\n",
              " 'host_name',\n",
              " 'neighbourhood_group',\n",
              " 'neighbourhood',\n",
              " 'latitude',\n",
              " 'longitude',\n",
              " 'room_type',\n",
              " 'price',\n",
              " 'minimum_nights',\n",
              " 'number_of_reviews',\n",
              " 'last_review',\n",
              " 'reviews_per_month',\n",
              " 'calculated_host_listings_count',\n",
              " 'availability_365']"
            ]
          },
          "metadata": {},
          "execution_count": 12
        }
      ]
    },
    {
      "cell_type": "code",
      "source": [
        "# Dataset Describe\n",
        "airbnb_df.describe()"
      ],
      "metadata": {
        "id": "DnOaZdaE5Q5t",
        "colab": {
          "base_uri": "https://localhost:8080/",
          "height": 320
        },
        "outputId": "38e9af81-8d15-47b0-f3b9-a51c4820d121"
      },
      "execution_count": 13,
      "outputs": [
        {
          "output_type": "execute_result",
          "data": {
            "text/plain": [
              "                 id       host_id      latitude     longitude         price  \\\n",
              "count  4.889500e+04  4.889500e+04  48895.000000  48895.000000  48895.000000   \n",
              "mean   1.901714e+07  6.762001e+07     40.728949    -73.952170    152.720687   \n",
              "std    1.098311e+07  7.861097e+07      0.054530      0.046157    240.154170   \n",
              "min    2.539000e+03  2.438000e+03     40.499790    -74.244420      0.000000   \n",
              "25%    9.471945e+06  7.822033e+06     40.690100    -73.983070     69.000000   \n",
              "50%    1.967728e+07  3.079382e+07     40.723070    -73.955680    106.000000   \n",
              "75%    2.915218e+07  1.074344e+08     40.763115    -73.936275    175.000000   \n",
              "max    3.648724e+07  2.743213e+08     40.913060    -73.712990  10000.000000   \n",
              "\n",
              "       minimum_nights  number_of_reviews  reviews_per_month  \\\n",
              "count    48895.000000       48895.000000       38843.000000   \n",
              "mean         7.029962          23.274466           1.373221   \n",
              "std         20.510550          44.550582           1.680442   \n",
              "min          1.000000           0.000000           0.010000   \n",
              "25%          1.000000           1.000000           0.190000   \n",
              "50%          3.000000           5.000000           0.720000   \n",
              "75%          5.000000          24.000000           2.020000   \n",
              "max       1250.000000         629.000000          58.500000   \n",
              "\n",
              "       calculated_host_listings_count  availability_365  \n",
              "count                    48895.000000      48895.000000  \n",
              "mean                         7.143982        112.781327  \n",
              "std                         32.952519        131.622289  \n",
              "min                          1.000000          0.000000  \n",
              "25%                          1.000000          0.000000  \n",
              "50%                          1.000000         45.000000  \n",
              "75%                          2.000000        227.000000  \n",
              "max                        327.000000        365.000000  "
            ],
            "text/html": [
              "\n",
              "  <div id=\"df-35442ed1-f4fb-4a28-b21c-3ba449363832\" class=\"colab-df-container\">\n",
              "    <div>\n",
              "<style scoped>\n",
              "    .dataframe tbody tr th:only-of-type {\n",
              "        vertical-align: middle;\n",
              "    }\n",
              "\n",
              "    .dataframe tbody tr th {\n",
              "        vertical-align: top;\n",
              "    }\n",
              "\n",
              "    .dataframe thead th {\n",
              "        text-align: right;\n",
              "    }\n",
              "</style>\n",
              "<table border=\"1\" class=\"dataframe\">\n",
              "  <thead>\n",
              "    <tr style=\"text-align: right;\">\n",
              "      <th></th>\n",
              "      <th>id</th>\n",
              "      <th>host_id</th>\n",
              "      <th>latitude</th>\n",
              "      <th>longitude</th>\n",
              "      <th>price</th>\n",
              "      <th>minimum_nights</th>\n",
              "      <th>number_of_reviews</th>\n",
              "      <th>reviews_per_month</th>\n",
              "      <th>calculated_host_listings_count</th>\n",
              "      <th>availability_365</th>\n",
              "    </tr>\n",
              "  </thead>\n",
              "  <tbody>\n",
              "    <tr>\n",
              "      <th>count</th>\n",
              "      <td>4.889500e+04</td>\n",
              "      <td>4.889500e+04</td>\n",
              "      <td>48895.000000</td>\n",
              "      <td>48895.000000</td>\n",
              "      <td>48895.000000</td>\n",
              "      <td>48895.000000</td>\n",
              "      <td>48895.000000</td>\n",
              "      <td>38843.000000</td>\n",
              "      <td>48895.000000</td>\n",
              "      <td>48895.000000</td>\n",
              "    </tr>\n",
              "    <tr>\n",
              "      <th>mean</th>\n",
              "      <td>1.901714e+07</td>\n",
              "      <td>6.762001e+07</td>\n",
              "      <td>40.728949</td>\n",
              "      <td>-73.952170</td>\n",
              "      <td>152.720687</td>\n",
              "      <td>7.029962</td>\n",
              "      <td>23.274466</td>\n",
              "      <td>1.373221</td>\n",
              "      <td>7.143982</td>\n",
              "      <td>112.781327</td>\n",
              "    </tr>\n",
              "    <tr>\n",
              "      <th>std</th>\n",
              "      <td>1.098311e+07</td>\n",
              "      <td>7.861097e+07</td>\n",
              "      <td>0.054530</td>\n",
              "      <td>0.046157</td>\n",
              "      <td>240.154170</td>\n",
              "      <td>20.510550</td>\n",
              "      <td>44.550582</td>\n",
              "      <td>1.680442</td>\n",
              "      <td>32.952519</td>\n",
              "      <td>131.622289</td>\n",
              "    </tr>\n",
              "    <tr>\n",
              "      <th>min</th>\n",
              "      <td>2.539000e+03</td>\n",
              "      <td>2.438000e+03</td>\n",
              "      <td>40.499790</td>\n",
              "      <td>-74.244420</td>\n",
              "      <td>0.000000</td>\n",
              "      <td>1.000000</td>\n",
              "      <td>0.000000</td>\n",
              "      <td>0.010000</td>\n",
              "      <td>1.000000</td>\n",
              "      <td>0.000000</td>\n",
              "    </tr>\n",
              "    <tr>\n",
              "      <th>25%</th>\n",
              "      <td>9.471945e+06</td>\n",
              "      <td>7.822033e+06</td>\n",
              "      <td>40.690100</td>\n",
              "      <td>-73.983070</td>\n",
              "      <td>69.000000</td>\n",
              "      <td>1.000000</td>\n",
              "      <td>1.000000</td>\n",
              "      <td>0.190000</td>\n",
              "      <td>1.000000</td>\n",
              "      <td>0.000000</td>\n",
              "    </tr>\n",
              "    <tr>\n",
              "      <th>50%</th>\n",
              "      <td>1.967728e+07</td>\n",
              "      <td>3.079382e+07</td>\n",
              "      <td>40.723070</td>\n",
              "      <td>-73.955680</td>\n",
              "      <td>106.000000</td>\n",
              "      <td>3.000000</td>\n",
              "      <td>5.000000</td>\n",
              "      <td>0.720000</td>\n",
              "      <td>1.000000</td>\n",
              "      <td>45.000000</td>\n",
              "    </tr>\n",
              "    <tr>\n",
              "      <th>75%</th>\n",
              "      <td>2.915218e+07</td>\n",
              "      <td>1.074344e+08</td>\n",
              "      <td>40.763115</td>\n",
              "      <td>-73.936275</td>\n",
              "      <td>175.000000</td>\n",
              "      <td>5.000000</td>\n",
              "      <td>24.000000</td>\n",
              "      <td>2.020000</td>\n",
              "      <td>2.000000</td>\n",
              "      <td>227.000000</td>\n",
              "    </tr>\n",
              "    <tr>\n",
              "      <th>max</th>\n",
              "      <td>3.648724e+07</td>\n",
              "      <td>2.743213e+08</td>\n",
              "      <td>40.913060</td>\n",
              "      <td>-73.712990</td>\n",
              "      <td>10000.000000</td>\n",
              "      <td>1250.000000</td>\n",
              "      <td>629.000000</td>\n",
              "      <td>58.500000</td>\n",
              "      <td>327.000000</td>\n",
              "      <td>365.000000</td>\n",
              "    </tr>\n",
              "  </tbody>\n",
              "</table>\n",
              "</div>\n",
              "    <div class=\"colab-df-buttons\">\n",
              "\n",
              "  <div class=\"colab-df-container\">\n",
              "    <button class=\"colab-df-convert\" onclick=\"convertToInteractive('df-35442ed1-f4fb-4a28-b21c-3ba449363832')\"\n",
              "            title=\"Convert this dataframe to an interactive table.\"\n",
              "            style=\"display:none;\">\n",
              "\n",
              "  <svg xmlns=\"http://www.w3.org/2000/svg\" height=\"24px\" viewBox=\"0 -960 960 960\">\n",
              "    <path d=\"M120-120v-720h720v720H120Zm60-500h600v-160H180v160Zm220 220h160v-160H400v160Zm0 220h160v-160H400v160ZM180-400h160v-160H180v160Zm440 0h160v-160H620v160ZM180-180h160v-160H180v160Zm440 0h160v-160H620v160Z\"/>\n",
              "  </svg>\n",
              "    </button>\n",
              "\n",
              "  <style>\n",
              "    .colab-df-container {\n",
              "      display:flex;\n",
              "      gap: 12px;\n",
              "    }\n",
              "\n",
              "    .colab-df-convert {\n",
              "      background-color: #E8F0FE;\n",
              "      border: none;\n",
              "      border-radius: 50%;\n",
              "      cursor: pointer;\n",
              "      display: none;\n",
              "      fill: #1967D2;\n",
              "      height: 32px;\n",
              "      padding: 0 0 0 0;\n",
              "      width: 32px;\n",
              "    }\n",
              "\n",
              "    .colab-df-convert:hover {\n",
              "      background-color: #E2EBFA;\n",
              "      box-shadow: 0px 1px 2px rgba(60, 64, 67, 0.3), 0px 1px 3px 1px rgba(60, 64, 67, 0.15);\n",
              "      fill: #174EA6;\n",
              "    }\n",
              "\n",
              "    .colab-df-buttons div {\n",
              "      margin-bottom: 4px;\n",
              "    }\n",
              "\n",
              "    [theme=dark] .colab-df-convert {\n",
              "      background-color: #3B4455;\n",
              "      fill: #D2E3FC;\n",
              "    }\n",
              "\n",
              "    [theme=dark] .colab-df-convert:hover {\n",
              "      background-color: #434B5C;\n",
              "      box-shadow: 0px 1px 3px 1px rgba(0, 0, 0, 0.15);\n",
              "      filter: drop-shadow(0px 1px 2px rgba(0, 0, 0, 0.3));\n",
              "      fill: #FFFFFF;\n",
              "    }\n",
              "  </style>\n",
              "\n",
              "    <script>\n",
              "      const buttonEl =\n",
              "        document.querySelector('#df-35442ed1-f4fb-4a28-b21c-3ba449363832 button.colab-df-convert');\n",
              "      buttonEl.style.display =\n",
              "        google.colab.kernel.accessAllowed ? 'block' : 'none';\n",
              "\n",
              "      async function convertToInteractive(key) {\n",
              "        const element = document.querySelector('#df-35442ed1-f4fb-4a28-b21c-3ba449363832');\n",
              "        const dataTable =\n",
              "          await google.colab.kernel.invokeFunction('convertToInteractive',\n",
              "                                                    [key], {});\n",
              "        if (!dataTable) return;\n",
              "\n",
              "        const docLinkHtml = 'Like what you see? Visit the ' +\n",
              "          '<a target=\"_blank\" href=https://colab.research.google.com/notebooks/data_table.ipynb>data table notebook</a>'\n",
              "          + ' to learn more about interactive tables.';\n",
              "        element.innerHTML = '';\n",
              "        dataTable['output_type'] = 'display_data';\n",
              "        await google.colab.output.renderOutput(dataTable, element);\n",
              "        const docLink = document.createElement('div');\n",
              "        docLink.innerHTML = docLinkHtml;\n",
              "        element.appendChild(docLink);\n",
              "      }\n",
              "    </script>\n",
              "  </div>\n",
              "\n",
              "\n",
              "<div id=\"df-4ef6d3a9-880a-4fb4-995c-200e09c317ba\">\n",
              "  <button class=\"colab-df-quickchart\" onclick=\"quickchart('df-4ef6d3a9-880a-4fb4-995c-200e09c317ba')\"\n",
              "            title=\"Suggest charts\"\n",
              "            style=\"display:none;\">\n",
              "\n",
              "<svg xmlns=\"http://www.w3.org/2000/svg\" height=\"24px\"viewBox=\"0 0 24 24\"\n",
              "     width=\"24px\">\n",
              "    <g>\n",
              "        <path d=\"M19 3H5c-1.1 0-2 .9-2 2v14c0 1.1.9 2 2 2h14c1.1 0 2-.9 2-2V5c0-1.1-.9-2-2-2zM9 17H7v-7h2v7zm4 0h-2V7h2v10zm4 0h-2v-4h2v4z\"/>\n",
              "    </g>\n",
              "</svg>\n",
              "  </button>\n",
              "\n",
              "<style>\n",
              "  .colab-df-quickchart {\n",
              "      --bg-color: #E8F0FE;\n",
              "      --fill-color: #1967D2;\n",
              "      --hover-bg-color: #E2EBFA;\n",
              "      --hover-fill-color: #174EA6;\n",
              "      --disabled-fill-color: #AAA;\n",
              "      --disabled-bg-color: #DDD;\n",
              "  }\n",
              "\n",
              "  [theme=dark] .colab-df-quickchart {\n",
              "      --bg-color: #3B4455;\n",
              "      --fill-color: #D2E3FC;\n",
              "      --hover-bg-color: #434B5C;\n",
              "      --hover-fill-color: #FFFFFF;\n",
              "      --disabled-bg-color: #3B4455;\n",
              "      --disabled-fill-color: #666;\n",
              "  }\n",
              "\n",
              "  .colab-df-quickchart {\n",
              "    background-color: var(--bg-color);\n",
              "    border: none;\n",
              "    border-radius: 50%;\n",
              "    cursor: pointer;\n",
              "    display: none;\n",
              "    fill: var(--fill-color);\n",
              "    height: 32px;\n",
              "    padding: 0;\n",
              "    width: 32px;\n",
              "  }\n",
              "\n",
              "  .colab-df-quickchart:hover {\n",
              "    background-color: var(--hover-bg-color);\n",
              "    box-shadow: 0 1px 2px rgba(60, 64, 67, 0.3), 0 1px 3px 1px rgba(60, 64, 67, 0.15);\n",
              "    fill: var(--button-hover-fill-color);\n",
              "  }\n",
              "\n",
              "  .colab-df-quickchart-complete:disabled,\n",
              "  .colab-df-quickchart-complete:disabled:hover {\n",
              "    background-color: var(--disabled-bg-color);\n",
              "    fill: var(--disabled-fill-color);\n",
              "    box-shadow: none;\n",
              "  }\n",
              "\n",
              "  .colab-df-spinner {\n",
              "    border: 2px solid var(--fill-color);\n",
              "    border-color: transparent;\n",
              "    border-bottom-color: var(--fill-color);\n",
              "    animation:\n",
              "      spin 1s steps(1) infinite;\n",
              "  }\n",
              "\n",
              "  @keyframes spin {\n",
              "    0% {\n",
              "      border-color: transparent;\n",
              "      border-bottom-color: var(--fill-color);\n",
              "      border-left-color: var(--fill-color);\n",
              "    }\n",
              "    20% {\n",
              "      border-color: transparent;\n",
              "      border-left-color: var(--fill-color);\n",
              "      border-top-color: var(--fill-color);\n",
              "    }\n",
              "    30% {\n",
              "      border-color: transparent;\n",
              "      border-left-color: var(--fill-color);\n",
              "      border-top-color: var(--fill-color);\n",
              "      border-right-color: var(--fill-color);\n",
              "    }\n",
              "    40% {\n",
              "      border-color: transparent;\n",
              "      border-right-color: var(--fill-color);\n",
              "      border-top-color: var(--fill-color);\n",
              "    }\n",
              "    60% {\n",
              "      border-color: transparent;\n",
              "      border-right-color: var(--fill-color);\n",
              "    }\n",
              "    80% {\n",
              "      border-color: transparent;\n",
              "      border-right-color: var(--fill-color);\n",
              "      border-bottom-color: var(--fill-color);\n",
              "    }\n",
              "    90% {\n",
              "      border-color: transparent;\n",
              "      border-bottom-color: var(--fill-color);\n",
              "    }\n",
              "  }\n",
              "</style>\n",
              "\n",
              "  <script>\n",
              "    async function quickchart(key) {\n",
              "      const quickchartButtonEl =\n",
              "        document.querySelector('#' + key + ' button');\n",
              "      quickchartButtonEl.disabled = true;  // To prevent multiple clicks.\n",
              "      quickchartButtonEl.classList.add('colab-df-spinner');\n",
              "      try {\n",
              "        const charts = await google.colab.kernel.invokeFunction(\n",
              "            'suggestCharts', [key], {});\n",
              "      } catch (error) {\n",
              "        console.error('Error during call to suggestCharts:', error);\n",
              "      }\n",
              "      quickchartButtonEl.classList.remove('colab-df-spinner');\n",
              "      quickchartButtonEl.classList.add('colab-df-quickchart-complete');\n",
              "    }\n",
              "    (() => {\n",
              "      let quickchartButtonEl =\n",
              "        document.querySelector('#df-4ef6d3a9-880a-4fb4-995c-200e09c317ba button');\n",
              "      quickchartButtonEl.style.display =\n",
              "        google.colab.kernel.accessAllowed ? 'block' : 'none';\n",
              "    })();\n",
              "  </script>\n",
              "</div>\n",
              "\n",
              "    </div>\n",
              "  </div>\n"
            ],
            "application/vnd.google.colaboratory.intrinsic+json": {
              "type": "dataframe",
              "summary": "{\n  \"name\": \"airbnb_df\",\n  \"rows\": 8,\n  \"fields\": [\n    {\n      \"column\": \"id\",\n      \"properties\": {\n        \"dtype\": \"number\",\n        \"std\": 13050593.07756437,\n        \"min\": 2539.0,\n        \"max\": 36487245.0,\n        \"num_unique_values\": 8,\n        \"samples\": [\n          19017143.236179568,\n          19677284.0,\n          48895.0\n        ],\n        \"semantic_type\": \"\",\n        \"description\": \"\"\n      }\n    },\n    {\n      \"column\": \"host_id\",\n      \"properties\": {\n        \"dtype\": \"number\",\n        \"std\": 91353984.9812982,\n        \"min\": 2438.0,\n        \"max\": 274321313.0,\n        \"num_unique_values\": 8,\n        \"samples\": [\n          67620010.64661008,\n          30793816.0,\n          48895.0\n        ],\n        \"semantic_type\": \"\",\n        \"description\": \"\"\n      }\n    },\n    {\n      \"column\": \"latitude\",\n      \"properties\": {\n        \"dtype\": \"number\",\n        \"std\": 17274.65621338401,\n        \"min\": 0.054530078057371915,\n        \"max\": 48895.0,\n        \"num_unique_values\": 8,\n        \"samples\": [\n          40.72894888066264,\n          40.72307,\n          48895.0\n        ],\n        \"semantic_type\": \"\",\n        \"description\": \"\"\n      }\n    },\n    {\n      \"column\": \"longitude\",\n      \"properties\": {\n        \"dtype\": \"number\",\n        \"std\": 17309.4245840868,\n        \"min\": -74.24442,\n        \"max\": 48895.0,\n        \"num_unique_values\": 8,\n        \"samples\": [\n          -73.95216961468454,\n          -73.95568,\n          48895.0\n        ],\n        \"semantic_type\": \"\",\n        \"description\": \"\"\n      }\n    },\n    {\n      \"column\": \"price\",\n      \"properties\": {\n        \"dtype\": \"number\",\n        \"std\": 17097.469027198676,\n        \"min\": 0.0,\n        \"max\": 48895.0,\n        \"num_unique_values\": 8,\n        \"samples\": [\n          152.7206871868289,\n          106.0,\n          48895.0\n        ],\n        \"semantic_type\": \"\",\n        \"description\": \"\"\n      }\n    },\n    {\n      \"column\": \"minimum_nights\",\n      \"properties\": {\n        \"dtype\": \"number\",\n        \"std\": 17227.46192058729,\n        \"min\": 1.0,\n        \"max\": 48895.0,\n        \"num_unique_values\": 7,\n        \"samples\": [\n          48895.0,\n          7.029962163820431,\n          5.0\n        ],\n        \"semantic_type\": \"\",\n        \"description\": \"\"\n      }\n    },\n    {\n      \"column\": \"number_of_reviews\",\n      \"properties\": {\n        \"dtype\": \"number\",\n        \"std\": 17251.621473766536,\n        \"min\": 0.0,\n        \"max\": 48895.0,\n        \"num_unique_values\": 8,\n        \"samples\": [\n          23.274465691788528,\n          5.0,\n          48895.0\n        ],\n        \"semantic_type\": \"\",\n        \"description\": \"\"\n      }\n    },\n    {\n      \"column\": \"reviews_per_month\",\n      \"properties\": {\n        \"dtype\": \"number\",\n        \"std\": 13729.83169025149,\n        \"min\": 0.01,\n        \"max\": 38843.0,\n        \"num_unique_values\": 8,\n        \"samples\": [\n          1.3732214298586618,\n          0.72,\n          38843.0\n        ],\n        \"semantic_type\": \"\",\n        \"description\": \"\"\n      }\n    },\n    {\n      \"column\": \"calculated_host_listings_count\",\n      \"properties\": {\n        \"dtype\": \"number\",\n        \"std\": 17268.564537091872,\n        \"min\": 1.0,\n        \"max\": 48895.0,\n        \"num_unique_values\": 6,\n        \"samples\": [\n          48895.0,\n          7.143982002249719,\n          327.0\n        ],\n        \"semantic_type\": \"\",\n        \"description\": \"\"\n      }\n    },\n    {\n      \"column\": \"availability_365\",\n      \"properties\": {\n        \"dtype\": \"number\",\n        \"std\": 17242.913879680455,\n        \"min\": 0.0,\n        \"max\": 48895.0,\n        \"num_unique_values\": 7,\n        \"samples\": [\n          48895.0,\n          112.78132733408324,\n          227.0\n        ],\n        \"semantic_type\": \"\",\n        \"description\": \"\"\n      }\n    }\n  ]\n}"
            }
          },
          "metadata": {},
          "execution_count": 13
        }
      ]
    },
    {
      "cell_type": "markdown",
      "source": [
        "### Variables Description"
      ],
      "metadata": {
        "id": "PBTbrJXOngz2"
      }
    },
    {
      "cell_type": "markdown",
      "source": [
        " *   **id** - Unique ID\n",
        " *  **name** - Name of the listing\n",
        " *   **host_id** - Unique host_id\n",
        " *   **host_name** - Name of the host\n",
        " *   **neighbourhood_group** - Location\n",
        " *   **neighborhood** - Area\n",
        " *   **latitude** - Latitude range\n",
        " *   **longitude** - Longitude range\n",
        " *   **room_type** - Type of listing\n",
        " *   **price** - Price of listing\n",
        " *   **minimum_nights** - Minimum nights to be paid for\n",
        " *   **number_of_reviews** - Number of reviews\n",
        " *   **last_review** - Content of the last review\n",
        " *   **reviews_per_month** - Number of checks per month\n",
        " *   **calculated_host_listing_count** -Total count\n",
        " *   **availability_365** - Availability around the year\n",
        "\n",
        "\n",
        "\n",
        "\n",
        "\n",
        "\n",
        "\n",
        "\n",
        "\n",
        "\n",
        "\n",
        "\n",
        "\n",
        "\n",
        "\n",
        "\n",
        "\n",
        "\n"
      ],
      "metadata": {
        "id": "aJV4KIxSnxay"
      }
    },
    {
      "cell_type": "markdown",
      "source": [
        "### Check Unique Values for each variable."
      ],
      "metadata": {
        "id": "u3PMJOP6ngxN"
      }
    },
    {
      "cell_type": "code",
      "source": [
        "# Check Unique Values for each variable.\n",
        "\n",
        "for i in airbnb_df.columns.tolist():\n",
        "  print(\"No. of unique values in \",i,\" = \",airbnb_df[i].nunique(),)"
      ],
      "metadata": {
        "id": "zms12Yq5n-jE",
        "colab": {
          "base_uri": "https://localhost:8080/"
        },
        "outputId": "c44ea26c-e99f-453d-9743-22f035ea00da"
      },
      "execution_count": 14,
      "outputs": [
        {
          "output_type": "stream",
          "name": "stdout",
          "text": [
            "No. of unique values in  id  =  48895\n",
            "No. of unique values in  name  =  47905\n",
            "No. of unique values in  host_id  =  37457\n",
            "No. of unique values in  host_name  =  11452\n",
            "No. of unique values in  neighbourhood_group  =  5\n",
            "No. of unique values in  neighbourhood  =  221\n",
            "No. of unique values in  latitude  =  19048\n",
            "No. of unique values in  longitude  =  14718\n",
            "No. of unique values in  room_type  =  3\n",
            "No. of unique values in  price  =  674\n",
            "No. of unique values in  minimum_nights  =  109\n",
            "No. of unique values in  number_of_reviews  =  394\n",
            "No. of unique values in  last_review  =  1764\n",
            "No. of unique values in  reviews_per_month  =  937\n",
            "No. of unique values in  calculated_host_listings_count  =  47\n",
            "No. of unique values in  availability_365  =  366\n"
          ]
        }
      ]
    },
    {
      "cell_type": "markdown",
      "source": [
        "## 3. ***Data Wrangling***"
      ],
      "metadata": {
        "id": "dauF4eBmngu3"
      }
    },
    {
      "cell_type": "markdown",
      "source": [
        "### Data Wrangling Code"
      ],
      "metadata": {
        "id": "bKJF3rekwFvQ"
      }
    },
    {
      "cell_type": "code",
      "source": [
        "#Data Cleaning\n",
        "# Checking how many columns has NA/NaN values\n",
        "columns_with_nan = airbnb_df.columns[airbnb_df.isna().any()].tolist()\n",
        "print(\"List of Columns contain NA values :\", columns_with_nan)\n",
        "\n",
        "# Replacing NA values where possible\n",
        "airbnb_df['reviews_per_month'].fillna(0, inplace=True)# replacing Na values with 0 in reviews per month\n",
        "airbnb_df['name'].replace('', None, inplace=True)# replacing '' (blank space) with None in name\n",
        "airbnb_df['host_name'].replace('', None, inplace=True)# replacing '' (blank space) with None in host_name\n",
        "airbnb_df['last_review'].fillna(pd.NaT, inplace=True)# replacing '' (blank space) values with NaT in last_review\n",
        ""
      ],
      "metadata": {
        "id": "wk-9a2fpoLcV",
        "colab": {
          "base_uri": "https://localhost:8080/"
        },
        "outputId": "99436c04-6d34-4f1e-f90d-55d619bfabc2"
      },
      "execution_count": 15,
      "outputs": [
        {
          "output_type": "stream",
          "name": "stdout",
          "text": [
            "List of Columns contain NA values : ['name', 'host_name', 'last_review', 'reviews_per_month']\n"
          ]
        }
      ]
    },
    {
      "cell_type": "code",
      "source": [
        "# Cheking Neighbourhood Group\n",
        "\n",
        "# Checking for all Unique neighbourhood_group available\n",
        "unique_neighbourhood_group = airbnb_df['neighbourhood_group'].value_counts()\n",
        "print(\"There are\",airbnb_df['neighbourhood_group'].nunique(),\"Unique Neighbourhood Group present in Dataset , each accompanied by its respective count :\")\n",
        "print(unique_neighbourhood_group)\n",
        "print(\"---------------------------------------------------------------------\")\n",
        "\n",
        "# Checking the count of neighbourhood within EACH neighbourhood group\n",
        "unique_neighbourhood = airbnb_df.groupby('neighbourhood_group')['neighbourhood'].nunique()\n",
        "print(\"Count of Neighbourhood present within each Neighbourhood Group :\")\n",
        "print(unique_neighbourhood)\n",
        "print(\"---------------------------------------------------------------------\")\n",
        "\n",
        "# Average price of each room type in each neighbourhood group\n",
        "ngroup_rtype_avg_price = airbnb_df.groupby(['neighbourhood_group','room_type']).describe()['price']['mean'].round(2)\n",
        "print(\"Average Price of each Room Type in each Neighbourhood Group :\")\n",
        "print(ngroup_rtype_avg_price)\n",
        "print(\"---------------------------------------------------------------------\")\n",
        "\n",
        "# Average no. of Minimum nights for each Room Type in each Neighbourhood Group\n",
        "ngroup_rtype_avg_night = airbnb_df.groupby(['neighbourhood_group','room_type']).describe()['minimum_nights']['mean'].astype(int)\n",
        "print(' Average no. of Minimum nights for each Room Type in each Neighbourhood Group')\n",
        "print(ngroup_rtype_avg_night)\n",
        "print(\"---------------------------------------------------------------------\")\n",
        "\n",
        "# Average Number of Reviews for each Room Type in each Neighbourhood Group\n",
        "ngroup_rtype_avg_reviews = airbnb_df.groupby(['neighbourhood_group','room_type']).describe()['number_of_reviews']['mean'].round(2)\n",
        "print(' Average Number of Reviews for each Room Type in each Neighbourhood Group')\n",
        "print(ngroup_rtype_avg_reviews)\n",
        "print(\"---------------------------------------------------------------------\")\n",
        "\n",
        "# Average Reviews Per Month for each Room Type in each Neighbourhood Group\n",
        "ngroup_rtype_avg_reviews_pm = airbnb_df.groupby(['neighbourhood_group','room_type']).describe()['reviews_per_month']['mean'].round(2)\n",
        "print(' Average Reviews Per Month for each Room Type in each Neighbourhood Group')\n",
        "print(ngroup_rtype_avg_reviews_pm)\n",
        "print(\"---------------------------------------------------------------------\")\n",
        "\n",
        "# Average Host listings count for each Room Type in each Neighbourhood Group\n",
        "ngroup_rtype_avg_host_listing_count = airbnb_df.groupby(['neighbourhood_group','room_type']).describe()['calculated_host_listings_count']['mean'].round(2)\n",
        "print(' Average Host listings count for each Room Type in each Neighbourhood Group')\n",
        "print(ngroup_rtype_avg_host_listing_count)\n",
        ""
      ],
      "metadata": {
        "colab": {
          "base_uri": "https://localhost:8080/"
        },
        "id": "RbmjN2XTz_Fw",
        "outputId": "73926032-b74b-446e-c278-017bb026dd04"
      },
      "execution_count": 16,
      "outputs": [
        {
          "output_type": "stream",
          "name": "stdout",
          "text": [
            "There are 5 Unique Neighbourhood Group present in Dataset , each accompanied by its respective count :\n",
            "neighbourhood_group\n",
            "Manhattan        21661\n",
            "Brooklyn         20104\n",
            "Queens            5666\n",
            "Bronx             1091\n",
            "Staten Island      373\n",
            "Name: count, dtype: int64\n",
            "---------------------------------------------------------------------\n",
            "Count of Neighbourhood present within each Neighbourhood Group :\n",
            "neighbourhood_group\n",
            "Bronx            48\n",
            "Brooklyn         47\n",
            "Manhattan        32\n",
            "Queens           51\n",
            "Staten Island    43\n",
            "Name: neighbourhood, dtype: int64\n",
            "---------------------------------------------------------------------\n",
            "Average Price of each Room Type in each Neighbourhood Group :\n",
            "neighbourhood_group  room_type      \n",
            "Bronx                Entire home/apt    127.51\n",
            "                     Private room        66.79\n",
            "                     Shared room         59.80\n",
            "Brooklyn             Entire home/apt    178.33\n",
            "                     Private room        76.50\n",
            "                     Shared room         50.53\n",
            "Manhattan            Entire home/apt    249.24\n",
            "                     Private room       116.78\n",
            "                     Shared room         88.98\n",
            "Queens               Entire home/apt    147.05\n",
            "                     Private room        71.76\n",
            "                     Shared room         69.02\n",
            "Staten Island        Entire home/apt    173.85\n",
            "                     Private room        62.29\n",
            "                     Shared room         57.44\n",
            "Name: mean, dtype: float64\n",
            "---------------------------------------------------------------------\n",
            " Average no. of Minimum nights for each Room Type in each Neighbourhood Group\n",
            "neighbourhood_group  room_type      \n",
            "Bronx                Entire home/apt     5\n",
            "                     Private room        3\n",
            "                     Shared room         3\n",
            "Brooklyn             Entire home/apt     6\n",
            "                     Private room        5\n",
            "                     Shared room         7\n",
            "Manhattan            Entire home/apt    10\n",
            "                     Private room        5\n",
            "                     Shared room         6\n",
            "Queens               Entire home/apt     5\n",
            "                     Private room        5\n",
            "                     Shared room         4\n",
            "Staten Island        Entire home/apt     6\n",
            "                     Private room        3\n",
            "                     Shared room         2\n",
            "Name: mean, dtype: int64\n",
            "---------------------------------------------------------------------\n",
            " Average Number of Reviews for each Room Type in each Neighbourhood Group\n",
            "neighbourhood_group  room_type      \n",
            "Bronx                Entire home/apt    30.68\n",
            "                     Private room       25.02\n",
            "                     Shared room         7.20\n",
            "Brooklyn             Entire home/apt    27.95\n",
            "                     Private room       21.09\n",
            "                     Shared room        14.03\n",
            "Manhattan            Entire home/apt    17.82\n",
            "                     Private room       26.20\n",
            "                     Shared room        21.40\n",
            "Queens               Entire home/apt    28.93\n",
            "                     Private room       27.75\n",
            "                     Shared room        13.86\n",
            "Staten Island        Entire home/apt    33.28\n",
            "                     Private room       30.16\n",
            "                     Shared room         1.56\n",
            "Name: mean, dtype: float64\n",
            "---------------------------------------------------------------------\n",
            " Average Reviews Per Month for each Room Type in each Neighbourhood Group\n",
            "neighbourhood_group  room_type      \n",
            "Bronx                Entire home/apt    1.82\n",
            "                     Private room       1.32\n",
            "                     Shared room        0.97\n",
            "Brooklyn             Entire home/apt    1.13\n",
            "                     Private room       0.99\n",
            "                     Shared room        0.75\n",
            "Manhattan            Entire home/apt    0.86\n",
            "                     Private room       1.15\n",
            "                     Shared room        1.33\n",
            "Queens               Entire home/apt    1.64\n",
            "                     Private room       1.55\n",
            "                     Shared room        1.17\n",
            "Staten Island        Entire home/apt    1.77\n",
            "                     Private room       1.44\n",
            "                     Shared room        0.74\n",
            "Name: mean, dtype: float64\n",
            "---------------------------------------------------------------------\n",
            " Average Host listings count for each Room Type in each Neighbourhood Group\n",
            "neighbourhood_group  room_type      \n",
            "Bronx                Entire home/apt     1.87\n",
            "                     Private room        2.34\n",
            "                     Shared room         3.42\n",
            "Brooklyn             Entire home/apt     1.84\n",
            "                     Private room        2.55\n",
            "                     Shared room         6.17\n",
            "Manhattan            Entire home/apt    18.92\n",
            "                     Private room        3.19\n",
            "                     Shared room         3.89\n",
            "Queens               Entire home/apt     1.68\n",
            "                     Private room        5.56\n",
            "                     Shared room         3.74\n",
            "Staten Island        Entire home/apt     1.60\n",
            "                     Private room        2.84\n",
            "                     Shared room         5.56\n",
            "Name: mean, dtype: float64\n"
          ]
        }
      ]
    },
    {
      "cell_type": "code",
      "source": [
        "# Cheking Room Type\n",
        "\n",
        "# Cheking the count of unique room type present\n",
        "unique_room_type = airbnb_df['room_type'].value_counts()\n",
        "print(\"There are\",airbnb_df['room_type'].nunique(),\"Unique Room Type present in Dataset,each accompanied by its respective count :\")\n",
        "print(unique_room_type)\n",
        "print(\"---------------------------------------------------------- \")\n",
        "\n",
        "# Checking Average(mean) price for each room type\n",
        "room_type_avg_price = airbnb_df.groupby('room_type').describe()['price']['mean'].round(2)\n",
        "print(\"Average Price of each Room type present :\")\n",
        "print(room_type_avg_price)\n",
        "print(\"------------------------------------------------------------\")\n",
        "\n",
        "# Checking Average(mean) number of minimum nights for each room type\n",
        "room_type_avg_nights=airbnb_df.groupby('room_type').describe()['minimum_nights']['mean'].astype(int)\n",
        "print(\"Average Number of Minimum Nights for each room type present :\")\n",
        "print(room_type_avg_nights)\n",
        "print(\"------------------------------------------------------------\")#60\n",
        "\n",
        "# Checking Average(mean) number of reviews for each room type\n",
        "room_type_avg_reviews = airbnb_df.groupby('room_type').describe()['number_of_reviews']['mean'].round(2)\n",
        "print(\"Average Number of Reviews for each room type present :\")\n",
        "print(room_type_avg_reviews)\n",
        "print(\"------------------------------------------------------------\")\n",
        "\n",
        "# Max no of reviews received by each room_type\n",
        "room_type_max_review = airbnb_df.groupby('room_type').describe()['number_of_reviews']['max']\n",
        "print(\"Maximum Number of Reviews received by each room type\")\n",
        "print(room_type_max_review)\n",
        "print(\"------------------------------------------------------------\")\n",
        "\n",
        "# Average Reviews per month received by each room_type\n",
        "room_type_avg_reviews_pm = airbnb_df.groupby('room_type').describe()['reviews_per_month']['mean'].round(2)\n",
        "print(\"Average Number of Reviews per Month for each room type present :\")\n",
        "print(room_type_avg_reviews_pm)\n",
        "print(\"------------------------------------------------------------\")\n",
        "\n",
        "# Average number of host listings count for each room type\n",
        "print(\"Average number of Host listings count for each room type :\")\n",
        "room_type_avg_host_listing_count = airbnb_df.groupby('room_type').describe()['calculated_host_listings_count']['mean'].round(2)\n",
        "print(room_type_avg_host_listing_count)"
      ],
      "metadata": {
        "colab": {
          "base_uri": "https://localhost:8080/"
        },
        "id": "Q2SOSmd10M_H",
        "outputId": "5ecd6c44-dca3-44fc-93e9-8c69860ce151"
      },
      "execution_count": 17,
      "outputs": [
        {
          "output_type": "stream",
          "name": "stdout",
          "text": [
            "There are 3 Unique Room Type present in Dataset,each accompanied by its respective count :\n",
            "room_type\n",
            "Entire home/apt    25409\n",
            "Private room       22326\n",
            "Shared room         1160\n",
            "Name: count, dtype: int64\n",
            "---------------------------------------------------------- \n",
            "Average Price of each Room type present :\n",
            "room_type\n",
            "Entire home/apt    211.79\n",
            "Private room        89.78\n",
            "Shared room         70.13\n",
            "Name: mean, dtype: float64\n",
            "------------------------------------------------------------\n",
            "Average Number of Minimum Nights for each room type present :\n",
            "room_type\n",
            "Entire home/apt    8\n",
            "Private room       5\n",
            "Shared room        6\n",
            "Name: mean, dtype: int64\n",
            "------------------------------------------------------------\n",
            "Average Number of Reviews for each room type present :\n",
            "room_type\n",
            "Entire home/apt    22.84\n",
            "Private room       24.11\n",
            "Shared room        16.60\n",
            "Name: mean, dtype: float64\n",
            "------------------------------------------------------------\n",
            "Maximum Number of Reviews received by each room type\n",
            "room_type\n",
            "Entire home/apt    488.0\n",
            "Private room       629.0\n",
            "Shared room        454.0\n",
            "Name: max, dtype: float64\n",
            "------------------------------------------------------------\n",
            "Average Number of Reviews per Month for each room type present :\n",
            "room_type\n",
            "Entire home/apt    1.05\n",
            "Private room       1.14\n",
            "Shared room        1.07\n",
            "Name: mean, dtype: float64\n",
            "------------------------------------------------------------\n",
            "Average number of Host listings count for each room type :\n",
            "room_type\n",
            "Entire home/apt    10.70\n",
            "Private room        3.23\n",
            "Shared room         4.66\n",
            "Name: mean, dtype: float64\n"
          ]
        }
      ]
    },
    {
      "cell_type": "code",
      "source": [
        "# Monthly Analysis based of last review\n",
        "\n",
        "# Examining how the Number of Bookings varies each Month based on the dates of the last reviews to understand any recurring trends.\n",
        "\n",
        "# Finding the 'last_review' months for each 'room_type' - By extracting month from last review\n",
        "airbnb_df['last_review'] = pd.to_datetime(airbnb_df['last_review']) # converting to DATETIME to use it as Date for extracting month\n",
        "airbnb_df['month'] = airbnb_df['last_review'].dt.month.astype(float) # Extracting month from last_review column using DATETIME dt.month\n",
        "\n",
        "# All months Bookings count for each room type\n",
        "booking_counts_by_room_type = airbnb_df.groupby(['room_type', 'month']).size().reset_index(name='booking_count')\n",
        "print(\"Count of Bookings made for each month across all room types.\")\n",
        "print(booking_counts_by_room_type)\n",
        "print('--------------------------------------------------------------')\n",
        "\n",
        "# Top 3 months with the maximum booking counts for each room type\n",
        "booking_counts_by_rtype=airbnb_df.groupby(['room_type', 'month']).size()\n",
        "top_3_months_by_room_type_max = booking_counts_by_rtype.groupby('room_type', group_keys=False).nlargest(3).reset_index(name='booking_count')\n",
        "print(\"Top 3 months for each room type when the maximum number of bookings occurred :\")\n",
        "print(top_3_months_by_room_type_max)\n",
        "print('----------------------------------------------------------')\n",
        "\n",
        "# Top 3 months with the minimum booking counts for each room type\n",
        "top_3_months_by_room_type_min = booking_counts_by_rtype.groupby('room_type', group_keys=False).nsmallest(3).reset_index(name='booking_count')\n",
        "print(\"Top 3 months for each room type when the minimum number of bookings occurred :\")\n",
        "print(top_3_months_by_room_type_min)\n",
        "print('-----------------------------------------------------------')\n",
        "\n",
        "# Analysing based on Each neighbourhood group\n",
        "\n",
        "# Means in all neighbourhood_group which room type got maximum booking count along with respective month of max booking\n",
        "# Top 3 Maximum Booking counts across all neighbourhood groups and room_type.\n",
        "booking_counts_by_room_type_in_ngroup = airbnb_df.groupby(['neighbourhood_group', 'room_type', 'month']).size().nlargest(3).reset_index(name='booking_count')\n",
        "print(\"Top 3 Maximum Booking counts across all neighbourhood groups and room types\")\n",
        "print(booking_counts_by_room_type_in_ngroup)\n",
        "print('--------------------------------------------------------------')\n",
        "\n",
        "# Maximum Booking count of each room type across all neighbourhood groups.\n",
        "booking_counts_by_each_room_type_in_ngrp = airbnb_df.groupby(['neighbourhood_group', 'room_type', 'month']).size().reset_index(name='booking_count')\n",
        "top3_by_room_type_in_ngrp = booking_counts_by_each_room_type_in_ngrp.groupby(['neighbourhood_group', 'room_type'], group_keys=False).apply(lambda x: x.nlargest(1, 'booking_count')).reset_index(drop=True)\n",
        "\n",
        "print(\"Months in which Maximum Booking is made for each room type across all neighbourhood groups\")\n",
        "print(top3_by_room_type_in_ngrp)"
      ],
      "metadata": {
        "colab": {
          "base_uri": "https://localhost:8080/"
        },
        "id": "53OrQEY_0bur",
        "outputId": "5cf04c31-ba86-4793-eda5-188cb8109b4e"
      },
      "execution_count": 18,
      "outputs": [
        {
          "output_type": "stream",
          "name": "stdout",
          "text": [
            "Count of Bookings made for each month across all room types.\n",
            "          room_type  month  booking_count\n",
            "0   Entire home/apt    1.0           1513\n",
            "1   Entire home/apt    2.0            390\n",
            "2   Entire home/apt    3.0            669\n",
            "3   Entire home/apt    4.0           1122\n",
            "4   Entire home/apt    5.0           2293\n",
            "5   Entire home/apt    6.0           7100\n",
            "6   Entire home/apt    7.0           3249\n",
            "7   Entire home/apt    8.0            911\n",
            "8   Entire home/apt    9.0            763\n",
            "9   Entire home/apt   10.0            735\n",
            "10  Entire home/apt   11.0            633\n",
            "11  Entire home/apt   12.0            954\n",
            "12     Private room    1.0           1227\n",
            "13     Private room    2.0            360\n",
            "14     Private room    3.0            595\n",
            "15     Private room    4.0            936\n",
            "16     Private room    5.0           2293\n",
            "17     Private room    6.0           6144\n",
            "18     Private room    7.0           2593\n",
            "19     Private room    8.0            727\n",
            "20     Private room    9.0            734\n",
            "21     Private room   10.0            773\n",
            "22     Private room   11.0            507\n",
            "23     Private room   12.0            776\n",
            "24      Shared room    1.0             33\n",
            "25      Shared room    2.0             20\n",
            "26      Shared room    3.0             24\n",
            "27      Shared room    4.0             51\n",
            "28      Shared room    5.0            115\n",
            "29      Shared room    6.0            345\n",
            "30      Shared room    7.0             95\n",
            "31      Shared room    8.0             29\n",
            "32      Shared room    9.0             38\n",
            "33      Shared room   10.0             38\n",
            "34      Shared room   11.0             18\n",
            "35      Shared room   12.0             40\n",
            "--------------------------------------------------------------\n",
            "Top 3 months for each room type when the maximum number of bookings occurred :\n",
            "         room_type  month  booking_count\n",
            "0  Entire home/apt    6.0           7100\n",
            "1  Entire home/apt    7.0           3249\n",
            "2  Entire home/apt    5.0           2293\n",
            "3     Private room    6.0           6144\n",
            "4     Private room    7.0           2593\n",
            "5     Private room    5.0           2293\n",
            "6      Shared room    6.0            345\n",
            "7      Shared room    5.0            115\n",
            "8      Shared room    7.0             95\n",
            "----------------------------------------------------------\n",
            "Top 3 months for each room type when the minimum number of bookings occurred :\n",
            "         room_type  month  booking_count\n",
            "0  Entire home/apt    2.0            390\n",
            "1  Entire home/apt   11.0            633\n",
            "2  Entire home/apt    3.0            669\n",
            "3     Private room    2.0            360\n",
            "4     Private room   11.0            507\n",
            "5     Private room    3.0            595\n",
            "6      Shared room   11.0             18\n",
            "7      Shared room    2.0             20\n",
            "8      Shared room    3.0             24\n",
            "-----------------------------------------------------------\n",
            "Top 3 Maximum Booking counts across all neighbourhood groups and room types\n",
            "  neighbourhood_group        room_type  month  booking_count\n",
            "0           Manhattan  Entire home/apt    6.0           3296\n",
            "1            Brooklyn  Entire home/apt    6.0           2889\n",
            "2            Brooklyn     Private room    6.0           2635\n",
            "--------------------------------------------------------------\n",
            "Months in which Maximum Booking is made for each room type across all neighbourhood groups\n",
            "   neighbourhood_group        room_type  month  booking_count\n",
            "0                Bronx  Entire home/apt    6.0            142\n",
            "1                Bronx     Private room    6.0            220\n",
            "2                Bronx      Shared room    6.0             16\n",
            "3             Brooklyn  Entire home/apt    6.0           2889\n",
            "4             Brooklyn     Private room    6.0           2635\n",
            "5             Brooklyn      Shared room    6.0            102\n",
            "6            Manhattan  Entire home/apt    6.0           3296\n",
            "7            Manhattan     Private room    6.0           2228\n",
            "8            Manhattan      Shared room    6.0            167\n",
            "9               Queens  Entire home/apt    6.0            703\n",
            "10              Queens     Private room    6.0           1004\n",
            "11              Queens      Shared room    6.0             59\n",
            "12       Staten Island  Entire home/apt    6.0             70\n",
            "13       Staten Island     Private room    6.0             57\n",
            "14       Staten Island      Shared room    2.0              1\n"
          ]
        }
      ]
    },
    {
      "cell_type": "code",
      "source": [
        "# Yearly Analysis based on last review\n",
        "\n",
        "# Convert 'last_review' to datetime\n",
        "airbnb_df['last_review'] = pd.to_datetime(airbnb_df['last_review'])\n",
        "\n",
        "# Extract Year and Month from 'last_review'\n",
        "airbnb_df['year'] = airbnb_df['last_review'].dt.year.astype(float).astype('Int64')\n",
        "\n",
        "\n",
        "# All years' Booking count for each room type\n",
        "booking_counts_by_room_type_yearly = airbnb_df.groupby(['room_type', 'year']).size().reset_index(name='booking_count_yearly')\n",
        "print(\"Count of Bookings made for each year across all room types.\")\n",
        "print(booking_counts_by_room_type_yearly)\n",
        "print('--------------------------------------------------------------')\n",
        "\n",
        "# Top 3 years with the maximum booking counts for each room type\n",
        "booking_counts_by_rtype_yearly = airbnb_df.groupby(['room_type', 'year']).size()\n",
        "top_3_years_by_room_type_max = booking_counts_by_rtype_yearly.groupby('room_type', group_keys=False).nlargest(3).reset_index(name='booking_count_yearly')\n",
        "print(\"Top 3 years for each room type when the maximum number of bookings occurred :\")\n",
        "print(top_3_years_by_room_type_max)\n",
        "print('----------------------------------------------------------')\n",
        "\n",
        "# Top 3 years with the minimum booking counts for each room type\n",
        "top_3_years_by_room_type_min = booking_counts_by_rtype_yearly.groupby('room_type', group_keys=False).nsmallest(3).reset_index(name='booking_count_yearly')\n",
        "print(\"Top 3 years for each room type when the minimum number of bookings occurred :\")\n",
        "print(top_3_years_by_room_type_min)\n",
        "print('-----------------------------------------------------------')\n",
        "\n",
        "# Analysing based on Each neighbourhood group\n",
        "\n",
        "# Means in all neighbourhood_group which room type got maximum booking count along with respective year of max booking\n",
        "# Top 3 Maximum Booking counts across all neighbourhood groups and room_type.\n",
        "booking_counts_by_room_type_in_ngroup_yearly = airbnb_df.groupby(['neighbourhood_group', 'room_type', 'year']).size().nlargest(3).reset_index(name='booking_count_yearly')\n",
        "print(\"Top 3 Most Booked room types across all neighbourhood groups over all years\")\n",
        "print(booking_counts_by_room_type_in_ngroup_yearly)\n",
        "print('--------------------------------------------------------------')\n",
        "\n",
        "# Maximum Booking count of each room type across all neighbourhood groups.\n",
        "booking_counts_by_each_room_type_in_ngrp_yearly = airbnb_df.groupby(['neighbourhood_group', 'room_type', 'year']).size().reset_index(name='booking_count_yearly')\n",
        "top3_by_room_type_in_ngrp_yearly = booking_counts_by_each_room_type_in_ngrp_yearly.groupby(['neighbourhood_group', 'room_type'], group_keys=False).apply(lambda x: x.nlargest(1, 'booking_count_yearly')).reset_index(drop=True)\n",
        "\n",
        "print(\"Year in which Maximum Booking is made for each room type across all neighbourhood groups\")\n",
        "print(top3_by_room_type_in_ngrp_yearly)"
      ],
      "metadata": {
        "colab": {
          "base_uri": "https://localhost:8080/"
        },
        "id": "6md9mZv-0ud8",
        "outputId": "ca7f0f5e-38ec-47f3-b5f5-e644e092a07a"
      },
      "execution_count": 20,
      "outputs": [
        {
          "output_type": "stream",
          "name": "stdout",
          "text": [
            "Count of Bookings made for each year across all room types.\n",
            "          room_type  year  booking_count_yearly\n",
            "0   Entire home/apt  2011                     2\n",
            "1   Entire home/apt  2012                    15\n",
            "2   Entire home/apt  2013                    33\n",
            "3   Entire home/apt  2014                   131\n",
            "4   Entire home/apt  2015                   735\n",
            "5   Entire home/apt  2016                  1496\n",
            "6   Entire home/apt  2017                  1580\n",
            "7   Entire home/apt  2018                  3074\n",
            "8   Entire home/apt  2019                 13266\n",
            "9      Private room  2011                     5\n",
            "10     Private room  2012                    10\n",
            "11     Private room  2013                    15\n",
            "12     Private room  2014                    65\n",
            "13     Private room  2015                   631\n",
            "14     Private room  2016                  1180\n",
            "15     Private room  2017                  1561\n",
            "16     Private room  2018                  2842\n",
            "17     Private room  2019                 11356\n",
            "18      Shared room  2014                     3\n",
            "19      Shared room  2015                    27\n",
            "20      Shared room  2016                    31\n",
            "21      Shared room  2017                    64\n",
            "22      Shared room  2018                   134\n",
            "23      Shared room  2019                   587\n",
            "--------------------------------------------------------------\n",
            "Top 3 years for each room type when the maximum number of bookings occurred :\n",
            "         room_type  year  booking_count_yearly\n",
            "0  Entire home/apt  2019                 13266\n",
            "1  Entire home/apt  2018                  3074\n",
            "2  Entire home/apt  2017                  1580\n",
            "3     Private room  2019                 11356\n",
            "4     Private room  2018                  2842\n",
            "5     Private room  2017                  1561\n",
            "6      Shared room  2019                   587\n",
            "7      Shared room  2018                   134\n",
            "8      Shared room  2017                    64\n",
            "----------------------------------------------------------\n",
            "Top 3 years for each room type when the minimum number of bookings occurred :\n",
            "         room_type  year  booking_count_yearly\n",
            "0  Entire home/apt  2011                     2\n",
            "1  Entire home/apt  2012                    15\n",
            "2  Entire home/apt  2013                    33\n",
            "3     Private room  2011                     5\n",
            "4     Private room  2012                    10\n",
            "5     Private room  2013                    15\n",
            "6      Shared room  2014                     3\n",
            "7      Shared room  2015                    27\n",
            "8      Shared room  2016                    31\n",
            "-----------------------------------------------------------\n",
            "Top 3 Most Booked room types across all neighbourhood groups over all years\n",
            "  neighbourhood_group        room_type  year  booking_count_yearly\n",
            "0           Manhattan  Entire home/apt  2019                  6170\n",
            "1            Brooklyn  Entire home/apt  2019                  5367\n",
            "2            Brooklyn     Private room  2019                  4910\n",
            "--------------------------------------------------------------\n",
            "Year in which Maximum Booking is made for each room type across all neighbourhood groups\n",
            "   neighbourhood_group        room_type  year  booking_count_yearly\n",
            "0                Bronx  Entire home/apt  2019                   261\n",
            "1                Bronx     Private room  2019                   404\n",
            "2                Bronx      Shared room  2019                    33\n",
            "3             Brooklyn  Entire home/apt  2019                  5367\n",
            "4             Brooklyn     Private room  2019                  4910\n",
            "5             Brooklyn      Shared room  2019                   189\n",
            "6            Manhattan  Entire home/apt  2019                  6170\n",
            "7            Manhattan     Private room  2019                  3901\n",
            "8            Manhattan      Shared room  2019                   251\n",
            "9               Queens  Entire home/apt  2019                  1335\n",
            "10              Queens     Private room  2019                  2009\n",
            "11              Queens      Shared room  2019                   112\n",
            "12       Staten Island  Entire home/apt  2019                   133\n",
            "13       Staten Island     Private room  2019                   132\n",
            "14       Staten Island      Shared room  2018                     3\n"
          ]
        }
      ]
    },
    {
      "cell_type": "code",
      "source": [
        "# Month with Maximum Bookings for each year in Entire home/apt,Private room and Shared room\n",
        "\n",
        "# Convert 'last_review' to datetime\n",
        "airbnb_df['last_review'] = pd.to_datetime(airbnb_df['last_review'])\n",
        "\n",
        "# Extract Year and Month from 'last_review'\n",
        "airbnb_df['year'] = airbnb_df['last_review'].dt.year.astype(float).astype('Int64')\n",
        "airbnb_df['month'] = airbnb_df['last_review'].dt.month.astype(float).astype('Int64')\n",
        "\n",
        "\n",
        "# Month with Maximum Bookings for each year in Entire home/apt\n",
        "entire_home_data = airbnb_df[airbnb_df['room_type'] == 'Entire home/apt']\n",
        "booking_counts_by_month_yearly = entire_home_data.groupby(['room_type','year', 'month']).size().reset_index(name='booking_count_monthly')\n",
        "\n",
        "# Find the month with the maximum bookings for each year\n",
        "max_booking_month_entire_home = booking_counts_by_month_yearly.loc[booking_counts_by_month_yearly.groupby(['year'])['booking_count_monthly'].idxmax()]\n",
        "\n",
        "print(\"Month with Maximum Bookings for each year in 'Entire home/apt':\")\n",
        "print(max_booking_month_entire_home)\n",
        "print('------------------------------------------------------------------------')\n",
        "\n",
        "# Month with Maximum Bookings for each year in Private room\n",
        "entire_private_data = airbnb_df[airbnb_df['room_type'] == 'Private room']\n",
        "booking_counts_by_month_yearly = entire_private_data.groupby(['room_type','year', 'month']).size().reset_index(name='booking_count_monthly')\n",
        "\n",
        "# Find the month with the maximum bookings for each year\n",
        "max_booking_month_private_room = booking_counts_by_month_yearly.loc[booking_counts_by_month_yearly.groupby(['year'])['booking_count_monthly'].idxmax()]\n",
        "\n",
        "print(\"Month with Maximum Bookings for each year in 'Private Room':\")\n",
        "print(max_booking_month_private_room)\n",
        "print('-------------------------------------------------------------------------')\n",
        "\n",
        "# Month with Maximum Bookings for each year in Shared room\n",
        "entire_shared_data = airbnb_df[airbnb_df['room_type'] == 'Shared room']\n",
        "booking_counts_by_month_yearly = entire_shared_data.groupby(['room_type','year', 'month']).size().reset_index(name='booking_count_monthly')\n",
        "\n",
        "# Find the month with the maximum bookings for each year\n",
        "max_booking_month_shared_room = booking_counts_by_month_yearly.loc[booking_counts_by_month_yearly.groupby(['year'])['booking_count_monthly'].idxmax()]\n",
        "\n",
        "print(\"Month with Maximum Bookings for each year in 'Shared Room':\")\n",
        "print(max_booking_month_shared_room)"
      ],
      "metadata": {
        "colab": {
          "base_uri": "https://localhost:8080/"
        },
        "id": "Nov0dUtU1HeM",
        "outputId": "146f18b5-3437-4004-dc39-f23b3a4da1ff"
      },
      "execution_count": 21,
      "outputs": [
        {
          "output_type": "stream",
          "name": "stdout",
          "text": [
            "Month with Maximum Bookings for each year in 'Entire home/apt':\n",
            "          room_type  year  month  booking_count_monthly\n",
            "0   Entire home/apt  2011     12                      2\n",
            "4   Entire home/apt  2012      9                      6\n",
            "14  Entire home/apt  2013      9                      7\n",
            "23  Entire home/apt  2014      8                     27\n",
            "39  Entire home/apt  2015     12                    120\n",
            "47  Entire home/apt  2016      8                    198\n",
            "63  Entire home/apt  2017     12                    205\n",
            "75  Entire home/apt  2018     12                    516\n",
            "81  Entire home/apt  2019      6                   6610\n",
            "------------------------------------------------------------------------\n",
            "Month with Maximum Bookings for each year in 'Private Room':\n",
            "       room_type  year  month  booking_count_monthly\n",
            "3   Private room  2011      9                      2\n",
            "8   Private room  2012     12                      4\n",
            "9   Private room  2013      5                      3\n",
            "25  Private room  2014      9                     13\n",
            "38  Private room  2015     10                    106\n",
            "41  Private room  2016      1                    157\n",
            "60  Private room  2017      8                    204\n",
            "76  Private room  2018     12                    411\n",
            "82  Private room  2019      6                   5662\n",
            "-------------------------------------------------------------------------\n",
            "Month with Maximum Bookings for each year in 'Shared Room':\n",
            "      room_type  year  month  booking_count_monthly\n",
            "0   Shared room  2014      1                      1\n",
            "6   Shared room  2015      8                      6\n",
            "18  Shared room  2016      9                      7\n",
            "33  Shared room  2017     12                     12\n",
            "43  Shared room  2018     10                     22\n",
            "51  Shared room  2019      6                    329\n"
          ]
        }
      ]
    },
    {
      "cell_type": "code",
      "source": [
        "# Distribution Analysis\n",
        "\n",
        "# 25%, 50%, and 75% Quartile Distribution of Prices Across All Neighborhoods and Room Types\n",
        "price_summary = airbnb_df.groupby(['neighbourhood_group','room_type'])['price'].describe(percentiles=[0.25, 0.5, 0.75])\n",
        "\n",
        "# Additional Observation: Interquartile Range (IQR)\n",
        "price_summary['iqr'] = price_summary['75%'] - price_summary['25%']\n",
        "\n",
        "print(\"Quartile Distribution of Prices Across All Neighborhoods and Room Types with Interquartile Range (IQR):\")\n",
        "print(price_summary.loc[:, ['25%', '50%', '75%', 'iqr']])\n",
        "print('-------------------------------------------------------------------------')\n",
        "\n",
        "# Room Type Distribution Summary Across Neighbourhood Groups\n",
        "ngroup_summary = airbnb_df.groupby(['neighbourhood_group'])['room_type'].describe()\n",
        "print(\"Room Type Distribution Summary Across Neighbourhood Groups\")\n",
        "print(ngroup_summary)"
      ],
      "metadata": {
        "colab": {
          "base_uri": "https://localhost:8080/"
        },
        "id": "oxy2Oiwz1gWb",
        "outputId": "04095af7-66c4-4ede-d21f-8a887107b8d6"
      },
      "execution_count": 22,
      "outputs": [
        {
          "output_type": "stream",
          "name": "stdout",
          "text": [
            "Quartile Distribution of Prices Across All Neighborhoods and Room Types with Interquartile Range (IQR):\n",
            "                                       25%    50%     75%     iqr\n",
            "neighbourhood_group room_type                                    \n",
            "Bronx               Entire home/apt   80.0  100.0  140.00   60.00\n",
            "                    Private room      40.0   53.5   70.00   30.00\n",
            "                    Shared room       28.0   40.0   55.50   27.50\n",
            "Brooklyn            Entire home/apt  105.0  145.0  199.00   94.00\n",
            "                    Private room      50.0   65.0   80.00   30.00\n",
            "                    Shared room       30.0   36.0   50.00   20.00\n",
            "Manhattan           Entire home/apt  142.5  191.0  259.00  116.50\n",
            "                    Private room      68.0   90.0  120.00   52.00\n",
            "                    Shared room       49.0   69.0   89.25   40.25\n",
            "Queens              Entire home/apt   90.0  120.0  168.25   78.25\n",
            "                    Private room      47.0   60.0   75.00   28.00\n",
            "                    Shared room       30.0   37.0   54.25   24.25\n",
            "Staten Island       Entire home/apt   75.0  100.0  151.25   76.25\n",
            "                    Private room      40.0   50.0   75.00   35.00\n",
            "                    Shared room       29.0   30.0   75.00   46.00\n",
            "-------------------------------------------------------------------------\n",
            "Room Type Distribution Summary Across Neighbourhood Groups\n",
            "                     count unique              top   freq\n",
            "neighbourhood_group                                      \n",
            "Bronx                 1091      3     Private room    652\n",
            "Brooklyn             20104      3     Private room  10132\n",
            "Manhattan            21661      3  Entire home/apt  13199\n",
            "Queens                5666      3     Private room   3372\n",
            "Staten Island          373      3     Private room    188\n"
          ]
        }
      ]
    },
    {
      "cell_type": "code",
      "source": [
        "# Average number of  Minimum Nights booked per listing\n",
        "\n",
        "# Assuming each review in number of reviews corresponts to atleast 1 night hence using number of reviews\n",
        "# Calculate the average nights booked per listing\n",
        "average_nights_booked = airbnb_df['number_of_reviews'].mean().astype(int)\n",
        "\n",
        "print(f\"The average number of nights booked per listing is: {average_nights_booked}\")"
      ],
      "metadata": {
        "colab": {
          "base_uri": "https://localhost:8080/"
        },
        "id": "oH6h6sqv19Mw",
        "outputId": "630074fd-b811-4f8a-8d47-bb52a45e8418"
      },
      "execution_count": 23,
      "outputs": [
        {
          "output_type": "stream",
          "name": "stdout",
          "text": [
            "The average number of nights booked per listing is: 23\n"
          ]
        }
      ]
    },
    {
      "cell_type": "code",
      "source": [
        "\n",
        "# Average price per night\n",
        "\n",
        "# Calculate the average price per night\n",
        "airbnb_df['average_price_per_night'] = airbnb_df['price'] / airbnb_df['minimum_nights']\n",
        "\n",
        "# Calculate the overall average\n",
        "average_price_per_night = airbnb_df['average_price_per_night'].mean()\n",
        "\n",
        "print(f\"The average price per night is: ${average_price_per_night:.2f}\")\n"
      ],
      "metadata": {
        "colab": {
          "base_uri": "https://localhost:8080/"
        },
        "id": "yCRwxkdY2KoO",
        "outputId": "e6eb2217-b997-48cf-8085-ef4f95820883"
      },
      "execution_count": 25,
      "outputs": [
        {
          "output_type": "stream",
          "name": "stdout",
          "text": [
            "The average price per night is: $70.17\n"
          ]
        }
      ]
    },
    {
      "cell_type": "code",
      "source": [
        "# Hosts Average income per listing\n",
        "\n",
        "# Calculate the income for each listing\n",
        "airbnb_df['income'] = airbnb_df['price'] * airbnb_df['calculated_host_listings_count']\n",
        "\n",
        "# Calculate the average income per listing\n",
        "average_income_per_listing = airbnb_df['income'].sum() / len(airbnb_df['income'])\n",
        "\n",
        "print(f\"The average income per listing is: ${average_income_per_listing:.2f}\")"
      ],
      "metadata": {
        "colab": {
          "base_uri": "https://localhost:8080/"
        },
        "id": "RY8J2az92TUI",
        "outputId": "ca3379cb-c45a-47d5-ae32-1d819f0f1aef"
      },
      "execution_count": 26,
      "outputs": [
        {
          "output_type": "stream",
          "name": "stdout",
          "text": [
            "The average income per listing is: $1545.84\n"
          ]
        }
      ]
    },
    {
      "cell_type": "code",
      "source": [
        " #Analysis whether Short-Term rentals(minimum nights <= 30) are more preferred or Long-Term-rentals(minimum nights > 30)\n",
        "\n",
        "# Classify listings as short-term or long-term\n",
        "airbnb_df['rental_type'] = pd.cut(airbnb_df['minimum_nights'], bins=[0, 30, float('inf')], labels=['Short-term', 'Long-term'])\n",
        "\n",
        "# Calculate the count of short-term and long-term rentals\n",
        "rental_type_counts = airbnb_df['rental_type'].value_counts()\n",
        "\n",
        "print(\"Count of Short-term Rentals:\")\n",
        "print(rental_type_counts['Short-term'])\n",
        "\n",
        "print(\"Count of Long-term Rentals:\")\n",
        "print(rental_type_counts['Long-term'])\n"
      ],
      "metadata": {
        "colab": {
          "base_uri": "https://localhost:8080/"
        },
        "id": "ue_O7t2W2YOB",
        "outputId": "6f1b4dbb-915d-4126-962c-f0051cdf9260"
      },
      "execution_count": 28,
      "outputs": [
        {
          "output_type": "stream",
          "name": "stdout",
          "text": [
            "Count of Short-term Rentals:\n",
            "48148\n",
            "Count of Long-term Rentals:\n",
            "747\n"
          ]
        }
      ]
    },
    {
      "cell_type": "code",
      "source": [
        "# Analysing Hosts with Multiple Listings(more than 1) are more in number or Hosts with Single Listings(only 1)\n",
        "\n",
        "# Calculate the distribution of listings per host\n",
        "number_of_hosts_for_each_listing_count = airbnb_df['calculated_host_listings_count'].value_counts(normalize=True) * 100\n",
        "\n",
        "# Creating a MultiIndex DataFrame\n",
        "result_df = pd.DataFrame({'No.of Hosts Percentage': number_of_hosts_for_each_listing_count})\n",
        "result_df.index.name = 'listing'\n",
        "\n",
        "print(\"Number of Hosts Percentage for Each Listing Count:\")\n",
        "print(result_df)\n",
        "\n",
        "# Identify hosts with multiple listings (i.e , hosts with more than one listing)\n",
        "multiple_listings_hosts = airbnb_df[airbnb_df['calculated_host_listings_count'] > 1]\n",
        "\n",
        "# Display the count and percentage of hosts with multiple listings\n",
        "total_hosts = len(airbnb_df['calculated_host_listings_count'])\n",
        "multiple_listings_count = len(multiple_listings_hosts)\n",
        "single_listings_count = total_hosts - multiple_listings_count\n",
        "\n",
        "print(f\"\\nTotal Hosts: {total_hosts}\")\n",
        "print(f\"Hosts with Multiple Listings: {multiple_listings_count} ({(multiple_listings_count / total_hosts) * 100:.1f}%)\")\n",
        "print(f\"Hosts with Single Listing: {single_listings_count} ({(single_listings_count / total_hosts) * 100:.1f}%)\")\n",
        "\n",
        ""
      ],
      "metadata": {
        "colab": {
          "base_uri": "https://localhost:8080/"
        },
        "id": "fa-1OmVL2jTY",
        "outputId": "8f0b2292-9947-48de-ba19-5416da052b1f"
      },
      "execution_count": 30,
      "outputs": [
        {
          "output_type": "stream",
          "name": "stdout",
          "text": [
            "Number of Hosts Percentage for Each Listing Count:\n",
            "         No.of Hosts Percentage\n",
            "listing                        \n",
            "1                     66.066060\n",
            "2                     13.616934\n",
            "3                      5.834952\n",
            "4                      2.945086\n",
            "5                      1.728193\n",
            "6                      1.165763\n",
            "8                      0.850803\n",
            "7                      0.816034\n",
            "327                    0.668780\n",
            "9                      0.478577\n",
            "232                    0.474486\n",
            "10                     0.429492\n",
            "96                     0.392678\n",
            "12                     0.368136\n",
            "13                     0.265876\n",
            "121                    0.247469\n",
            "11                     0.224972\n",
            "52                     0.212701\n",
            "103                    0.210655\n",
            "33                     0.202475\n",
            "49                     0.200429\n",
            "91                     0.186113\n",
            "87                     0.177932\n",
            "15                     0.153390\n",
            "14                     0.143164\n",
            "23                     0.141119\n",
            "34                     0.139074\n",
            "17                     0.139074\n",
            "65                     0.132938\n",
            "31                     0.126802\n",
            "28                     0.114531\n",
            "18                     0.110441\n",
            "25                     0.102260\n",
            "50                     0.102260\n",
            "47                     0.096124\n",
            "43                     0.087944\n",
            "20                     0.081808\n",
            "39                     0.079763\n",
            "37                     0.075672\n",
            "32                     0.065446\n",
            "30                     0.061356\n",
            "29                     0.059311\n",
            "27                     0.055220\n",
            "26                     0.053175\n",
            "21                     0.042949\n",
            "19                     0.038859\n",
            "16                     0.032723\n",
            "\n",
            "Total Hosts: 48895\n",
            "Hosts with Multiple Listings: 16592 (33.9%)\n",
            "Hosts with Single Listing: 32303 (66.1%)\n"
          ]
        }
      ]
    },
    {
      "cell_type": "code",
      "source": [
        "# Top 20 hosts having maximum listing\n",
        "\n",
        "# Assuming 'room_type' is a column in your dataframe\n",
        "top_hosts = airbnb_df.groupby(['host_name', 'room_type']).size().unstack(fill_value=0)\n",
        "top_hosts['calculated_host_listings_count'] = top_hosts.sum(axis=1)\n",
        "top_20_hosts = top_hosts.sort_values(by='calculated_host_listings_count', ascending=False).head(20)\n",
        "\n",
        "print(top_20_hosts)"
      ],
      "metadata": {
        "colab": {
          "base_uri": "https://localhost:8080/"
        },
        "id": "dRhAB3VV2yuS",
        "outputId": "3091f2cb-bbe3-4ae0-f611-3182fcedcec2"
      },
      "execution_count": 31,
      "outputs": [
        {
          "output_type": "stream",
          "name": "stdout",
          "text": [
            "room_type     Entire home/apt  Private room  Shared room  \\\n",
            "host_name                                                  \n",
            "Michael                   251           152           14   \n",
            "David                     214           184            5   \n",
            "Sonder (NYC)              319             8            0   \n",
            "John                      135           153            6   \n",
            "Alex                      175            95            9   \n",
            "Blueground                232             0            0   \n",
            "Sarah                     115           107            5   \n",
            "Daniel                    130            95            1   \n",
            "Jessica                   102           100            3   \n",
            "Maria                      90           112            2   \n",
            "Mike                      141            53            0   \n",
            "Andrew                    116            72            2   \n",
            "Anna                      105            79            3   \n",
            "Laura                     104            78            0   \n",
            "Chris                     102            73            7   \n",
            "Melissa                    55            86           19   \n",
            "Emily                      98            59            0   \n",
            "Jennifer                   85            65            4   \n",
            "James                      85            63            3   \n",
            "Rachel                     76            69            1   \n",
            "\n",
            "room_type     calculated_host_listings_count  \n",
            "host_name                                     \n",
            "Michael                                  417  \n",
            "David                                    403  \n",
            "Sonder (NYC)                             327  \n",
            "John                                     294  \n",
            "Alex                                     279  \n",
            "Blueground                               232  \n",
            "Sarah                                    227  \n",
            "Daniel                                   226  \n",
            "Jessica                                  205  \n",
            "Maria                                    204  \n",
            "Mike                                     194  \n",
            "Andrew                                   190  \n",
            "Anna                                     187  \n",
            "Laura                                    182  \n",
            "Chris                                    182  \n",
            "Melissa                                  160  \n",
            "Emily                                    157  \n",
            "Jennifer                                 154  \n",
            "James                                    151  \n",
            "Rachel                                   146  \n"
          ]
        }
      ]
    },
    {
      "cell_type": "markdown",
      "source": [
        "### What all manipulations have you done and insights you found?"
      ],
      "metadata": {
        "id": "MSa1f5Uengrz"
      }
    },
    {
      "cell_type": "markdown",
      "source": [
        "**Data Manipulations**:\n",
        "\n",
        "**For Yearly Analysis**:\n",
        "\n",
        "1.Converted 'last_review' to datetime.  \n",
        "2.Extracted the year from 'last_review'.  \n",
        "3.Grouped data by room type and year to analyze booking trends over the years.  \n",
        "4.Identified the top 3 years with maximum and minimum booking counts for each room type.\n",
        "\n",
        "**In Neighbourhood-Group Analysis**:\n",
        "\n",
        "1.Examined the maximum booking counts across all neighbourhood groups and room types.  \n",
        "2.Analyzed the year in which each room type had the maximum booking count in each neighbourhood group.\n",
        "\n",
        "**In Monthly Analysis**:\n",
        "\n",
        "1.Extracted year and month from 'last_review'.  \n",
        "2.Analyzed the month with the maximum bookings for each year in different room types.\n",
        "\n",
        "**For Host Analysis:**\n",
        "\n",
        "1.Calculated the average number of minimum nights booked per listing.  \n",
        "2.Determined the average price per night.  \n",
        "3.Calculated the average income per listing for hosts.\n",
        "\n",
        "**For Rental Type Analysis:**\n",
        "\n",
        "1.Classified listings as short-term or long-term based on minimum nights.  \n",
        "2.Identified the count of short-term and long-term rentals.\n",
        "\n",
        "**For Host Listings Distribution:**\n",
        "\n",
        "1.Analyzed the distribution of listings per host.  \n",
        "2.Identified hosts with multiple listings.\n",
        "\n",
        "**Top Hosts Analysis:**\n",
        "\n",
        "1.Identified the top 20 hosts with the maximum number of listings.\n",
        "\n",
        "\n",
        "Below is the insight Found :\n",
        "![image.png](data:image/png;base64,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)"
      ],
      "metadata": {
        "id": "LbyXE7I1olp8"
      }
    },
    {
      "cell_type": "markdown",
      "source": [
        "\n",
        "### **Neighbourhood Group Analysis**\n",
        "\n",
        "**Data Manipulations:**  \n",
        "1.Counted the number of unique neighbourhood groups and their respective counts.  \n",
        "2.Explored the count of unique neighbourhoods within each neighbourhood group.  \n",
        "3.Calculated average prices, minimum nights, reviews, and reviews per month for each room type in each neighbourhood group.  \n",
        "\n",
        "**Below is the insight Found**:\n",
        "\n",
        "Count of Neighbourhood present within each Neighbourhood Group :\n",
        "\n",
        "![image.png](data:image/png;base64,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)\n",
        "\n",
        "**Neighbourhood Group Averages:**\n",
        "\n",
        "![image.png](data:image/png;base64,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)"
      ],
      "metadata": {
        "id": "mFfrRxOv5Lgp"
      }
    },
    {
      "cell_type": "markdown",
      "source": [
        "\n",
        "### **Room Type Analysis**\n",
        "**Data Manipulations:**  \n",
        "1.Counted the number of unique room types and their respective counts.\n",
        "2.Calculated average prices, minimum nights, reviews, maximum reviews, and reviews per month.   \n",
        "\n",
        "**Below is the Insights Found**\n",
        "\n",
        "**Room Type Averages:**\n",
        "\n",
        "![image.png](data:image/png;base64,iVBORw0KGgoAAAANSUhEUgAABCoAAACyCAIAAAALTbmgAAAgAElEQVR4Ae19P0stz9L1/VbGmgqCkYiRoJloKGK2A6MdnMjE4BiJYKRgJIKRgZgYiWD2JIofYt4X1nPXs071n90ze/bsmbEuP87t3VNdXb2qurqqu2f8T+X/cwQcAUfAEXAEHAFHwBFwBBwBR6ATBP7TSS/eiSPgCDgCjoAj4Ag4Ao6AI+AIOAKVpx9uBI6AI+AIOAKOgCPgCDgCjoAj0BECnn50BLR34wg4Ao6AI+AIOAKOgCPgCDgC/5d+/Mf/5wg4Ao6AI+AIOAKOgCPgCDgCjkDbCGjS9U/6oQ+87AiMA4H//Of/jHwcI/JRdICAm00HIM/ZhetoTgDbau6KaAvJQfBxdQ9CTT0U0ljO/0Vm5kEPRXeRHIEGCLhhNwDNm7jZ9N8GXEc90ZEroieK6EYMV3c3OI+vF2M5nn6MT8U+on8QMBb/zzP/4QgkEHCzSQDTo2rXUU+U4YroiSK6EcPV3Q3O4+vFWI6nH+NTsY/oHwSMxf/zzH84AgkE3GwSwPSo2nXUE2W4InqiiG7EcHV3g/P4ejGW4+nH+FTsI/oHAWPx/zzzH45AAgE3mwQwPap2HfVEGa6IniiiGzFc3d3gPL5ejOV4+jE+FfuI/kHAWPw/z/yHI5BAwM0mAUyPql1HPVGGK6IniuhGDFd3NziPrxdjOZ5+jE/FPqJ/EDAW/88z/+EIJBBws0kA06Nq11FPlOGK6IkiuhHD1d0NzuPrxViOpx/jU7GP6B8EjMX/88x/OAIJBNxsEsD0qNp11BNluCJ6oohuxHB1d4Pz+HoxluPpx/hU7CP6BwFj8f888x+OQAIBN5sEMD2qdh3NVMbL69vG1v7K6ubewcnX989M+mYErohmuA20lat7oIpbutjGcjz9WLpGXIDFImAsfrGdOfexIOBm039NzqOjo+PJyuom/7u9f+jbePcOTigeCi+vb1Ehz6bnhvLx6RmUyuTP+d9o8/krGyui/1qYH5zxcWis7vFB4SOqhYCxHE8/aqHnxMNDwFj88AbgEi8DATebZaBer8/GOvr6/jHx+tHxpF7fi6fWzAHSnk3Po93ifENHFE0/Li6vo83nr2ymiEFoYX5wxsehmbrHh4OPqC4CxnI8/agLoNMPDAFj8QOT3sVdEgJuNksCvka3jXV0dXOnwTrKi7ubVGNIQhqmHxtb+/L8f4svr2/hWJh+9Pny1SC0EALuNY3nnUP3yxEwluPpxy+3h/EP31j8+AfsI2wDATebNlBcLI/GOmJkv7a+w9j96uZuseLW5E4hKeHK6mZ4/+p0MgWBnoEw/ajZZ0PyZorgAPushYaIjLpZM3WPGhIfXBECxnI8/ShCzYmGi4Cx+OEOxCXvEgE3my7RbtZXMx29f3wyoL+4vGa5b/evGJ2zsLK6Gd6/Yuyu71H0P/0YihaaWea4WzWbd+PGxEdXgoCxHE8/SkBzmgEjYCx+wCNx0TtEwM2mQ7AbdtVMR5pyvH98atTO+1fmtQTWQ1A9Z3j/+ETl49MzWW1s7f85//v49MzcZu/gpO4gmXXsHZxs7x7yiEP53N4/sJ70K6ubTD9KKt8/Pk8nU6QxkFy7KCk3UMRQtFAy/N9G00Ddvw0iH28UAWM5nn5EUfLK8SBgLH48A/ORLBIBN5tFotsO72Y6Yii/vXtYVZXGwXr/irnEyuqm1uu7FuBQVVX0NQZ2hO/e1h0zM4e9gxMVUu9f8ebV2fSc9LXSj4vLa56fMFkKz1jywjdQBMHpuRbyA/+dTxuo+3cC5aM2CBjL8fTD4OM/x4aAsfixDc/HsxgE3GwWg2ubXBvoSO/8IMjWGj2j0IzidDKl3JoJIC3RUw5G8KagnMkqX2A6sXdwokJqbsDM4eX1jfS10g9yMALzVCcvJJ7WVUQ4HK1RrJauhZLh/zaauur+bfj4eFMIGMvx9CMFlNePBAFj8SMZlQ9jwQi42SwY4BbYN9CR/okMHiNwJ35ldVPDbobma+s7FFejfFzK0uZHxxNweHx6ZvP5Tz+qqmIv/P6V3ryqqkoFK798tba+A2IjsB74cOypQl1FDEgLqSH/5vq66v7NWPnYFQFjOZ5+KDheHiECxuJHOEIf0gIQcLNZAKgts2ygI762wSC+qqo/53+5969/HINXm/jJKX0nBK+q67b9xta+viWiO/e6o1+IAtMJtNVTFyROFA/nIaSvdfqhf4tQswKtnylwXUUMSAszx/4LCeqq+xdC5EOOImAsx9OPKEpeOR4EjMWPZ2A+kkUi4GazSHTb4V1XR/raht6n0nq+zlFVFY8XVlY3EY5rTXjzSnlWVaWXsuZPPzTPQb7B0xVkI83SD56TmDRscemHoq2IaX1/tNCOpY6LS915N67R+2iaI2Asx9OP5lB6y0EgYCx+EDK7kEtHwM1m6SqYKUBdHenuPo87wkL0/hUCYh448DqW5hgmZNdH86cf5v4VmfMYZyjpx7C0MNMIfyFB3Xn3CyHyIUcRMJbj6UcUJa8cDwLG4sczMB/JIhFws1kkuu3wrqsjHheEKYfWpO5ffX3/8NYQt+2ZBvCEhGPTR62kH3qbi4kQ30QfSvoxLC1Qm14gAnXnHRt64ZcjYCzH049fbg/jH76x+PEP2EfYBgJuNm2guFgetXSk96Y02QjLqZs/+vbF7f0DxqY5Bg8i8EhfKWkl/dA3Tyg2X6AfRPoxOC0s1oKHyb3WvBvmEF3qhSBgLMfTj4Wg7Ez7g4Cx+P4I5pL0GQE3mz5rB7LV0hGPC1ZWN/V8A6xMZJ+6f4Wg36QZup1/Opni7XPNVfTLVy+vbzhC2Ts40ffUQ7SZTmjqon+NZGV1UyUhfa1Xzzt+92NwWgj14jW15p3D5QgQAWM5nn4QGS+MEwFj8eMcpI+qbQTcbNpGtH1+tXSkSYJmFxRLI3veaKqqSiNmpB/61LyxzUMJU2AKoUkCb3BRBi2Qkm3Dv2+okpC+z+nH4LSgGvEyEKg17xw0R4AIGMvx9IPIeGGcCBiLH+cgfVRtI+Bm0zai7fMr15G+NaEnBipTiia8L8T7TmzOP8qhWYe+Y80UQpOEBumHOaVRSZQzzzTKK00eZV6j50ijhUJFpBBWnimaZWlBZfMyEChUt8PlCBgEjOV4+mHw8Z9jQ8BY/NiG5+NZDAJuNovBtU2u5TpKnWyoNJnIXvfsU9nLn/O/fDH96Hjy+PSsr4Xgj4RUVTXn5auqqjgWI0l5phGl7CD9oOQrq5t6btNnLahsXgYC5fPOEXMEFAFjOZ5+KDheHiECxuJHOEIf0gIQcLNZAKgts+y5jvT1j1qHCS3DtHh2fVbE79HC4vX8vz30Wd2dgeAdNUDAWI6nHw0w9CZDQsBY/JBEd1mXh4CbzfKwL+25zzrSr/Tyj6aXDmxodL1VxK/SQmdW01t1d4aAd9QMAWM5nn40g9FbDQYBY/GDkdsFXSoCbjZLhb+o857o6PHp+XQyvb1/4Jesbu8f9G0QvvhRNKoBEvVBEa6FzgynD+rubLDeUYsIGMvx9KNFbJ1VHxEwFt9HEV2m/iHgZtM/nViJeqIjfcdDXz1HeW19R18Qt2MYxe8+KMK10Jkp9UHdnQ3WO2oRAWM5nn60iK2z6iMCxuL7KKLL1D8E3Gz6pxMrUU90lAl8N7b2R597VFXVB0W4Fuz0WNjvPqh7YYNzxgtEwFiOpx8LxNpZ9wEBY/F9EMll6D8Cbjauo0IEvr5/zqbn+jmptfWdo+PJ1c1dIYehk/VhsrgWOrOiPqi7s8F6Ry0iYCzH048WsXVWfUTAWHwfRXSZ+oeAm03/dGIlch1ZRJb02xWxJOCX062rezm4D79XYzmefgxfpT6CLALG4rO0/tAR+F8E3Gz6bwquo57oyBXRE0V0I4aruxucx9eLsRxPP8anYh/RPwgYi//nmf9wBBIIuNkkgOlRteuoJ8pwRfREEd2I4eruBufx9WIsx9OP8anYR/QPAsbi/3nmPxyBBAJuNglgelTtOuqJMlwRPVFEN2K4urvBeXy9GMvx9GN8KvYR/YOAsfh/nvkPRyCBgJtNApgeVbuOeqIMV0RPFNGNGK7ubnAeXy/Gcjz9GJ+KfUT/IGAs/p9n/sMRSCDgZpMApkfVrqOeKMMV0RNFdCOGq7sbnMfXi7EcTz/Gp2If0T8IGIv/55n/cAQSCLjZJIDpUbXrqCfKcEX0RBHdiOHq7gbn8fViLMfTj/Gp2Ef0DwLG4v951ujH1c3d2vrOyurm2fS8EQPb6OX1bWNrf2V1c+/g5Ov7xz7238tAoHWzWcYgFt7n2fR8ZXVzbX1nKX/jojMdzT9M/WvoC9dK5x10pog5R/b1/YM/z/JL/hzknHClmg9F3Sn5+1n/G8IAYzkN0w91plre3j08m56/f3z2U8ElUulwMuW9g5MSbk6zdASMxeflUY2nKJXm8ek5RVZer3+w7M/53/KGy6J8fHo+nUy3dw8Jxdr6zt7ByVJi0AWBUMtsVIaj4wlhWVndvL1/0Kd9KKu9qajbu4enk2n5X+k2f2e6+6HV1ZEONrV3QBp6+FaGSbYrq5vdA7XoHmspQqHQcgfBw5/zv+yR+l00OOPjX0vdVVURcxTW1ndSmOiaAuIU5YLqjaj82YFxqlseRBjQQAXGclpOP6it4QYiHEK+4M6rgfEtpYmx+LwMqvQUpdKUx2pVVX19/1zd3J1OpkfHE2Wufufi8lof9a38/vGp0ioUOL3pm8ApzGfKWctsyO3r+8dgYnRNyiUWMhqE8IWLn8blmZBicSOtqyOjmujeAWno4VsZJtkWph+N7XZxaGc411KEQhEtLy540PSjhxMzg3CvHtVSd5h+pDZl3j8+Q3voeOChAKZmccapbrnnYUBjpRjLWVT6sbK6OdAzEGNtqZ9cnBprwht2g4Cx+Hynqu4UZbPLVy+vb2RujGcop64vr2+4dcaBmIIZVwrAzuozmM+UoZbZkNvVzZ3BZGV1s28X6nSdC6VFTeGhzfy3kghdg0JdHZnBbmzth52SRo15/mGSbUn6MY/dhiPqoKaWIhSKVHlBwYNfvmrFGGqpO5p+nE6moSQXl9ehPYRkC60JBQhrFmScQwkD5sHfWE4L6Qek+fr+MdZTuIU2z2AW3Vb3vXQ1WnS/zr9FBIzF5zmrr8lT1n06dFv6+v7R3GNtfefP+V864pfXt4vL6+iiUheoFunnwbyW2VBmRvaK1eI2zNhvrQKFXFnd5AkAk2pMge3dw1o8l0JcV0c6u1EOFynStOvwybYk/ZjHbvuviBCKUQYPS1FEN53OP++ih6V4AXJldZOFksnS7pDdONvF03AzltNa+oFuTidT6q9d922G0c3PwS0D3cAyrF6MxeeFp/W27viGbks6tTe29pl45PFc7tN5MK9lNhimXh7QvZi+XfOIph9VVZmjm+XqrqT3ujrS2c2yuT/J+nbXL7ItcSzz2G0Jbq3T1FJECgr1MO2C3/p4fznDWurW0w/1POZ8lSd+G1v7+gZIx1C7cS4UcGM5LacfmbuV7x+f+rrq2vrO0fEktS/4+PR8dDxhEryxtX86mXKjDgCFPvrq5o6GezqZ4s7D1/fP6WSKzUhs2ZbjG3aBthpnhNfM9N3Tr+8fxeTP+d+v75+z6TmGtra+czqZRiO5q5s78gFWZrqWj+KXUxqLz6OR8j7aKkUDlXHbGy/yvn98qhVp25XVTWy+qlOmkZtKTB8w39jaD3dtET7S/rd3D2/vH4ztcRR4d1zn19HxhF2TjAVj8CZiI5kpFE55YmJiDkWAnEmMMA6OApUYMihnYk6GqUItswETTTnePz45f/X+lXk5xNzLokbUq+gYoXodnQEtNRytV2BV6Ua2qqpMR1/fPxxU+FS7wNPTyVRHtHdwYrq7uLymxcLJF5oW+qqrIxqPkUolJw2BNSAoMdw7uR0dT15e36Lwki3s9vb+gQPf3j0kLNqXNqGvCIHd2NrPT14VeEHlWorQcak86qxMxg5/Rde6d3DCy/HGaPMTSrswLhQnMFSKsUad2tpQM3at5zThBb+6LleR6Vu5lro1/cAlRhiAOSrnI81CNVfn21DUEeIizp2qqsgERyjEzRzdZ5xMA+PMhGq39w9kaM6TdUmFkUT9Bobw/vHJoHFldRPvwdPUaWx6ml1VlSKpKHEeUQWp0IUAtlUwltNy+qEI0kFUVaXTnvpAwXxsVFc4Q2k+daqeeu/gRLFGw+3dw/ePT2JNbgR9JqamC6VXlWsSpd4QPlTHfjY95+ShPGvrOzofMgiUS66i/vKysfg8GlSKOj7TJEoTmh/IHp+e1Yq0LUMKnTV0E1p5cXkdmrH5dE9UADU2ro66ZKo8JDDjrapKV18TGYTEqFGz117C7wvzKQM+cFAE2AuJV1Y3owNBlj4TczJMFWqZDZgQbaw0Cpq6iJTr4P4fFhjwjI6RHTV73V+Bpb3h0wgKb5hgaL/hU0VS4wDlSRt7eX1TbkqjWCnPsFxXR+xl7+BEJdSlSmnQo9qSmujX9084hLX1HWYjGg2QbcpuoQjtS5vQV0TtgU9DiLqpqaUIHZeKp2apGkl5ku3dQ0Rg5RNKWdEUq6qaaY0aLKoDVK+rtkEbgJfup9YU/FrlWurW9OPP+V8qy9y/ImIasusqrLpTE8KEgvwmzaAn0baq93DUylmfRo2zJFTThVs3mnV1gJFoF+qWb+8flAklZNyo1qUTh5Cqf1BLxlqpNkzm6rsUhznLxnJaSz+w00np19Z3mJwp0CTQgs5bWqcSaJnWo546qh58kF7bsqx2kAFUu1AhzUUF9Uc6eWD9avoUwBSUecoa0IQzKiO2P1IEjMXro7Csegmfoiak0fmvTzGH1YrMUxhz1O9oZcq8acYlNoa+1PtEhYmOWmclJ2CUEpW1pjzF0FlQVZUiwL5InJrd2EmaiTkZpgq1zKaqKgUWy4nW6NDUWnRDQUHDNM+Mgjgo59RYTL0Cq+ucCobgICNAJv3QyJ5yogDjiQbuSknDNpKbn3V1xC6w58XlWVcrpUF3CoKirTCylSkQXlMf/kTKqn0ZGrxqZSr5s2RWGvRa/FlLEZSZwWUmeFCb1IYoY/ooTX5CqZ8kYoXWSGvhgUZVVayEPIBUtyBv7x/UD5ghUIYWddEBq1rqNumHKosXOrjzArejKHE4qjslwELAaFP5Q1Oak5gjCDJnQTmjMmOcJaGa0mjwpksq3J36E/qN/OdeMEA1MNq/VuoulQaoOFDSIWuZMhCc+QvGclpIP1RilJmWYUdNgyfcPsLSpfXhcqt/ykoXZl5LMJ4at63ePz7NjhRmuNGi2kEGU+1CFx40ofyax9PaWGmmDW+F6TxZWd3EAYj2iNMbYEU3p74vI7k/IgLG4lkfLagxRwnUmXL5VFdC08JpO+ewatbYUtTvaOXa+g74PD490+q466OrHfY54IvNrMFE0Eq6qpfXtz/nf3XjxIxdheGIDA1/qrtXeaLCK54ZWMhcFcQJooOif8jEx+SWKdQyG3Puz8NM9UUaUlOJ9BIm3YIGtfnR8QQcDIwGtMyI+CiqTfPqOTIoNVqcyUCG0FlRDEYS0BT/DBQut8DG1CVG/SEtkzJHC3V1ROOBtDo6biEZmpQV6SrOpQoXfclBdxC1MmW3HKMKRmDNISQhmjl5yXZxhVqKUCjCcip4oA803/6GQRZOKDU8hv5ambFGruy8S2lMPbqIm7fqe6W1xvZQS93q4RH+UelEgxsWqCEBV1gY/9n0/PHpGb4Rl9hJyWXXONKrmzvVLz1zauxkGC2oceok5Yx+fHo2oZoaCZ2MYsKMKOqWtRLOMzpwdkpuZk3kQkM0QFkSuqSwalBvLKfl9AMvVzATNacEtDbIrfE3FKMzXO3J3GODGlT9BNf0qME6TVyPovIIahe6DKCVMmRMRjvgYKlvvVMRcsCgFAGNV5RJXmZ/ahAwFm+emp/qdMwj/gxpdA4zTCQ9ChlbUhdDQ9JKrpQmzEV9OI/YtZpTmH7opXM2iRZUGEoYpTQTkLMAxFFRiaeZYtop+yKxxnZVVWmkTgkzmJNhqlDLbHQfVH2OTltMcHSnesGKqDkknKFuX21s7aecqgEtNRytV2AVT5bZnQKoeR246VOKoV5R7VYFoJNUrDRuIDdtFZbr6ogDJH9VBPZiQ5roMLWhalYtQU2UbLWyrt1qSFE+eUPcWq+ppQiFQsv54EHjAdUIJruqIzWhzCVwGmehNWrCiU6pDjofWALrYWb8iQCA3ql1LXTGsJa6NdQG5lwuGbZRBWYOavqho8OV5pSrUc+5vXvI1JQaV1amrAap5dA41eTyoRpHx/GqLdF7qFuGkehAzEpK2TAohQIjAsgbW/scPuYFwTe6WFndTIUuBqJ5fhrLaTn9wBhUPl2AedZGAoKIiaoK0OXWbEEBOPVBXE4MpdarJCWGmGEF+dU4sFmomS69TKZftUKIpAgQHFNQWyeSXkghYCw+RYZ6hTpFGdJoVI2n27uHul7mbUmVTrOJVkZXUDUw06k+goGp0UJUvM1sppsZuwpDd2lo+FM7nTnldXHS2arBqC5CIfjoVyUkhikXQVEzhVpmoxNf1wmt575UVVXhxNcaKFGFV555W8qMiI8UK8WTpksPozKo/GClT6k7ZU4+7BqFsFNTY9IS05w/a+koaml6Uoeki5JwRHWHqQjQFMlWjdkYOYmjPZoLfmBYMnkJ1+IKtRShUJiybg8bX2co+ROTRacPHJ3W0Cuqa2IMQFapAqxRNwjQFpEcAlO0NbuocJXNXO7ilDU/51rq1nkH3HS5vL1/oJNkdK6KoLTmMw9KE24oq6JBGbovctaCYas/jXHqNFcyLcMBam6AOa41dJLKEGTqB5StlrE0qLWjLbKOo+MJ2cIamQshG1FdgG0Yuig+c5aN5bSQfsAtcgNgZXVTF0u1A7pXjoE4wtcTKeOjzYoLI1bdcKkwlFqvktD1UJJoIdUFiSkwPBT3OXT5zPSr/CESGRKZsBDCSHm8ECJgLD4k0BpFW+u1HKXRvRAS8OXIjFmmQhC1BNV4aE5ao5Rm/abNhx4H12fhj3SkLOvodHaTQAsZeXQp4twkXKwBN0WA/ElsXIQSEwSdX4Y5GaYKtcxGlxOV0JS50lRVxU0prItEmGuwCk/dQVp9VHdcxt4oYfRThPmOok9VESls2WmmkGqr9bV0FLU9kwqqHgls3WEqAjRFHakOIUoc7RGtGkxe7W5B5VqKMFCY+9LqXtSTaCstc2rMnFApf6jcUmXgxiAHkSgjPOoL6z7J6FH7qbXGxlBL3TrvoCxN5E4nU2qZqlctQEjzfs727uHewQkbhulHmPJhg3jmkE3XGePUmauttIzpz/yKH09iDqApjTJEQ9qV8jRluCmF9OLymj1eXF4TJVwsRHOuMuZiEZlr6DITtHICYzntpB/hOx7c9eTgV1Y3WUmT4mgBoirAbMdqegcjVt1wqcjEeSoJfVYeuFQXbKVuRS1VbT3TL9MVzp8MAuzUC7UQMBafb0uDNNGttkrRmK9DgowuNWNLqnTGK9HK6AqqBsbmEFgfqc2bD/lBVM2ZdbzmPlV4CccQa6czp7wuTjqLTZTMLlLgR+HKYE6GqUIts2Hoo+KFZT04Yr6Bq+RckKIGo7rLuLjUWEx9FCtDg595AKNPlbnx4eyCyBRuSbKhKdTSUaGlUZW0xpnDNFIpApyPHLJxLFHiaI/spe7kZcPFFWopIoRCz6A0Tsh4knAsMydU1HmqVcy0RmanG1v7jPBwtMJBMfDVCA9btPrtVNBnXG44wP7U1FK3Ikw/RmVtbO1zCnCxIJicLLQEfftCY25yBkqkJ6u19R3d/UmBSXp2nTJOis13gVI89UIm3hJhLzyXM+tdmH5oSBntiEnv6WTKwFK/+7+xtU/HomkPFhT+dQrKxpUo2l2zSmM5raUf5sU43h7WAN2MJ3xEo+RrtRxk+IhQ6nv9mbVZLdIYK3sxhVQXSsblSvmroWs9lzRwUAvG3OPNvBAB7dTL5QgYi8835Nyj9wnpZ9KoYVPjGVtSM2C8Eq2MrqBqYGaKKZOozeurcpkhGxec3xrR4Rt5oo+Ipy7YurSoYCTWyqjvzriCUKdhTbnZ6M6IiheWNb7RVlwtNPZSgzFhimqcBhYOIVWjVkF7ixKrDGFH0afqwaImpyc/M1PZqFSsLNcRmlAjZizR77OTJjpMxVBjCDNTCC+7btFuCycv4VpcoZYiolDoFGDwoJXGk4RjmTmhos6zljWqJXAOYq2nPTBFSQncH62FGBbW1FJ3NP1QZcEe1PmHFkJ4OSvNuaW6GmaG5g+om5g7Otiw61Rkq45OPUCULa1iZXVTrVo3aDhGvh5mBhLlzEoa5PbuIWTjqsFBUYyUwLpAK9TsZc6CsZw20w9N8njMZMKIi8trIG6+3wI3rUa5tr7DbFgVxo8kqi9QpFL1VA+PGmZCmWKlDZkXMfvUIMO4PBgfDotoCrj6Ap6qfnxQBXB9ff/c3j+UzB+VzctVVRmLz2PCiWqiBG0V0mC/gUft7x+f3MymZaor0S2cVOgcOiPIEJqxclYDo2VCYDjoi8trfD8E3MyXy3WYpqxzEG796uaO3vPl9e3i8horbq0pb5Z/7PGEXxCiMCH4eBSFS5ExmJNhqlBuNoqznm+As0FDNya4c0HXwQUDbUmAG61A2yhCDQxWZ/6SUjjAKFYh2cz8Leoe1YPB02LI7x+f/LqaIqZ/LPL94/Pq5m7mPh9FLdcRmtB4CBpZGVR1Sys6TKXXjzJRleirWfqRstvGk5fDXFChliKoBeNj6TMZPPAkAU3w6WEM4fHpWf0YKjlfqAUzoULnaS6fzLRGCo8uyJ+c2TUjvN5qrbEx1FJ3NP0wbt/c2CfItJDQZZkAUtMPqgC7G2pXDClTYw+7BqUygYNSRzczVNMZTfFMghqO0UTU+KumkAcLri436qbQBfmTM7vmMlQSuqSwalBvLKfl9LTM8mYAACAASURBVEMh4HfoODNVtVomTCYUUxqWOau1L11OUvUqhhprBsQUK22ihgUh1SbC9IMD0YLKQxNRApa1ay+XIGAsPt+EOEcLUJM+AjdOb32EsmqWqyPJ8FSbM16JVhpzInMlJnNTALHOAkOgkyiKkkaNpi1+kkOmF1DqlE+xVbgoj/bLSuM3iGG4yJVvPZSbjcpJt66y6T6ZxtbhwPWp0bUOXMvEXG1A4VVJUFZKxSqkzDvA1FPlr6IS/OhpAyk5olAeU1OuIzTMd2EcL8WIDtOccpCzKRBerddRKFYkTtltZlpRWmXeWbmWIlJQKM4MHnSTThuirIiZRAIEmQlF51nLGnUua9BshNcLOb3VWmPzqKXuVPphvJ8mBqpoCGmIlQBlalPRhhvUPIEHa6mxK2elMfrFVqPxGNqWiROZaAIDSh1yagnTHXnDn+6UXehKpNdnFBPz/VX1P4Y/ISX/+QvGclpOP6qq0vlJn5hxIkfHE+6h4ligEBE1CHaU2bFTHRQim+rCqMFYoQlBtN/o0Eys8PL6FloqLcN07T9nImAsPk9PnKMFmI0+AreoWjHP1bbVEsAEDLU5F9RopQlJacbRFXRtfUe9NohDGSBJ4eFAqjmY6DQsn/JR4c+m54oAtRaCH6qAGBq4FHMyTBUKzcasbVFuKZpwaeEBGvkY34IhKLbEXOEyLoXcUFBKxcqQZXwpKFPu8ev7R7tQldFizZ8ZURqOKJTH1BTqiK3YS7QLs5FEmtQwQ/VhyuvYCS+7NnFJlDhlt6nZVzh5iUPrhVqKSEERDR4ytsQ7KhxOqBEzoRRAmiLebTOhG4WkGaAXPfXSCM8ccuoNCO2UbGd+7YOD6mGhlrpT6YcqS29eKT0ni/m7bYBRgYU2zRRmJKazTPUeYqsKMk/DyLZWqKZOWy+8sBcVkn7DfGpfxQvTD5VQ77Uq1DxaRL/aqTLP36+mzHULxnLaTz/MgSmPAvBiLgNrfGhFUdaRXN3cHR1P6BE2tvZPJ1MaEyhTq0KqPjRW7TFaTrEyxBpehPejTL+PT89UeeobZ/hbRSTDqnY6mabgMvL4T0XAWLw+Css6A8MyPJfWgwPuxRnb5jGd9vLn/C/J6D5U0VRxtNLEJepJcWEJUwaJB667UFrMxJfXt9PJVIPavYMTXolUUVPl94/Pi8trFQ83VUL7LJ/yL69vdJ2cFNoFheFwuDLhkRITQzyKYk6GqUKh2VBs49aVrQlNNCSii8N9Nm3Fssp/dDzBN++JAx0O18LlXr6i2PDhlDP04XiF2pgi/0wh+WQKhToiBwpjYkoSqK8mTWYVULvlN3DVFKlrdj2P3c4/eTnSdgu1FJGCIvyyMIOHMB44Op5EHWx+Qql+1Xny1fCZ1pgKcM2fcNFTl95qrbEN1FK3phMGcyrLbJdELUTn2t7BiXGD4KzqU546hTUuDxGIdg2yaGRbHqoZy1HxwF/9hlnCwpU0umprbsxrgdjT13HpqUt56BJi1aDGWE7D9KNBxyNuoloPfWLG5Y0Yk/4MzVh8fwTrQBINjo1H66D3QXfRZ7NRh2NW9EFjXlf4fuqIQZXJNOqObkD0/VTEgAAclqiu7mHpqz/SGsvx9KMF1XA/m6/FK1NPPxSN7svG4rsXYFk96naLOd1elkgD6re3ZvP1/UOHwyvyAwK2RVF7qCPNDHkw1eKQ+8mqh4roJ1DjkMrVPQ49dj8KYzmefsylAvOJnuhOpKcfc0E8d2Nj8XPz6yOD8OMq5m591DL7OJLeyNQHs8GZ++39A98gur1/0AsGvCDUG9g6FWS5Ogo/GqOuPnwzoVNouu1suYrodqzeW72PSTpejgARMI7C0w8iU6+gF/Vwry71UQVdkzwKrIdyG9TG4ttg2TseamN6yxPlBb1G1jsUWhWoD2ZjriwbzS79heNW8W7CbLk6CpcAVVB4t7vJCAfSZrmKGAhI4xHT1T0eXXY7EmM5nn40hN+sPZlQQENDTz8awj1HM2Pxc3Dqb1O1MY2B8FI49877O4D+SdYHs8mkH/i7y/2DrVOJlqsjswTovNM3jztFZEmdLVcRSxr07+3W1f17dT/fyI3lePrREE6uPfzKUIqRhoaefqRQWly9sfjFdbREzuHHVfChIX/dvLFS+mA2X98/5gPE+GBg+H2LxsMcdMPl6sh8NAbfJ6z15a5Bg6/CL1cRKomXO0DA1d0ByKPswljOP+nHf/x/joAj4Ag4Ao6AI+AIOAKOgCPgCLSKgKZV/6Qf+iBV/vj4H//PEaiLQMqcOqg3CXcHPXoXI0DAzab/SnQd9URHroieKKIbMVzd3eA8vl6M5TRJP8YHio9ooQh8fPzPQvnnmRuLzxP7U0cACLjZ9N8SXEc90ZEroieK6EYMV3c3OI+vF2M5nn6MT8W9G5GnH71TiQs0CwHjKGeR+/MlIOA6WgLosS5dETFURlvn6h6tahc8MGM5nn4sGG9nX1WefrgVDA4B4ygHJ/9vENh11BMtuyJ6oohuxHB1d4Pz+HoxluPpx/hU3LsRefrRO5W4QLMQMI5yFrk/XwICrqMlgB7r0hURQ2W0da7u0ap2wQMzluPpx4LxdvZ++uE2MEAEjKMc4AjGL7LrqCc6dkX0RBHdiOHq7gbn8fViLMfTj/GpuHcj8tOP3qnEBZqFgHGUs8j9+RIQcB0tAfRYl66IGCqjrXN1j1a1Cx6YsRxPPxaMt7P30w+3gQEiYBzlAEcwfpFdRz3RsSuiJ4roRgxXdzc4j68XYznDSD++vn/wV8Y3tvZfXt8WrZWV1U3+t+i+fgN/P/34DVoe2RiNoywf3d7ByZ/zv+X0TtkYgcY6atyjN4wi4IqIwjLWSlf3WDW76HEZy2mYfvw5/8sAPSzsHZy0OwztrnXmoag6ovDpQGuubu44rvePzy5H4elHl2h7X60gYBxlOU9PP8qxmpOysY7m7HdxzbHL9vj0vLguFsF5fIpYBEqj4enqHo0qOx6IsZzepR+39w9n0/ONrX3FRdOPo+OJPlpEmWH6yurmIvgvhScWtpXVzUXnb1/fP1c3d6eTKTU1rPTj6uaOWK2t75xOptEDt42tfbUTlmuFDo9Pz2gYbXVxeb29ewiC7d3D2/uH0HK+vn/+nP+dSRY29Jo8AsZR5onx9OrmjorARAtV9vj0fHQ8WVvfgVqPjichjenr5fVte/dw5olKIZn6UhqtFrSjnltXAx1hRJy8R8eT6NQzKij/+fj0vLa+s7G1//X9U96KlL8k/Sj0sQ0mC5B8//g8nUwxy+DDZ+64fX3/gF7tn3rxgiLQYN5p8zzU6kW3dw+vbu60LcuwDTiuja39P+d/m804MvRCBwgYy+lX+sFV2cT9fvlqTst4eX1jhDEz3JmnL+2Iec6A0o/TyRRA7R2c7B2cIExZW98JQVMyEOPfaK6SgpR5ThgDHR1PVlY319Z39g5OGNSeTc+V1df3Dx6BjNxOJ1Ml83IDBIyjnMmBloPoE3rhFEBznkBu7x6qWjMRz5/zvyVRUSFZVVWI/NRiWUZHXO/7b111dWRGxGnFIc/U8kyCztKPr+8f3eKZKdhCCWopgjMFhpfysQ0mC8b48voGS97Y2lcfnvfMTMszk3GhGA6IeS11h+PKQG1sA4tsuJwZ24C6t3cPPQMJ0e5VjbGcFtKPFqcrQ2STfnSMYE/EaHHUnNXmWKnFLsCK2/l6zDKg9GNldfPoeKJbZWfTc6QBBquV1c05wVSsTPoBB63+FGHNyuqmUiLfOJ1M6Xa59CqZkdx/liBgHGW+CZZD6IuXr94/Po1vRMqhqrm9f4C3MbHR+8fnxeU1N+lXVjcNK8hTSJYXHk+xcaAm3X/rqqWjqqrgBnVaMY7RKV8C14JogLlaSKojeA+T36aIF11fSxGFPrZ8spjRYdZozAq9q22bJtyPT000Q//Lf9ZSt8EqAzUm49r6Dp0hlzPdIHj/+ITPZCW3FVTppl//2QcEjOV4+hFRysjSj6/vH47o4vI6MuD2qjSk5tI4oPSDHk0hwS6piQk0v1Li8vL27uHa+k7IHA56bX2HSQV4Iiehhw3jRZBBBbz5Vi6PUyoCxlHqo7AMJSKEZfoRkkWtC/mtyS54kHU2PQdzQwDmhWShJGGNCXwHYV21dFRVFXZJTaaB2HTRjjEEPFpjtBClQeVw04/oLAjdYJQsOlkUpZTdIidhXKtNqqoCW4AfnWiG/pf/rDvvFK4M1DjwN3pHTqLL2cXl9crqJtdBMEdOsra+o315uW8IGMtZbPrBqBenGXpdz9xlV0otI4TlaZ1uTphKXH02QeHj0zPvgOJRyTKjAlRVdXv/AOe4srq5vXtowlAoGEPjbuXG1v7pZGoow9BcrzlyDxun6lgp19Z3ot7w/eMTb8hA1O3dw7PpuYlWaXmYrtjCV5qX17c/53/3Dk7QF0Zn7lAakL++f9ivuVOro1MA/z/bAaUfBE0L4ZqHRY75lRIXlqEU3oFWU4HDNe61qirjYaGaqHnADlXXhVI5GREwjpL10QIMHo8y6Ue0LQ5AjC0dHU9OJ1PmM+r3lEkhmTaJlsNYdhDWVUtHVVWpmohDZqSk6azwG9KPKJihj42SRSeLUoaWjKcZYOHMTyfTXlmCDqpv5brzjvLnoY7qKFRoSk3R2c2uvdAHBIzldJd+8JhbY1NeqddKLRemHybHANAwU+WGsh6+R1WiTaJia7D49f2DrF1bsayX9TVA3zs44YUoEm/vHr5/fDIZYL2JRG/vH0IaZBfR3R0mRYYP+ZuC4qMYciNW6XlUqqNTgtGkH5q4hj4xakipSmgZth36XKzEZhMIrHQPL+WFq6oKeaYk8foUAsZRpshQD4NnthDNCVMcEFHp9p6hhDZn8iwkM8zxE23V5AZhXbV0NGf6ARVXVfXy+kaHbzbRqqpKeQa8DI35u7a+gxueIcicuWYTSneX1Cerp6VmuamBRcHcJiVZi4W6igi7htNTHxvSYCsQd7eiTzP4E9iwIU6h8U2CVJ4ftvrNNY3VnYc6qqNwQoWzBrrgDP3Nqun52I3ltJB+qAdEmdG5PopGzLyOqZRaLkw/wibRtIFkJhA3OiNZqrC9e8gmXIpSxIwbNECPooHVIsqHFwZ4GzJKRjwpHi+Xr6xukgmeRjmgkjKnljptCx3p6PTpCNKP8GIABqu5JQEvKcDPIlcMfW5YQ576KOWFmX5oNEkOXihEwDjKfCs4AaQQdU8/Zu77QumckilJCsnC5tH7KoOwrlo64rzg8gQowtkdQsTUBRNf32leWd3UiQYCuETyodPmJyLW1ndwemziXSgRG0zmsxPkiewCYpMhn2JXi/VIeMyQKVhbhbqKCPst1MLMyRK9uYrtnvA6a1VVsHOkPRmbDwX+zTXN1D0T6ij+ocajU2zmsdhv1ld/xm4sp7v0A1v7VVXxLhCCVI2JNWxVyGCXeMplWCtxFxC3TV5e3/T1prX1HTjf949POPewX+2LKw3IUmKjCWYCKNfWd7gORceoxBT4/eMTnhdMuBpxxUI9OesQ4DRxIYrNSQkJSR9ur+4dnFzd3PHA5PHpmeckTGNSIJvsTplQEq6Ig758Ba0RkFDv3GIsXOONk4WCtC20oPOC9qm+GCowglVVRePnTGFzL5QjYBxlviFn6/buIb4CmafnUyorqm6QwUJmarOQjF2zgIDV+I1BWFctHeHgAnE/Bvv+8Ym8Mb8bBaDg1tTJ850BvXEexkZUsWqQL8vS4auukZnw8iS3kOhmU9v8zCTZFpTakHpvsVBXEabrqI81NOrZMpMF33bDRWI41cenZ6ywxsJDDI1nDgXwGiDQQN1mXkSh5qTADXCeR+l1DAgAl8VjvaubO8zrRdu5G8CcCBjL6S790ABLA26tZ+RqvnylQTCduFaaIEyDY3U6mAPoRfs1mKoYShaKrReotCN+ZQWskCdo77piqbQ6EMSa4IBR85sP4atXlJn48G0BPNKBmPG+f3w+Pj3riyjEX0HWMx8uvTpAOnRUjiD9+Pr+QTLAW4KA7uLymp8rZYIXKsXgjAAISyMfhekH0COBFozXhmx8awgap5WqJSgTL5cgYBzlzCZ89wzvmOUjJHJD+Js/RivMKwrJ2DUKfKFIA1Y86r911dURMxBMMfwb7ssYiPATxGGignNselcTZnG7LewlmpZAiboKoHfYic7osCPu5StZdCytVzZQBGVI+VgSsFAyWUCsSyoUF17rQr9r6zucqsa7sl8vGATqqrscamYgnKGpP6GjoReIPfcwaurhT2M5LaQfGWdHG2I4C0TgZPGUjtscOyh2GgSzO60067c+Uhm0bLIF7U7JtD4UW2vM+q3JBmTWGobmqZCdawmECTmokFrWBZJTNFzP0C8cujZnGQNXJIk8HnFPTjfwomMc6OnHy+sbIrCMqdA8eN6VIaYXVkcJEwpnATlrAeqgIrjpjpAXicfa+g4S14wkytPLUQSMo4zShJX8+xs6KUIybOVC9Tpho5Qgo9KjNLxZNJPMNIdFRWXov3XV1RFTRNye4lc3SkCDY9R5CiTN/A2zAszKsCF3cLT3lK7NxOeqoesIX41IRWxG9S3+rKsIdl3oY/mHv6KGSm4o8N1I/HUdQBr+7SasfeokQ5ANZ/8JBOqquxBqvkZrrg4eHU9McAVNYdXjH1Da3j3UhdWV1UMEjOWMJP1QD24Cd8bTpmCaqKqUUuvhyHQd0hql5PIAYvQVDc0NpS4nnGMMZZSDCqllcuDumrmdDDl1fwiz/XQyDYcTysBhqjAEUyspyRDTD57n6vrEsUcLyEDMGZFSAl7DEJUanUCb2pBlqEM5RP++L9IP5UkOXihEwDjKwlZIA3gAlYqWGHWZfZNoL7AQTrEoTeP0Awl2atnuuXXV0hH9oW6E4w1vOtgUttwaCwmgHfKEA6TryzTkOqWaDb0BesTE1yOUsCNQ6h4E9/VDsdutqaUIdl3oY2tNFsDCG9foizec6RKBp5meqFR1UFQvKAK11F0ONYxfD/N5eKgTCgx5Kx6C4e9iRV/vUcm9vFwEjOWMP/0w12ZK0NdoXukxPfAUjkxrTIIeHg5EQ/PG6cfMwIX78eGc5Eps7gvpdS8MHFMdQzZ+mfx18Y6OcXDpB06N6u6m8O+rqM2wDJ5mwWPUyHUxWkMmqeiEBCiArLPgw/Q+jp/GUZYPCq+e8+hAc0UwQeYfbsemuoA2zewLiQvJtCFma/RoVMlMuT/WVUtHcG7hBKQzNA7cjDq1KWBgB6QaLaUaNkg/lG3YEQTGq4D8tMnewUkHfqCWIiBnoY+tO1mQfYWTDnBhbwg8wzcKPP0wNp/6Wa7ucqgRL0V9EaYYAjkusqFVQ30z46LUoLy+AwSM5Ywz/dDIOFxvZqKMBSNcNjANUI94kbebwhOG8BE8IJqHC0lYH4b+eLMQlNGJqkPDvubK6mY4IVUSDXy5a8vLciqDyswoGcIwx1POpB9Q+sG7p2YPRoHNlIFGlACP8v8ixMRRNSFVblBQ6HmVBhuuM83DNPGfBgHjKM3TzE9++QpLL2cBmjDqmqlEdmECXNabQiGZtoIwoX9QmrC8srrZE+uqpSMNYsyg8Eg9oSHIHGIY2OEAVekZnxDGuylJQKlsw45U5q/vn4vLaywB/Da6ErRbrqWIch/bYLIA7WgmSUUA5LwrVqjbxWoE3MrVXQ41LDzqi3SawOyjVwzyM2IEsI9gCMZy+pV+cM/GRPOwP/gL7gJGK6EhfUUbe/Nc7B+fns+m5yUrDb0Vta5zCRz0iEO3MzX/4eEDpgfYqndL1UcHyKQCnz/nrYmX17eLy2veAVDBOHYORHvExUpeQqBTBrHKsLK6Cf7mW1v6Gr0mSFz2BpR+YMGjjRGxkgI3ZqLE+qq6lmHzuKaMTTsYT+iIwX9m5IeoN2welcorUwgYR5kiC+uZfoTLIVQTXmUOmWgN3M5MmywkU875m1dKyXKvrKuWjoBPNKvHo5JFgTiwYGAPlY4JHjrhqqqw0aCaTUkCPxyuGlpDkbSALhrswSmTmeVaiij0sc0mC9avfPpxNj1XD8wypgPeC3L/mVF6ubrLoYaFR2HHI0wTzC9PPzLa6fMjYzktpB8MWLUACMIa1MPJ4qk6ffhKbQX3qkEwnXW0ktDrPSJlGHbKJiwoPSvNfj/F1rFoQ5Z5EKxBvy4bqfroADWvYBcsEBwiqdeFORaTnrG5FkCsMuhTLbNTNNEcEmRDST+QO6lqiFhJAVhFAc80DwOO1MeIwN+gbTjzMzLRcMcQ+88MAsZRZijNI6YfmKpqTvg6ZDQ2Mkz0Jywkr3d6p5lk5Axr170DPkoV+mZdtXSUCsR5+YpbOdHhw5WFj4x2wvQj1S+dsKos9AboEXNfbSnsKJSNN3u1YZRszspyRZT72GaTBasP11yOC3Dlrb3EwZLhby6UqzuFUgg1Nt2im2uYFNj65P5muMCBZ931NyWh1y8CAWM5/Uo/NBCHu4ffhGGhhs46WknI+K0MtDL/MnkgvRaUWOsxDfCUHPIdUVquBGiu64GOWutTA8xkVuiOC9vK6ibl1IGY7wJTJB0g6FUGfUqIwn01bQKyoaQfkDxcugx0+GSNAZbnXRrEIPLQmpAVUDXcsEGoF8Cir9adTc+VOT/so1YX9ug1JQgYR5lvsndwQg0i/eDbrtxuxzQP50uec3leAUMKVQ/L5Lkou0N9ZrXuv3XV0hHdrEJENanjJURagCvTGpQN7OhFubFfVQH6Rays8kS9Ad8SUbbMHjWbfXx6VofAj2tFN5XDsTSuKVdEoY8tnyxHxxN90Rz89SYCVt4Q6nCwaKvqCGm8pqqqcnWn4Aqh5i6AHg7zUgavkNAfmjczuf7SD6e69volImAsp1/pBz4dqG8gwOHCWLEA0DtEKw2yVzd3cE9ou7G1f3Q8mRlfgjhcb7A2oN5YedjR6WRqEnSuQ/hgHEVN1WcG+Pj0fDqZ8iIWPl11cXmNpYj5SXQvgf3+Of8LDmvrO/hDPzpAkBkZHp+eSbO9e5hCkpyB1VDSDwyNn2vkoTwLhA6U5vOd5k+SVVW1tr6TVwGdqTEnXo+GZjEjeJnNiAGBOWsWHWqw93EXjKPMDxZ2DmVh1xY1mmxgKtFmaFQsmMCRPcLY6PdYbwopMtRr5IqGyI0zbNGwz9ZVS0f8g3T4O6H8Xif+Do8G8QZY/IRCw0cGdjhzgzbuEeGdGagbncIkVAXgZrxBNP2oqkovC8HPGBsDQfiOdTiKOWvKFaFGRcvXAiQxA1EClDlZoBfFEHs3RJurpE7G6HhDdUTJvLJc3SmsolDzcx38oi79KtWNT5ZzsYN34oWLVECSEsPrO0bAWE7D9KNjob27cgS4i2DenynnoJRwE6GLV5qZ5WGlHxhs9F+O9Pb+AesoyLZ3D8+m5ybbxPbkzGQgFXDgb74yPwyzWeTqFGNtfefoeBIGLpTZC7UQMI4y3zbcDgh1oVMpal0p3UHFGmBFhUmRpU4/YFqpTgdhXbV0BNBeXt9OJ1PGK9u7h9y1iaLKSqiMP1kwsEfTDwPmxtY+tBkGYeAWKgWUJqt5eX1DDsm/ZIoaHR32lSjtggrlisAAo/avCJdPFnP6gQHe3j8QGbwkWRKYhupYEFxDZ1uu7tRIU1DjtVJmjBtb++HCCp4Xl9dMQtbWd04n03DWpHr3+mUhYCzH049lKWJR/XKnTc8rG3emy8DMACjVy1DSj5T8zeoR9um2TTM+3mopCBhHWS4D3/0ob+KUzRBorKNm3bXeCsfUeimr9S66YTh0RXSD0mh6cXWPRpUdD8RYjqcfHeM/sO48/WisMNyOa9zcGy4XAeMoy4Xx9KMcqzkpG+tozn7bao5d3hHsUAxdEW0p9JfwcXX/EkW3PkxjOZ5+tI7wqBh6+tFYnRtb+zNvGzdm7g0XjYBxlOXdefpRjtWclI11NGe/rTTHh9FmvhvWSl+LZjJoRSwanPHxd3WPT6fdjMhYjqcf3cA+1F48/Riq5lzu+RAwjnI+Zt56IQgMQkd4L8i8GHZ1c4c3NEreSVgIdq0yHYQiWh3xr2bm6v7V6p9j8MZyPP2YA8tf0NTTj1+gZB9iBAHjKCMUXrVsBAahI37YkB8945u1M79LsWyAS/sfhCJKB+N0sxBwdc9CyJ/HETCWUzv9iHP1WkegrwgYi++rmC5XvxBws+mXPmLSuI5iqCyhzhWxBNCX16Wre3nYD7tnYzn/pB//8f85Ao6AI+AIOAKOgCPgCDgCjoAj0CoCmj/9k37og1T54+N//L+hI5BS7ijrTcI9yjH6oFpHwM2mdUhbZ+g6ah3SZgxdEc1wG2grV/dAFbd0sY3lNEk/lj4GF2AeBJb7VzjmkbxZW2PxzZh4q9+GgJtN/zXuOuqJjlwRPVFEN2K4urvBeXy9GMvx9GN8Kp4xIk8/ZgDkjx2BqjKO0iHpIQKuo54oxRXRE0V0I4aruxucx9eLsRxPP8an4hkj8vRjBkD+2BHw9GMINmAWsyGIPE4ZXRHj1GtiVK7uBDBePQMBYzmefszAa3yPPf0Yn059RK0jYBxl6/yd4fwIuI7mx7AVDq6IVmAcChNX91A01Tc5jeV4+tE3BS1cHk8/Fg6xdzB8BIyjHP6ARjgC11FPlOqK6IkiuhHD1d0NzuPrxViOpx/jU/GMEXn6MQMgf+wI+OWrIdiAWcyGIPI4ZXRFjFOviVG5uhPAePUMBIzlePoxA6/xPfb0Y3w69RG1joBxlK3zd4bzI+A6mh/DVji4IlqBcShMXN1D0VTf5DSWs/z04+rmbm19Z2V182x63jewRimPpx+jVKsPql0EjKMsZ753cPLn/G85vVM2RqCxjhr36A2jCLgiorCMtdLVPVbNLnpcxnIaph9/zv+urG6G/21s7R8dT27vH8qHoUwen57LGzplMwQ8/WiGm7f6VQgYR1k+dk8/yrGak7Kxjubsd3HN9w5OVlY3B7cOkL8Q2wAAIABJREFUjk8Ri1PxCDi7ukegxKUMwVhOy+kHc4mj48nX90/JCNlkZXXz5fWtpEkzmtv7h7Pp+cbWfrPmo2nl6UdelVc3dwgCVlY319Z3TifTqFk+Pj0fHU9wcLeyulmYdZtW27uHVzd3UXkKxUDb94/P08l0Y2sfs2lja9834KOollcaR1nS8Ormbnv3kA5t7+AkuhGjZIUGUKJQGi0FMAUT1BaKUTLwZdHU1dH7x6fBhD/bGsLj0/Pa+s7G1n7h8mf6/SXpRy3nRogAzt7BCWtmFr6+f46OJyVNsKM6k6ETVHO8Fxcuf8ZDGoLMqqomVOIeXXF9QMB47EWlH+WXqbq5fMUwcWV1sw9qWKIMnn5kwD+dTBGR7B2c7B2cIKBfW98xXvLq5g5k27uHewcnDDpnBv3KnK1OJ1MjUqEYaMUZtLG1D7Hxr+HpP2shYBzlzLZUGaJPKDeMe0gGHcEeZhoA3Nf27mEmqD2bnqv2tYxe3j8+OYpCMUjfz0JdHT0+PWNPQcFBua0BdpZ+fH3/nE6mR8eTtiSfh08tRRjbS/lYIw90t7K6Gc4pQ8mft/cPYJ5v8vL6xtSdbb2QQaCWusnnbHquiybWTV0xy1dVY0Il7pFieGGJCBjLaSH9oAE9Pj0zooKdZRbLjiGAPPi346771p2nHxmN4BxDAzU4zbX1HW0F16nbybf3D7Cu6FEJ255Nz3VSvLy+wXWaM5BCMaqqYkRlEiT26IVmCBhHmWeChRPpAS9fvX980jeiOcjW1ndoJFEDwEbs9u4h7fDr+weu1TDMS4WnF5fXK6ubmuEUilHCfLk0tXTEyaJQLFf+sPfy0w9M/HxgHfJfUE0tRZQ7N5WWGcLMIX99/+jWeCZjub1/YCDrsYGinS/XUjdY0afR9YVdFK6qZNWKewzF8JrFIWAsp830o6oqc7qt8dnihlTC2dMPouTpB6EICyYNAAEiPzXmKBkSlboBIqJDs4sZ5R+KUVUVtvcyPj0co9eUIGAcZb4JVIPlkOlH2OToeLKyummUi2RADQAZKRdX8Pn6/llb3zFpcNiFqWErTXoLxTCsevizlo6YftSdoV0O/DekH8b+AW/UuRF5bO4AnJnpB8JTZB3ILqJNeJyCqzuefhDtmYW68w5h4cwbiVHDCFfVFt3jzJE6QbsIGMtpOf2oqgp+BJMZERv3LfBS3dXNHWImLAMmMeAu8srq5vbuoQ5ecxu8wvH+8XlxeX10PAHDldXNja3908lUV27lr2V1SV/fPxeX15QcTGaGdHRzK6ubf87/vry+gYPh/Of8ryKwd3BycXmt0QDHiBv8FGNtfefoeBLOSR0F1lTEE3C4FPvP+V/CcjqZskdPPwh4YSH0gNGGXCOjT1OV5buYoRiIXPu8m5sadf/rjaPMC4wpCZpM+hENLo0BmJ/aL2KpWsdc8FEm4C4RQ/vtbbmWjqqqQqpv0OjV6KKqiUqYsZMo/UIr6yoiFCZ0bqT5+v7Z2Nrf2NovHPKf879HxxPEHrB/XZHJFpc1sLyCs1/MJjj5Ql11w3GFkUy+Fzw1q2rGBhq4xxIBnKZFBIzldJ1+wMtgtY6mH1VVIbsFjSYSWDxQj6/0aliPevyr1xu0Xst0SUwb9CnK+Qmj6cfpZEqxyfn2/oGVhvnG1j7zBGhXuRnivYMTJg9VVelTBKBas7a+8/7xyRyGj3hx3NOPutMJRntxeZ1vCEep29h5ejxFq5IUIhQDaafOkZIenaYEAeMo800wy6CIxaUf0VwiIxiOPlZWN42FRGPczLqe6WK5j2rpqKqqugDq6KDiqqpeXt+43bO9e2iywRSM+nEI7Cvhbh62rtgRVYNXO7B8rK3v6KXN1EpBJnr1iH3x6SIKdRURyhA6N9Lg0ePTcwpbUoYFYMUVOSRADTh7+pHCx9TXVTdehzNMCn+aVTVjA/PM7kJhnGxOBIzltJx+6AEFv2SVShJS6QeyWLh7TQDo9LmgpjjrdU/G36YAl8RL1eYpf5qVW9FPLQPg/PL6RibRwtr6DpMKzayixOpAlSCa3kQreevD0w9VYkkZuZxevoq2wjJZd2+VAUeUp1aGYuC4T2m83BYCxlHm2cI1IfPMpB/RBdKYzcz1tSRThbTwKiF9iRj58fbkaS0dMf0wCUPhWOB1oR1844Fny7pIRdXHN3zW1nfwpjvu0WGlU48Bb4B9KxBzI4lLALIL1JMhn4In6yHkTN9VCEKKrK4iQj6hcwMN8MTMimIbstIamDrB0UdaBmdPPxSTTLmWuoFt6IUy/PXR4tyj9uLlbhAwltNm+mFePefVKZMkYBf56/sHkb0G04BAA3fdSyYlOZ9OpheX1/St7x+f2pdmDmxrXIymELyhpEcKmWmjbfFyJ9IJHGuoJEfHEwhjziXAnJuUEPLP+V/wwUdUKDkXOdbgftr7xye2yrQeHz42yRW68/Sj1kyD95z5vWYqUa0u39Ht/QOMZOa5Cq+tqxhcjKF9BkO8eJDv3Z/mETCOMk/M+HJ79zDzFUjOR8zxr+8f+BCeTOrrc6EhwVpmxlIUFSYR8ikRg0z6XKilI6Yf9JPhTd3MYNFqbX2HfriqKsRG+kIOZyVZ0TNomkEVRE8/8L1vbk5hA5jbeeAcdoSTGWxJsC1chzlpp2xtFeoqwvSb8rGAjvt00SEbVuanpx8GkFZ+1lI3VIDb6fxUPSw8dE1GPM4dUnKDmzVsUtc9sqEXOkPAWE4L6Qe9uSnQ5WkgHkbz2oooMJaiZ6cLXlndDMO1r++fx6fn2/sHPSFhWmIuLLEXvrkb7iJT5sxir+mHxoUaQ4ScOX/wCciqqjLZjj5iJqaIEWRly9OhqqoUN4zF0w81gHwZ145XVjdn7pjC8HAnMM9T1YcLzXn6qqqiYmAx3t49xMYhdlU5cTRImsnfCUIEjKMMCUyN3uHcOzgJV0fQa9wJSwjfyMQGtvnyFc+EMx5JRYLrSBGXiKHc+lmuq6PTyZSf3OWpAo+F82OEssL1C0fNXGvCEBlnUPTe7IWhlaYlWHfMalJVFdyLUoYdMb9SMna30EJdRagwUecGAoyavjc6ZGUVlj39CDGZv6aWuqECJB48lOOtQgYwUamiq2or7jHanVcuGgFjOQtJP9bWd+iOq6piKB8N4zQa4+Cxq4RHYKU1XNpxoTZ110hliPZi0hKlYTlcCSikph8m7oSjBBPzyADCNQPEdLXshZIwkmCNOcmJ1qsknn4Q1ZLCy+sbovl8KP/1/QMLD0OTaC8MgMB8bX0nHy6kxKBmt3cP1Ykj3MErQFEBvLIEAeMoS5pgLtMdhWrFH0HTPz0BGzB/pFVzA/xhGUxtOJxyM0sF1oViFA55iWTNdESB9dCYawqfmgJUoGsKCDD3WR+GyKlrRTw8UTsBN61BL1C91ocdcbMpTGjNWFr/2VgRKefG7wSotUeHnB8LcOPSmSKmL00ReL0iUEvdDJPUy3Hq8SaL8seOW2pVbcU9mu78ZzcIGMtpOf2IftYJZpRy39GgWe9fIXznti63kXjhARz2Dk6OjifcI8RXtohptJeS9MOE+GRo0gZdGHhVBp2aR/n0g8sYO6Lk9KGsMbJF6+lY+T6Mn34Q20wBf8vP3LUI6bl8hklmSBzWcMs81TwjBjWruQe6wIwLDwlDAbwmhYBxlCmysF7/DKUGT5z4vOSJtkgXObtRiXtZ6vRwumvu6oS9owZnoTw6NmRc1/WKTlQM07BvPxvrSAcS3WFVApThXcN6M9fCEDnVkCuILhDgFq4CiOG49nGJMWbDL0/ibfWZOVU4nGY1zRQx07nppcTMkDMye/qRAafxo1rqhgrClJinf+H6NXNVndM9Nh64N5wTAWM5LaQf6j2jwsGlwguHjjUaNOu1KFxCIBm3oslWnZTeNdK+2DwVsqey8OiIUMm0PowJGBpG//q7nvtzEYKE5vTj6/uHknOlYU1qLFqvkoCDpx8ZneIRj3dDz6htcb8l/JvoSjOzTC8cxgp5MaDZqN2m7nvMFMYJiIBxlKyfWcCr59wcob+Ca4qepsKVmbkfdgSHQ4YhAWtAaZIfPJ1fDPay9EJjHankAITeVR9pGV5Xa1CG7rgILjT9UCHDjiDP1/fP2fScR3CZe4DhWBrXNFBExrlh7ujnKyFYasgZsTERFLcoMTjruhkl80ogUEvdUEF0fw2Zv9kma7yqlrtH1+OyEDCW09/0Q29bIZzCAsAdO0bhdP08zsajkvSDblrflyjUDcwdfakM5e9+IBbRFzxMxBB9xIEbdxmtp2P1048StfJg12xRh225fIZpQ0icr0EEo+ZaIgZOCKMra4N1Oi/hL3xqHGU5AvzyFSYvFZRZhvHI+JCwR9hJib3h2CSaz8wvRijYsmoa60gFLpws8K7aEOW+pR+QCn/JCmYQxvHhKOasqaWImc5NF1Zd1Ey5RGaw4hxMNeEqmSLwekWglroRvEWdW+j35llVy92jjsXLXSJgLKe/6Yfev+JxgUbndEYbW/tYkjVLMZevNM3Q7UOYO1jpR9zfPz6vbu6iKTu1pV4ynF2UGR/FgoTmy1dopUcceLEeKZb58hXDUw7c0w/qIlMwFp+hrKoK9hBq07RCZKmXWQ1BrZ9h+lEoRurPYGMi5K23loS/kLiW2Sg+TD9MXAt3EVVKuAwrQ5Rxnyp62GWI8zev5hTD9LXcn411pGIv+vQDS080acTur3qb0BVAVGhNw2hjXToiLaMLXTf1aVvlWoqY6dzwZWG+I8cCllS+vlwifIhbtJWnH1FYUpW11I1ATu8Nki2Mk7sk86yq5e6RvXuhewSM5fQ3/dD7Vwy4aanRpyRDgfE6vxyiBHDl7x+fmpkoAY8LUkqCa0MTXUJAT49mePKn3hlTViTQgq4fWq+yRetVDAzZL18paFrOnCcoGf4yJj8HaR7V/RlevioXAwu5ptPoHUGMTpa6Ujm9cZTlgDD9MHEtcsLM5StzCcH0iKU61LUh4zu70fWeTxuLEXa3xJrGOlKZMVny4PMtQW2IMprT/4dZQSoBQMBkLu62nn6E8oRDmL+mXBHlzi2UqsFYPP0IYZy/plzd6AuncCYD58LH+yzYTePPWnKWu8dabJ24XQSM5fQ6/dD7V/xMLeHQi0mIvPG+HaNwTT80CgcBd5LwAhxbaYE07FQLmjNw+VGCDGfztSJzbUxlWFndNLvs+lS7i9brwD39ULjCMhQ6M8IDpJoQhqxQA5/IF0jOpucmJeBpmG6KF4rBO37mQ3PISUq2yVNie31VVcZR5jHZOziht0H6Qc1S41xudTrzCzCazV5cXrMVPgIDQzLuCN+yZL+UEMSpeLpcDDLsbaGWjrAJpTEQwQ/fiw2HDO8a1s9MP+iBVSMwD+x86dpRnn4gjlezwcvZ9DYQFWuoupdwCPPXlCui3LmFUgHJwlmA5ujONElxNrcJQjKvAQLl6gY9QjXzJXGcZdEyy1fVQvfoyuohAsZyep1+wMMyqg4Dvtv7B95xOp1M3z8+4W7QxCzMSmxONt4/Ps+m52SFp2fTc12rQl1qX7qEKGWUcyrAfXx6Pp1M+bmbtfWd6J+QIyDGXUbrufhxyH76oQrSMtZ+fOqUJ/5aADH0jr98rE9ZZgSwtr6j28zgz8sDtDeNR/l9pJliQBgm4aCH8fA6oo7Oy7UQMI4y3xZTD5rFHh5qjMvi++iYjLAHbKzQZvgtChoYWO0dnJh9QdSHngdBrfF+Kn+hGNqkn+VaOuIJBmcWANzY2lfwUyMFcfgUSqQWoiEyJ6nqdHv3EJ6EbTn3Q92B0oTRnOx7ByfwM8Y1gUCP2UP5W6kpV0Shj41KFcU2NQvAIYpbyJyrZPjIa0IEytXNttgUo9+Dj1J7NqbLxZQFTlJDCQMI3SO79kJ/EDCW0zD96M94XJK6CHj6kUKM4SA8WvgvGsL9hU9Zg+gByTN3d7A3GaaXYS5aKAZH8fj0jA1v/I1L/EVtPvVCMwSMo8wzKdw4wFHG2fScWwwbW/vhNsfL6xv/PDAW7NBIsJdvDr54IGY2JkLh8X2kvBhhq77V1NIR8jrm/AD24vLaJHWpMWJ2h09L0g/8RQ7O642tfaQc8CSN0w/YCQTDaaexHGQ4hQMMh1ZeU64IgkBvaQqZTqPpR+oMEHyAsIa5Uf6efkRhSVWWq1s5XN3ccfZt7x4an1a4qlZVZYx87+DEsNJOvdwrBIzlePrRK+10IYynH12gXFW46889m2469V7aQsA4ynK2fPejvIlTNkOgsY6addd6K9yM0ktZrXfRDcOhK6IblEbTi6t7NKrseCDGcjz96Bj/5Xfn6Uc3OsBBRzd9eS+tI2AcZTl/Tz/KsZqTsrGO5uy3reY4fRrBDsXQFdGWQn8JH1f3L1F068M0luPpR+sI952hpx/daGhja99c/e+mX++lFQSMoyzn6elHOVZzUjbW0Zz9ttI88/cfW+HfJZNBK6JLoMbRl6t7HHrsfhTGcjz96F4FS+7R048lK8C7HwICxlEOQeRfJ+MgdIT3gsxXTPhRxHFcWx+EIn7d9FjYgF3dC4N25IyN5Xj6MXJ9h8Pz9CPExGscAYOAcZTmqf/sAwKD0BFfa+Znr/jGv36Xog94NpZhEIpoPDpvaBBwdRtA/GchAsZymqQfHx//4/8NGoFCWxkHmbH4cQzKR7FoBNxsFo3w/PyHoqOrmzv9lBmuZYZf150fkGVxGIoiloXPyPp1dY9MoZ0Nx1jOP+nHf/x/joAj4Ag4Ao6AI+AIOAKOgCPgCLSKgKY6/6Qf+iBVHvSuvwv/225e1f3z1Smz9/rfhoDZp/ltwx/EeF1HPVGTK6IniuhGDFd3NziPrxdjOU3Sj/GB8ntG5OnH79G1j3QeBIyjnIeVt10QAq6jBQFbl60roi5ig6Z3dQ9afUsU3liOpx9L1MUSuvb0Ywmge5cDRMA4ygGOYPwiu456omNXRE8U0Y0Yru5ucB5fL8ZyPP0Yn4pzI/L0I4eOP3ME/ouAcZT/rfb/7xECrqOeKMMV0RNFdCOGq7sbnMfXi7EcTz/Gp+LciDz9yKHjzxyB/yJgHOV/q/3/e4SA66gnynBF9EQR3Yjh6u4G5/H1YizH04/xqTg3Ik8/cuj4M0fgvwgYR/nfav//HiHgOuqJMlwRPVFEN2K4urvBeXy9GMvx9GN8Ks6NyNOPHDr+zBH4LwLGUf632v+/Rwi4jnqiDFdETxTRjRiu7m5wHl8vxnI8/RifinMj8vQjh44/cwT+i4BxlP+t9v/vEQKuo54owxXRE0V0I4aruxucx9eLsZzFph+PT88rq5v4b+/gZBBo7h2cUOYx/WFagO/pxyCM0IVcOgLGUZbLs3dw8uf8bzm9UzZGoLGOGvfoDaMIuCKisIy10tU9Vs0uelzGcuZKPx6fnk8n0+3dQ8bra+s7uvp6+rFoddbl7+lHXcSc/nciYBxlOQjqAMtbOWUDBBrrqEFf3TTB5tfgtr3Gp4hu1D3QXlzdA1Xc0sU2ltM8/TidTJl1hAWM09OPpevbCODphwEk//PP+d+V1c08Tfj05fVte/cwvwV+dXOn52x7ByfvH5+G1cXlNXP77d3D2/sHQ+A/F4eAcZQlHV3d3FFfK6ubewcnqjLYUugqWWMM5uX17XQyXVvfWVndXFvfOZ1Mv75/SsQgTcp6v75//pz/pahgHpof+fS20EBHGMvj0/PR8QTYrqxutji5Hp+e19Z3Nrb26yoLgv3C9CNlpbS694/P08l0Y2sfM2Vja9/MFFKagvtYA0hbPxvPOwjw9f2DqRfqkVqmV0Qhn5DTtbY1QOezIASM5TRMP86m58Y+zE9I7+nHgrTYmK2nH4XQvby+MT0obAKyP+d/U74VBF/fP+S8d3CC/za29o2HPTqeIO7cOzhhpHg2Pa8ljBM3RsA4ypl8uB2D6BMq0xunCIaocS3AYK5u7tgLolhExnsHJyBYW98pTBLy1ovVemNrHzKQ+cvrGwUYRKGujjAoLl7bu4dAYOZmQTkanaUfX98/p5Pp0fGkXLbFUTZTRN5KIe3VzR3sk+YKleXH4j42j8+cT5upm50yWwjTD4SR6htRzrgmJjMNNgopkhe6QcBYTpP04/3jU5ON08mUi+LL6xtWWQzG049ulFrei6cfM7G6vX9gKAk7n9mkqqr3j8+Ly2vdvAl9K/gg9zg6nmT2R+Ggt3cPScN41GQpJbI5TQMEjKPMc7i6uUOqgLgHqn//+EzZgHJ7eX1bWd3c2NpnJRdUJiSINXGiQrJoocR6r27ujBXB4FWGKPO+VdbSEYTnzMoENEscZvnpB9ZWzW+XKHZdRZRYaVVVGOPa+o6eIpYM031sCUqNaeqqWzuic1tZ3Qzdo/GE2jBVZjLj6UcKov7UG8tpkn5oUpFfsZSyJ45ypia4M72yumkW6Zlt+0/g6UdeR7RYHPGXpx80m7PpOXa+Q99aVRXi1PyeJRz02voOcw/IDD97Opnmh+BPW0HAOMo8T2gcuzB13/0II04o2tgPl23u9YQiNbbeqqqwx9zPoDwcKWpq6Qh7BIhvzMxK8e++PjSGlAzQdU9W1VqKKLdS7ObUtUn3sSmbaau+lrpNpzh7hJ0bF1dVVckOizJ8//jE+8blK7U293LHCBjLmTf9CIMkHQ8dDa3qz/lf7hAfHU/MUvry+vbn/C8vG2BD8c/5X10tDM+v7x9cU9Hc9+v7R+/Nb2ztn06moRfDHWiVR4+D8+mH5tx/zv/iuj+HCRDAn4Epnl5cXutwCFchsXJ7fHrGvVgeT3OX6Pb+gTd29g5OOHZPPwh4tPD49Ly9e4hdZ1palNJUHh1PeAyY8q1VVcHYjNkbVlg+wzQDp45r6zuG3n8uAgHjKPNd6OJXK/2AjZkgMmUkOKO4uLxOCdPYequqgtEOa8Ollo6qqgKAPFNKwbjE+nItRC1nWZLXUkShlabc4MwxpqaPNkwxdx+rKKXKtdStTHDSezqZRndY8NQ4Q20elhH78T5OSOA1vULAWE6T9ANWghUXGUJq0WIAh8jb3GnB1XaNxcnTFMwtFD7Va/FMP5gJkIwFXXi+vn8YoJNgbX1HK1PjqqpK0w++Iarpx+39A7ICMmdhY2uf+QCMo5xY04+Ly+uwi9v7B15uZo9r6zvo0dOP8tlI6y1vAspU+kHnm2cI9amtkh4rqzEePvVCiwgYR5nnjInW4PQDpqK6/vr+Sd1AKNnWpZx1rVcPcMik54VaOsIJT/64PjNeqLiqqpfXN254he+sp7ICfX96bX0HW29hEMb0A9ft4N7X1nfOpudcKHXpoYfn8ocjVi4T7CsztPkf1VUEe8xYKSNLEpcU3MeWoDQnTWN1b+8eYsM6tHzetStPP27vH3iDi9NzzqF584UiYCynSfrBrTL1fXsHJ7qIYgx0Lkppyvo2rXmkP3lOl+FZVVU0qVA+3Himg9anplyYfmgrTB6ToSkBynpqVItYxQ5zD2R0YXcrq5vYTff0o3x20dLKm4ASOqLFsjl8bjhNSKDNo7YHztFHhon/nBMB4yjz3BAq4U5d+ekHJr4JiGF10TU48ygUr5b11uIc9rWsmlo6whjDQ8VC4eFUwQSvQWMvYGV1U2d0FMmX1zcmEniVdm19Bx8cY/wEMTDBsRuFWyXcDqNJ4O1K1ING38bGHh/rIeSiPUYtRSjggEtzJz5NJeEkiBbcx0ZhabeymbqhGhzeZtIPDQgzYuMyKj8xh+mZofdHfUDAWE7D9OP945POV4Nd8wEfOhfQ4NuRfI0SlfSqyGqubu64ufv49MxeuEgbntu7h8go0Apmrd3xwj0rq6pC3owavtmGDSpU4t+M19aOENxjdwpiaJLAO2bvH59cS5gPmFyuFvHa+g4kvLi8VrE3tvaBiR43AUBPP8onIS2tvAkoU+kHk4fb+wdaCF4y4dZm/oIWDkbCxKauhE4/EwHjKPP0jC+3dw/LPwwavQuUuhaCvRVM87wweFpovXg/Hqe+3Jop4d8Hmlo6YsSD4wvmA7wzmR8RkF9b39FkA/NR70MCdl3U+NKOTlvdJtN6uAXznWWuVlwZU1vFTGjVnzw+PWvD/DCbPa2lCO0iZaWEEdECw4Cj40lmUeZi+vj07D5WcW633EDdVCgk4WRUwWgMnGsZdXMxBYdyx6g9erljBIzlNEw/sBZqdAv14186aLUn3e/HBQM2CSF4//h8fHo239EHmfJcWd00Syb9FNMVtGK0h4VBJae0oCSH8nc/TF+8iRju3+gjLFpak+HDFY4DWVnd1FvgKjZHFOLs6UdobKkaWlqKIFUPHWlUAUrUw/b4HUnMAr1eiJoo86jXjlJ65ZwIGEc5k5ve+Yz+FRfDARNfvSII8irO2Ibhn7de9EIPrHd7DJ8+/6ylIwwZf+6DhwNMQmYG6MAqPDwBB8bEgF3TD+wNhV+biKYlcBFmIaiqCsdr6lLCjnglWMm6UV8tRahIKStF/fbuITbscLzDNY4LnLJC2X1siEnrNXXV/fX9s7G1r98Nj3q5i8trKBr/0juFkw5zSs9Jyh1j62g4w3IEjOU0Tz/Q5fvH59n0HC6Y5sKsgM5FX4pAQyWm9PhrUPpIyyBTntu7h2wbstW2LMOzw0mhUjeKuH2CR1xUTC909CDTacB9qegjw78usWmu4umItB5i4N+qqjz9CFWZqqGlpQhS9dBFGARQR/qIZ2K0Iior5B/12iGZ18yPgHGUhQz5V1/MpZqwOVQZrqx5FWdsw3SRt179IyTgqR+oMKx6+7OWjgDsyuqmfvOaR/HhUmJGDZTUtYIAk5r1gF3TDwTQJFC24WFmynWEVhF2xFN93kjRvhZarqUIlSRlpazf3j3UzBBxpwayyk3XR/exBpkWf9ZVN5JnTRpDe46Kx2sd2hZHfLphh09mRa/wRdl65bIQMJYzb/qBYdCJw0dz6aUTKUk/cOsAHLA7dTqZMmKjbWV40gopRrSgTopsqQ+NRPPXAAAJzklEQVTtMbpmgJKLGQdLDiqhOkEQKH+TfswkNpKreMpW6xUBTz+oo5IC9VhCrDTQRUqb4T4oOuIBF1SmDFmG1akv5iMvtIuAcZTlzPV7GGF2QT7YytXQCo/yC3N4oEqGplBuvfhOIF4bM4fJhmffftbSEYANQ3OeQoS60PGmZiUmOw+iAbumH6mG3MNSRwFu6sAhA4RX1xF2BEq+E3I2Pe9Mm7UUoaimrJT1oVIM4MqN66MCBQIwdB9r4Gr2s5a6YbrGE+a9nEqFDIS7A5it/JQOKTOzjDReWDoCxnLaST8wKuS4sAP4XzqRmekH1wB9KaKqKuwPqW1leGr6QXuNIg4XpmxJpo/CZYBkmD/goOuHySi4pc2G+vpHXWK6V/Sr4qXEBiVH6qcfVMTMAi1tJqUhgC6MVVB3/DiytsL5IdZaNFflkjLziDReaAUB4yjLeeLVc74NEs0VYVrhHRs6BI1f2TVaRR+RhoW61huNEsitn4VaOsIAQ4fMq01MIaKDpQs1T81kD3WUatgg/VDVhx1BsK/vH72PUHIP0Iyowc9ailD+KStFfXQRRzwaJhhgC3W4j1WQWy+Xqxt7yuakImr5KSF5gVw/LBQ61cwsS3H2+u4RMJbTJP14eX2LTm9NFeAd6Fxmph9KqYGXCda5PMPa1B0DSr0Gltn7gZMCEzVl2joeqSRGVZn0o/B1DgQftYgZwobi6YhUbFDiXz/9MErM/6RN5snCpyYiIQHyc9UOH6EJHoEsOsUwHTKGTYZemBMB4yjLufHLV1h6Qx/FP0ARDYV5tSDsEa8gm33EkAw1da0X9FFpU10svb6WjhC2hpsChcEQXagZtZnsIYyphtF+1Q9oR1huVDthR0qPEy2csIVbxUrZSrmWIrTHlJViFuh42So/cPexBGpxhXJ1w541CAnLUS2r8JxBtJaQidZEV1hl6OVlIWAsp0n6wfl/e/+AFye+vn+ubu409MdOkpqLMTI1F5NU4G5ueKELkGV4cl0Hc/0o+/vH59XNHdd73inElQPYK2/hU7aMHWfSj/8f5WvWxC+rGP5cCGsR63xW8VL1HAuumfnpR/nEo6WVNwEldEH9sjmsLrrJirmD2QQy2iqbIzeObpmTxgttIWAcZTlbph/0k2Hb1M0rUKoxaFvs7+h2iT415brWm5HWcO7Pz1o6QkQb3TXPJPwcLBwpf7JgJnsII7QZ3TJAv+oowE0dOzqqm35QPHRRmLKyVd1CLUUo84yV4tvESoxyyj3qU/exIW4t1pSr+2x6rm+TswwHiO+vhCudisodYfzJHXIwBUxPVIYX9pShl5eIgLGc5umHxrWmzM+50LnMPP3QQwDDjT+BWoZnVVXvH5+aBbEtCkyB9K6XodGf4TJAzeXTDxVSGbKsx5G1iFNpRqqePXr6Qd0VFqiXQnqSmYiE9TDyMH9AR7xpADJOIjaHyWmwwkdeaB0B4yjL+TP9wGEFfQ45IA7mNXTWs4BvoxlF89Kz+VQGW5lCXeuFdS06TjVCzvmzro4Q9JhMgGtBHlg40lBgM9kBuyo9lQBwyVNFg1u47jROP0J5wiHMX1NXEewxY6WYBWGyDYiih8MIAKLvR6Ej97FEfp5CY3Wz0/K1DJTRXQNy4617rfFyDxEwltN++qF/0pvOZWb6YQ4u4OuRyzKABpoZniAw5zBsbmTQN91Js717CO+GmnAZoEYxK0Cm6wcJMmKYr3ngL5OksiZDnBIvVc+hefpB1RQWaGkhfWpnDpTQRdQqsKbiD+CAmC8J6IIakj0+PaPTfJAUiuo1zRAwjjLPZO/ghL4C6QePOlWtYILt28yCyvyTPHkUrEaFb8iSxkiYst7Hp+c/539NCA6RMh8UMsx78rOWjvgHoPinovQ2eX4LNhPfmMkO2DX9oCJ0Sx7mAZ+vOgW3UKdh+sEkVh1C+Cc+cGI2c3RzKrSuItgdwWENC+EsYJDALALv7fDvX6Ft6DzdxxLVVgqN1c3eo+nH2fTcWD780srq5swDDcQ55O+FfiJgLKdJ+gE/fjqZ6q2hja39o+PJ1c2d8YYMf9Uj05sbo/lz/pfXVf+c//36/tGoGoDSYZl0QuHG54BVvL2Dk/BLIPj7U5CBf/1NezSTQbuYmX5gJ+Zsem7ECLdzwDYqc0icEi9VT/w9/VD1lZRpaYYYC39mnxi60KiCHPjnxviXB6AgQ2zIYEId3OGmnF4wjjIPCJQInSJLRE3USMIrNyFzbo5gQwRxquEWtRyySlkv68F57+AEzPnXV8mh/4VaOsJwEJti7eDYzdoUHTjQDh+ZyQ54DUNqU//az/buYRiEgVu47oTpB/8+Kf8EO18mYS9YTPWkPZS/lZoGikC/tMaoGMQNtsobO5o8h7PAOE+ujO5joyA3qGysbvYVWj7fa6X10i+FURD5sJCaniTwQh8QMJbTMP3ow0hchgYI+Lsf5aCllkZsyYS72uRsIhLWo/D1/cM0G3+FIIw2sC9LMvwVZF10DU//2ToCxlHm+T8+PZ9OpgiP8DpZ5u/1giyqdO1F/wjS9u5huAY3O/3AS8mMyVZWN7d3D8OtGZWkt+VaOuIo9K/ZRoElpRZS8Y2Z7NH0A3+Rg5hjq4vZgobFoAltI5p+6PYZDgT0D7pDs9jF04EsotxMEfrOZ0oqnQXcIlTi6CxwH6sQtV5urG5KEk0/9A/V1/VLqenJHr3QBwSM5Xj60QeldCeDpx/zY40Fb34+zqHPCBhHWS4q3/0ob+KUzRBorKNm3bXeCjej9FJW6110w3DoiugGpdH04uoejSo7HoixHE8/OsZ/yd15+jG/Aja29s01mPl5Ooe+IWAcZbl4nn6UYzUnZWMdzdlvW81xDjbzXntb3S2Oz9AVsThkRsnZ1T1KtXYwKGM5nn50gHmPuvD0Y05l4IXI8CbMnGy9ed8QMI6yXDxPP8qxmpOysY7m7LeV5vgwWvgdvFaYd8xk0IroGKsRdOfqHoESlzIEYzmefixFC0vr1NOPpUHvHQ8KAeMoByX7bxF2EDrCe0HmxS1+F3EcGxmDUMRvmRWLH6ere/EYj7MHYzmefoxTzalRefqRQsbrHQFFwDhKfeTlniAwCB3xCxb8pA8/UbDo7+F2pqZBKKIzNEbfkat79Cpe0ACN5TRJPz4+/sf/Gy4CCzKs3rI1Ft9bOV2wXiHgZtMrdUSFGYqOrm7u8L0KfJ8HL4+Fn7eKjnEQlUNRxCDA7L+Qru7+66ifEhrL+Sf9+I//zxFwBBwBR8ARcAQcAUfAEXAEHIFWEdC86P/SD631siPgCDgCjoAj4Ag4Ao6AI+AIOAKtI+DpR+uQOkNHwBFwBBwBR8ARcAQcAUfAEYgj8P8AhacH5G2hFp4AAAAASUVORK5CYII=)\n",
        "\n"
      ],
      "metadata": {
        "id": "R3vrRUjp6LOu"
      }
    },
    {
      "cell_type": "markdown",
      "source": [
        "\n",
        "**Booking Trend Analysis:**  \n",
        "In the Second half of the year, a notable increase in bookings was consistently observed, particularly in months May, June, and July. Additionally, the booking trends exhibited a consistent upward pattern from 2011 to 2019 and with a remarkable spike in 2019, indicating an exceptional increase in that particular year.\n",
        "\n",
        "**Top 3 Months with Maximum Booking for each Room Type:**\n",
        "\n",
        "![image.png](data:image/png;base64,iVBORw0KGgoAAAANSUhEUgAAAjsAAACxCAIAAACtAOubAAAgAElEQVR4Ae19v08rO9f1/a9SJ20kpFQIpUKCDkGJEF2KU6WgSkMBFUKiOkinOkKiokA0VAiJ7mkS5Y/w93xa77vueu2ZiZ1MZjzJvrq613j2bG+v/WPZnknyj7N/DAFDwBAwBAyBLiDwTxeMNBsNAUPAEDAEDAH3P4z1j/1jCBgChoAhYAjkigDo+l/GMvo2BLqIwD//2DlBst8MtFTIDLFUxOqVJ/7GWPUCa9qaRoCh3PTAXR7PQEv1niGWili98sTfGKteYE1b0wgwlJseuMvjGWip3jPEUhGrV574G2PVC6xpaxoBhnLTA3d5PAMt1XuGWCpi9coTf2OseoE1bU0jwFBueuAuj2egpXrPEEtFrF554m+MVS+wpq1pBBjKTQ/c5fEMtFTvGWKpiNUrT/yNseoF1rQ1jQBDuemBuzyegZbqPUMsFbF65Ym/MVa9wJq2phFgKDc9cJfHM9BSvWeIpSJWrzzxN8aqF1jT1jQCDOWmB+7yeAZaqvcMsVTE6pUn/sZY9QJr2ppGgKFcPfDN7K7XH8X8+/L6Vq1qe1fni+XF5QRGbtWMHQDt4en54nJycHgKuA4OT68n06/vny15JxIx51y2kfby+nY9mR4dnzMLTs6ubu8f54vllkCrUS3xN8aqEVVT1QICDOXqsbOtIzT795+/g+GY1cQYi8h4ja/vHxIV4UJjMBw/PD178rX8GRlmOTOWhxX/PDo+z5+0iL8xVi3xbEpaQ4ChXG1Bzoz18PR8cnbFCoKGMVaZQ19e3zys9M/BcLyN+hsZZl1krF5/dD2ZlqGdST/xN8bKxCNmxpoIMJST7leG2Co3rLSqjEq3alWnQQNjnZxd/f7zF/C+vL7pruv2/nEl7KkC6yHmnMsn0k7Orh6enkHn88XSC7xUQBqWJ/7GWA0jb8PVjABDOUlvPnWEhWMwHGvZNcYqc+jL61vISQ9Pz9xp3czuyu5du3+9MMuKscK5a7yFV7PqIf7GWFn5xYxJRoChnHTnSsZ6eX0LH+x7LKLHUydnV8652/tHPtm+uJx48oUW3szujo7Pb2Z388VypVWFGtbo7Dpo4ZTVF91irMYiLQSNjHVweBpezaqHEWuMlZVfzJhkBBjKSXdWcIO+sMdlOxu/pjMOpFXy5OzqejKlGBtJLwJUWMVBa2nsEmgA5Pb+kZiHO7DNQVsPseo9VouR9v7xybdSe/3RNjh+c8xVA/E3xlJYrN09BBjKSaZXcINmMougNpjeylgqoO2kFwEqrEqa3UrhXQLNOff1/aOvWW7jHff1EKtmrOYjTQMMUToYjhnPK8OmRQHib4zVohds6BoQYCgn6dLU1bM7JSF9VVqX8L3+CDVRhXv90dHxOft53tLrj+KX/GVWJU0tRniXQHv/+ORJbK8/0k1wDBSRMushVsFYGjyNRZoGWK8/Ojg8xXF0JAgtihF/Y6wWvWBD14AAQzlJl6auMpae7HkHenoJJKRFp9cf6UvVv//85U7r4nISaVuZVZG3x4vtDGjeh9iOjs/jQUiSXA+xCsbScGos0jTAGJ+D4fj94zMJjeaFib8xVvPg24h1IsBQTlKqqauMpf3KQM455SccpGgP3rygDfPFkhXBu0SZsKGjq1Wh5IY9uwHar+mMIG/7Q0XrIVbBWOrr5iPt/eNT0Us6u94w9ta7nfgbY60HoN2VCwIM5SSDtF4oN2i/p1D5aSVjOedYTPeKsRoDTfcoeqrmGVDXn+uFWSRjeUY2EGkYUUkr/uzas7aZP4m/MVYzgNso20KAoZw0gDJTGWN5K1896FvJWO8fn/vJWM2Axg+x9fqjZg611guzSMZqBrQwQUJqDGUy6SH+xliZeMTMWBMBhnLS/WWMpSv3iqcLuKQJ752raEmNfxegzKqkqcUIdxq0r+8frgaaoSvn3HqIVTBWu5GGINE9VuZvDBJ/Y6yYBDeZfBFgKCeZWMYNupEaDMf8HiB9V5DkpIyF5yhYLOv3L/T6o/jH2mVWJU0tRrjToFXU+pi5ryezHmIVjNVwpN3eP/6aznicMF8sNaSTonQ9ADe8i/gbY22IpN3eMgIM5SQ7KrhBL3Etrw3uvTzGUhm24x9iVVS3pKnFCHcaNP3kAHHWRhLmMXBtY4/luVvtZ7vGSNNNP/WzsQ3EIoGNFGPEGmNFImZimSLAUE6yT2mJC09o8L4tiVmNhh6eKGMdHZ/rh1ghnPo7DhVWJc1upXCnQfM8Ev65jfq7HmIeLbUYaRWMdXJ25T1IWxk/zQsQf2Os5sG3EetEgKGcpHQlN+AHA0lChT8YqIx1cnb19f3DA6v1Ppu50qqkOVYIdxq0kKK8nq4wFhzUTKR9ff/8ms40wA4OTy8uJzz3roiWHC4xYo2xcnCH2bA+Agzl9VWse6fHWOuqaeE+Ay0V9BYR8z4LuA0+TkWjeXnib4zVPPg2Yp0IMJTrVBqnyxgrDqf/I9VR0FoMM2MsfY5ojPV/0sn+6BwCLZaSjhZfzf/m3d1R0FoMM2MsjVhjrOZz1kasE4EWS0lHi6/mf52eiNPVUdBaDDNjLI1YY6y4PDOpXBFosZR0tPhq/jfv1Y6C1mKYGWNpxBpjNZ+zNmKdCLRYSjpafDX/6/REnK6OgtZimBljacQaY8XlmUnlikC7pSRXVFbYZaCtACi4bIgFkDTaQfyNsRrF3QarHQGGcu2ad1ihgZbqXEMsFbF65Ym/MVa9wJq2phFgKDc9cJfHM9BSvWeIpSJWrzzxN8aqF1jT1jQCDOWmB+7yeAZaqvcMsVTE6pUn/sZY9QJr2ppGgKHc9MBdHs9AS/WeIZaKWL3yxN8Yq15gTVvTCDCUmx64y+MZaKneM8RSEatXnvgbY9ULrGlrGgGGctMDd3k8Ay3Ve4ZYKmL1yhN/Y6x6gTVtTSPAUG564GbH02/d9n60Yg1DDLRU0PYEseqfR0kFrUZ54r8OY3nf7c8/j47Pf01nX98/NRrasCrOpbqxn1+f3LAvIodjKMfIe24dDMdldx0dn3vCZZLN9LfIWB4O+wlaUpg55wy0evOC+NfJWHQSfzqzXqMb0MYpVDeMsRrwReQQDOUY+dCthb8P9PX9E0rG6N9cZr5YPjw9X0+mF5cT1ZYPY/X6oz0ELSnMQsbaT9A0gDdsE/+tMFavP+roTiusU4U9xlgbxl+NtzOUY3SG3ryeTMMbb+8fQ8lQrPae949PjuvFWFaMtYegJYVZIWPtIWg1Jgjx35SxYNN8sfSSXH9cvEa7m1TV0S9AaxKiHMZiKMcYQz5go/CM6+DwFAJs9PqjGP0bylSEXFaMtYegJYVZIWPtIWgbpoPeTvzrYSyo5k+G9/ojb4WoY3elXVE+ujKFfbCToRwzWRKVEoB3xsWNzsHhqT7NitG/oUxFyKnBDb95YaDpN7FGuthAiwQqUoxpXidj3czu6CfvFP7r++d6MmX+D4bji8tJ2eOul9e3i8sJl7cHh6fXk6mXpWFuPzw9U//1ZDpfLJ1z88XyejIdDMe9/mgwHCft/MIhAK73kMM7/7y4nBCE+WKpmNzM7uaL5a/pDFMbDMfXk6l3O4Z4eHqmHmDlVdVIN++DGEM5ZrJ0za/pjG3vuIaXdAUW7rEiQ5qjQANiG51Hx+d0qwab3tLrjxC0HmO9f3wyQg4OT2/vH2OmTxkDLRW0JMR0j8Vw6vVHexhpDLkNG8S/TsbSpNIU0qrtZePJ2RWoBfOZL5bMQ0+y1x/9ms44bc3wk7Mrr7j0+qOj4/Ov7x9wlarygoYKw4Y3hAqokcq788WSY4Gzde6/pjNyKsUGw/H7xyeVVyAQbzm17UODoRwzWcJ+M7ujE73jGi6Vfv/5S3mPsdStKoPTBQ1pvfrw9Kx/og3S0mDzZELGur1/DAM7aTVmoAHkeNCSEFPG2vNIi8nKGBniXw9jYb3JTBsMx0xa7/kWZdjQ80MWEV71GowwzfAwe3FXWX/htiZETYdQI51zWnp0N6k1DkxWUdo4NVUeUi/Fev2RsmNo8H72MJRjpk8wb2Z36kTudXgkCBqjvDJWUkirhsKAPDg89X4ASW8p3GN5AvyTSbcSCgMtFbQkxDzG2udIWxmKkQLEf1PGouPZ0E3DfLHULMWxGPJT+1GIlSEGwzGrs1cgwDcqjO32fLH8+v7xNjFguPePz3C4lUjpEEoquJEKdYVOvmGnx1g8rtQg7vVH2GbpiNgjAiuu+lHdVlq+VwIM5ZhZM0oRivyT+1ee4aCHAmSspJDWysV9v3OuMKQ93vJCTg8wBsMxDslfXt8Yh73+yDs5rwDEQKNnI0FLQkz9vueRVhGESZeIf52MhQdFutDTusyiAEP1ErYpLPfhZkIv4bxRizvpwdv9aH1nJeKidSVeOoRXPpxzqpBBT2rhZJWxjo7PdVDVgEnpNHUjqEpUg7VTH4mzTmEpwz09Q4gexK6L8mQsjVt6GY7QS9x5qwbGiXNOl1bsrwg5ZSyeNHhxqP3VscH8rxbDVU5hn0FLQsxjLOfc3kZaTIDFyBD/Ohmr1x8xUWGElloevNA+ZgL4QHNSac9beyJtynK7rF8tiUzsMlWwX9+/wAM2HijpardiXD1ChEmKAMHxGspkRHKfGwzlGBAIJgBXjvn95y89SAKjPBlLHboypLVyUQPsVF+nMhblnXNqT2Rgb0jz+wlaUpip3/c80mKyMkaG+G/KWM457yxOF56aTppmMJHlIGQsbw5KHogA7dENUFm/WhKZ2GWqaBuLDjZzPOrRvV3FuKofJlEhkQkbIYy0Zz8bDOWY6RNPAK5vylxPpnQWY5jy5BvK6LqEQ1OeMckeaoCw+po+1ZCghgr5VhhrP0FLCrOQsfYTNObF5g3iXwNj4SVyPU/n2lPTm52wXl0YMpa3xwq3I2W5XdavltTFWLrYVNrWdxorxiXD8aBSq5iHwOYu31UNDOWYCZI/GAM8iT04PCX+jFXKk2/UoRQrC2mtXNQAYY6lzFcWvRXfT6r2cFIroTDQ6NlI0JIQU79T/35G2spQjBQg/vUwlvcw+eDwFAVXazrXrTAxvESPVj/HCl/T0NVoWc6vkdhlqhRi8rTq14M77Vc7vRqE2sfD7hABHdTaigBDWTvL2mGd0sUQrvJIUOsO+SaMW45VeIkjUgPkO81YewhaUphp5JCx9hA0psbmDeJfG2M55/jUmp+d0o1Urz+6vX8EkxW+46QeHQzHXMDqXoTvzZfRSVm/MgdjqBrHMlV6F1mWD9K91yt0XCCALam+dsESqSUPb0sCrvli+fvPX+8ZoZqxz22GcgwI5A+NAS47cFWXVpQn3ySFtFYuaoCdhYzFB2n4wLt+UK9QvpVTQdi/b6AlhZn6fc8jLSYrY2SIf52MpSWeb2x7JVtLQFggNC1DSd156Fi6dynrVzM0hirAKlOlt2iJgcH60WmvoBTOiEeCUEvmKxTWoa0NBBjKMYAQVY0BLjtwlUslrTvKNxpLVKiNas6DnRrqfI7lnPOYgOFRJq/G6KSq0TDQ6K9I0JIQ08hR/XsYadVxGH+V+NfJWPoSp361oO4nGChoXFxO9IHNfLHUzPSE1fdldFLWv0Zil6nyUPY4Ro8EPcYqnJpWN+fc+8enblU9BLyh7c8NX3sDgN7mXlFV/LU/PqTLNGgwKGNpoOJehH2MvCaIWhu2mf/hpbCHU1D9+wZaEmJljLVvoIWxtHYP8a+ZsfSdbx6C4fX068mUtRjflaeJqjPBt+pxsYnvFfSYoIxOyvq1EGji6bheu0yVJ6ZHeeHBnTfuy+sbS8/R8Tk/Ja068UX4FMMnT8NvVtRb9rnNUI4BobD46s7GW0BQXvdYGOjl9S0mpMs0qH+9RLiZ3TFTst1j7RtoSWFWxlj7BlpMSkbKEP91GCtyjD0R08dsIQN5jLUnmDQ5TYZyk4N2fSwDLdWDhlgqYvXKE39jrE2B5XKYb4WoRmMsRWMbbYbyNpTvqk4DLdWzhlgqYvXKE39jrPWBxU+Z8Nin8LDRGGt9fOPuZCjHiZvU/0fAQEuNA0MsFbF65Ym/MdY6wOpDCDAWP4LmqTPG8gCp/U+Gcu2ad1ihgZbqXEMsFbF65Ym/MdY6wHqMpV9X76kzxvIAqf1PhnLtmndYoYGW6lxDLBWxeuWJvzHWOsCSsSp+Rxh6jbHWwTflHoZyyk37LmugpUaAIZaKWL3yxP9fxvrH/jEEDAFDwBAwBLJEABT4L2PFUOL393/sX0MgFYGY0FpbhouvtTXs4Y0GWqrTDbFUxOqVJ/7JjFWvHaZt5xH4/v7PVufIUN7qKDum3EBLdaghlopYvfLE3xirXmBNm4+AMZaPSAZ/M/8zsKUbJhhi7fqJ+BtjteuI3R/dGCtDHzP/M7QtT5MMsXb9QvyNsdp1xO6PboyVoY+Z/xnalqdJhli7fiH+xljtOmL3RzfGytDHzP8MbcvTJEOsXb8Qf2Osdh2x+6MbY2XoY+Z/hrblaZIh1q5fiL8xVruO2P3RjbEy9DHzP0Pb8jTJEGvXL8S/A4zFn3k8ODzV3xHfEoL8ZtvwJ5G2NOJuqzXGytC/zP8MbcvTJEOsXb8Q/3UYS795SOs72vob9rVMUoerXXlooc4ovNrRHv3ZSe+3Mbc9I2OsbSO8hn7m/xr3rnELUrjwxw3W0NbKLQ0j1soccx6U+OfFWL///P01nR0cnip2yljhj/yqZC3tnWQsfhHitil/vlg+PD1fT6b0VIaMhV+X3jYUtUTjlpQw/+P1bwLaHjIWM877gelCwK8nU5SdGOFCDTvfyYjNiLEGwzHZQh1gp4KKxhrt949PAvv7z981NETeogORD4yxItFrUoz5Hz+oMVY8Vs45MhaXbmW3zxdLpqcxVhlKjNhNGavGnT7d1u4DpEzMKPPcGv1cwXmb1zVUVd+CogYAjbGqsWr3KvM/3gxjrHislLF6/VH1ObyeIRljlYHMiDXG8iHaMcbSFdzt/aM/21r/NsaqFc4tKmP+x49hjBWPFRnr4nLS649+TWcV9w6G48FwjD2ZMVYZUIzYLTKWV/pfXt/gv15/dHR8rsdTKqltrNN1DcItndf5/vF5dHze64+4tHfOvby+XU+mPGw8ObuKKdlqgHPu95+/0AyzC0MKUzs4PMW9B4en15OpJxlW84enZ2q+nkzni6Vzbr5Y0ubBcMz5qiO/vn/wtA/DHR2f/5rOcLuKoX17/wixwXCsMnhkyLMLQPfw9KwaPJDniyXH9X4YTGenAP4XNDsVVEgzaTP/4+0xxorHioyFN5681FM9ELieTI2xFJawzYhtiLH0XTVWNJIWe7xGJGOxxCtjabVVtUfH51q4Q2hUuNBspaL5Ykka1hvR1rWV1vSTsyue1PGuo+Pzr+8f8iv7rydTNfL3n7+hTK8/KvsdZPKo6lFjOBAaKqYY/prOyK+8hYNWKOwEY2Gm4fqA86ILVPJmdgd4wd+FcfX+8XlxOYHLPJqnzuYbzP/4oQGFrggVCtVTDdrX9w/ipxAuZBMrg6ptt52KGBkIme6tBTkX5NTX9w/leWm+WN7eP+qa8uJywo/3dBRGzi61Qfw3ZSwWLzZY0NmDeqp/os3HKuEl9EQylt6OWwqZhmJalEPgKFbWODo+510VdIXbWQSZxmVoVPTzHPz947OQrjAW8aR5v//85SyoBLtP9ocNelAZKxRDDwDX2XmSu8pYKCUnZ1esKeFiiHF4dHx+cnZFemPdoacabjD/48eti7F0/+GNjio8GI69/hz+TEWMDATctGhwOgopsoapR5RwYFgYPBgi5MKcYeTcUxvEvyHGwgbCOcdDKnhIy6hWOp2P1k0SgHb2+iOeqr1/fM4XS5b1wXCMIOAqJhxXx3LOqRllZuMWLdOD4ZihUzhHFabBX98/3sYFE/SYiZpZHHv9EU44cVJHmykJCynvvbCE89Lff/4Sf9ZW2Ibby0BW4V5/xPqrc+RifCcZazAcKz9xc6zHznhzkttQQIrYCNcWuNrYf5n/8SNqecVdCA+mJFUxDNjjSSJ+vJhkcdCTCWpovZGKGBnLOYccVzbCdLDeRT9SWGWuJ1MvnSFP3LoI49p+JP4NMZZ6Qmu09rPseu8Kat1keminl/9aT9XlTKRef6TjeiCqGSoWmq0nezqQc04voYrp6LqKVGt1Ir+mM1qCWfMcQEkFxnuS6FR5nYg33/ePz5fXt9v7R9I8yUZB9haJah7LtM6RSnaSscIXwEBFnDXXyCHyCCTSvOeOZv5k/scPB+fqBD0eoiqGAXs8Sa4pvYNBIMNVFG/PoZGKmDIWctw72kF6MuWRwmG06Ny5BkJnF2HU6SS1if+mjEUKCYdnGfUYiAt/jznK5LVucjjt9BZlekl1atsjGDVexbQ/NFt7vNxj0vb6I9isPZr2Zf06i1CDGqltzQqyJrNCp6PvfaiGsmeBRB5K9LyRlwrnspOMpR4EIJg7+/GKpkfzkIRnSfPqlMbazP/4Eb0JOucwEXqfqhgG7Aklw6c7qOCFiFFPi41UxJSxnHNYDioZY83HQoQcrGYsngARh87BSMtTG8R/FxjLyxmt9V4t5p/eLQofZVYSrTKWavAeFGEsprFSgifJesdyAGNCDWqktqmB669ef8SsoJEks15/dHB4enJ2xZcA1TxF0kNMp8NL2klLdpKxOGVCirlz96xQqIPYDjVQVQMN5n/8WJgR3coQDSfCuVN5yFiQUX6CTBirVNJuIxUxj7E8BJCe+g4hAsNjLHyDzM3s7uJyUlhtOgfj2k4k/jvOWGu8dMSaksRY3h4r3IIwjZUS1mYsb1sZxgGfpWlWQEwt0QLBY09WpQrGon5uIsvmsleMxZgByHxsjhc09L+KfOi+bfcw/+MHwowYGxsylnMO76Fw23FweBrGarx525ZMRcxjLOy5uaBB+mgWh4yl2YdA4nteOtluwaiWJ7WJ/w4ylhZTPSWLBCiesXSn4hWg8JLyhKZ9Wb/GK5ax+h1IhQd9OkHEceGnF1Uzb9EPGtM8lWQnbtEVH5cFhXPZZ8byQCParTeY//GW1M5YiC6cjiK218jWePs3lExFzGMsPttGofBohsd93GPh0Rc+t6qrYVQnnUu3YFTLk9rEPyPG4pN/7yBL6yaPIAo7AYG+cYAdANdxL69vv6YzhkUhZPGMpRupwXDMwq2UyWVjYTUv25dwAQtjOGvyUK8/0g9nvH983t4/8tGIGsa5c7IhdN4ri6yzKln2diKXjc455VS+I5chY4UrXMxU17yAi17z0KNH2O9JIggVHErm0GD+xxtTO2j64AoPdaoTM97UbUimIhYyFrIDJIT8VTuR6UQAt7OkQJLLSr2xWzCq5Ult4r8pY2l9Zxum8E8elaBfl+f0kHOOe17eiNKpdZOVorCTEOibbNTGhg7KW9igWIzZOhe9kW3uvVjR1j4VxBdwUHPYIDhEki/CcnbOOX07MVSi5inIhZJ6JIghdNmBWzJkrLAcgOPDnSv3ygQQmBBq9tO/7MHyggHA/hwazP94Y7YBGnR+ff8cHJ6G4Mfb1oBkKmKYmldq0Fl4CclC+UIZZq43Xwh3AkbP8vg/iX9GjMWcZ3Fcm7H4de9UpQ2GRSFeKqkCCAtcpYbqgbSu6ey4iUndYznnKsgYw+kWk3bqROaLJR9ZcbJKTjTP66QwG+Exjt4CsdwYC2nv1UeuXrlP9aidAMYzFgbSzTeU4NdYqLCVBvM/cvQtgQa1CGlNlkirmhRLRayacrzwC08Fcbvm18vrG5eD3sQ7BKNnefyfxD8jxvK+xI+LfS2CDOvCTm/+D0/P/IIcvBR3cTlZueZlOY7ZY2HEcKDrydQ7jquLsUBy15MpTwjxVPb2/hHn3aS0MCuIj3574cHhKTDhxAsZ62Z29/L6Rto+Oj4vQ5LfXZQVY+GtB4IWcjkjCt9PAVInmIQunrH46IIvZJ6cXaHoFO59OUQDDeZ/9VjbBk3faPXypdqw5q9GIkbDChmL75uEuYNkYVjyYB+v8iIawUxeXcKXkZLMMoeR+KQ2iP86jJU6mMk3hoCWgDArUs1gEQ9P/+JVZbLH4vmePv/zZqGfUbu4nLy8vnGdQckkxsJGjTSPRRjXFtTZfIP5Xz30tkEjqbdO4dU4OOciEaOeMsa6md3x2TaFwz2Wt3znV4eD2PRGtOGp/GEMLY/sIf7GWJGIdUOMq7DCrEidwy4xVurcd1ue+d/6NFFqN19dbXsi+SBWONOuwFhofEwn8TfGioFrT2WMsXbV8cz/difofUqpXWOqR88EsUIjOwRjof0xncTfGCsGrj2VMcbaVccz/9udIAIs/FBBu1YVjp4JYoW2dQjGQvtjOom/MVYMXHsqY4y1q45n/rc4QfxAwWA47sTLAjkgVuisbsFYOIWYTuJvjBUD157KGGPtquOZ/61MEO+/4SWC/J9gAaJ2ESt0UxdhLJxITCfxT2OsGNUmYwg0iQBDuclBuz6WgZbqQUMsFbF65Yn/v4z1j/1jCBgChoAhYAhkiQAo8F/GiqHE7+//2L+dRiDGy92S4eKrW2a3a62Bloq/IZaKWL3yxD+Zseq1w7Q1icC2P8zb5Fw4FkOZPdZYiYCBthIiT8AQ8wBp+E/ib4zVMPJtDmeM1Sb6OY3N/M/JqKxtMcTadQ/xN8Zq1xGNjm6M1SjcGQ/G/M/YxrxMM8Ta9QfxN8Zq1xGNjm6M1SjcGQ/G/M/YxrxMM8Ta9QfxN8Zq1xGNjm6M1SjcGQ/G/M/YxrxMM8Ta9QfxN8Zq1xGNjm6M1SjcGQ/G/M/YxrxMM8Ta9QfxN8Zq1xGNjm6M1SjcGQ/G/M/YxrxMM8Ta9Qfxb5mxHp6e8Vtknfg2zHZ9tvnoxlibY7gbGpj/uzGdBmZhiDUAcsUQxH8dxtKvm8OXg+G/B4enF5eT33/+VgzsXdLb+fubnoz9WRcCxlh1Idl1Pcz/ZiaCisEfEG9m0HpHaRixeo3fAW3Ev07GIv1cXE7wC3DDCygAABbjSURBVO4rkeItvf7o/eNzpfx6AvPF8uHp+Xoy3eHf6IxBxhgLKOGXhU/OrmJA20kZ5n/87DYBbQ8Ziz88HbMQ5289xwjHu2yXJBmxW2GsXn8UecrXwKng+8cneXGfi5RzzhgLObxJ8d2NKsD8j5/OJqDtM2OtXCXj9xhRo4yxygKSEbspY3Gn//L6dnR8Tm7o9UeR26wyE+vqR6bBMGOsulDNRw9DOd6kTYpv/Cg5SzYM2j4zVq8/qv4BMIBjjFWdL4zY2hjLOff1/aOMlcl6wRiLoWB7LEBhjMX8Z2ysbGwC2t4y1sXlZOWB02A4HgzHOEXMpGauDIbmBRixdTLWf8+ddJsF9Hme2+uPXl7fHp6eDw5Pe/0RNmfKcM6533/+sufo+FxxUTo8ODzFpa/vn1/TGQcdDMfXkyn3dspVVIsGt4bOuZfXt+vJFK8s9vqjk7Or2/tHHbqwrQqdc7+mM2jQmHt5fbu4nGC+vf7o4PD0ejJVAdUcI6wzwn7x4emZ0+fc54slZzQYjjlZYywAvknxVZd1t838j5/CJqDtLWM9PD33+qPBcMyi5AEOgevJ1BjLQ8b7kxHbKGP9ms5Y6AsZyzlH5vB207f3j7yXD8nQg9/iPDm7wr1Hx+eID63vvBcNFnHdkqsMlXjA8U8V1nmBkOaLJZZXKsY27Ye2eGGd0cnZFR/YUvPR8fnX949iiEvXk6k9x6LvwuJbVlIJOO9VyZvZHZYj3lKJws6594/Pi8sJPAKx6jMivXd7beZ//BB1gcalZ2ERR9YkvW8cP4VNJFMRIwMhSct+ahnLza/vH8rTyPlieXv/qCv+i8sJX0/rKIycXWqD+NfJWAQRVRLgKuIsrGV7LOecVmF1sxIAc/7k7Eq3LPPFEhUEmySWGx0XbTAWFjjhVfSgypchW3YX7FFrCyVJmc65eGGdUUhLGKis/+v7x/ZY8GYtxReBfXJ2xQgPVzkMsKPj85OzK9Ib605ZdG27n/kfP1AtoGE4IKbZjX4UkMFwHG9VY5KpiGGOL69vwM07MYLZCimSV6sZNODAsDB4ugjj2v4i/rUxlvfmBT0EWFm1wSXzxRKsw/5ef4TJ6Kt9+poNJam5cPLYiumNCAvcrm9ezBdLFvfBcIxY4WIH8qTGcCzag10/b58vljriYDhmZuo2kTvItYV7/RGOAf9LRTwYhFWgw/ePT06w1x/99/zQGAt+1EqBHt05qa/pHXZCcjAcKz9xX6vnyYjkwXCs/IQY4LE21TbcYP7Hj7s5aFylgcg1SWEGwPFOIOIt3KpkKmJkLD4rUTaCqViqoh+ZqzLXkylLh8oTty7CuLaPiP+mjKWFW9vMUmWscNeit3AyfPDD1ZY+39KiwFvYCPOKRQfPqCjJ9S+qOftVXgOIAmio5V5glW0TvR0kJpIkrLYRHOeczkWroR5X3szujLHguzBIUhmLCw5GBaqtLom0ZlGM9YsJopcaazP/40fcHDQyFheL3sEgj8jirWpMMhUx9T7S06t+2FAyW1FPKgoOTpixPsasuwjj2v4i/vUzFvcrME4ZKzye1rrPyWidhQu1x9v3fH3/3N4/3szuTs6uuNXQwqFVXvtRpNSAsO1RES10zqmwl3g6Ze+SGoMEThLW23UuZf06R2Msug9wKYCpjKX3Qq2nEx+yKTwPwFjVCy+auqUG8z9evzdB51wqaGQsLt00v1DBCxGLN3J7kqmIKWPx8bzWLtQ0IoB6Us1YLDucZviQLHMYaXlqg/jXyVh4y86r0VqRQ39o3ecc9GAQRwTcdXFH7JzzXljg+xfeXiqmmqsZ2tYco3loqJh3SafsXVJjQsZaKay3a9Es6zfG8iDFn4BLAdyk+KpObnzVIxoqbFeEVqHN9XYy/+PV1gsatCk/wQWs4PGGNSOZipjHWF6AYXuk7xAiMLwKiS/ruZndXVxOCqtK52Bc21nEf1PGWpl4CrTnDy4Z4C2dDCkKL78xzzWgsb64uJyo2jCv0AMNYZFCf7j5U2MK2zSJT+AoplP2+FuPN0PGWilcNpeyfmMsOkUbYZB4BYXCBJY9kZK4kY/N8YKG/lcjmcobazD/40esHTTkOLcdB4enWsHjDWtGMhUxj7Gw5+aCJnxih3qipUyTF4HEV7R0yt2CUS1PahP/TBlLjwHhXXhUa3rYw090KTOx6Hh7L1XrHTHHQFnBWJGPplCzkoTL5lLWr0Fvp4J0a+3FF5/qQ0hglHAIjp5Dg/kfb0w4o0jyLjs/xO04HcWxyhppGG//hpKpiHmM5R2EejTDtTsZC4++jo7Pf//5GxY9nUu3YFTLk9rEP1PG0oNBPp3yAloLBCcPAlDGUlX64hYOfEk8N7M7LvdeXt9+TWeMHirXBm8M91i6kRoMx9zAKUdyOZkkXMZMZf3GWOoytsMVLoAK31IjsLwXkuHRgieJ6OKamrdn0mD+x9tTO2j6xAUr1OqMizd1G5KpiIWMhUIEEur1R/qAI2Qs3M7SgRnxGwh1gt2CUS1PahP/TBnLOceDQXKD5z/06+kKKUEZi489qYefBtOdnF5Fuzp/VD6EHgGnMl5bzY4XZln09otl/cZYoWucc2E5wLqBL27xLu6A2RPJWAxgdTSVtN5g/sdbsg3QoPPr++fg8DQEP962BiRTEcPUvBqCzsJLXs0plOErwd58IdwJGD3L4/8k/vkylkcn4XKVAvx45mA4Bml5jKWFG5GBNfJ8sYSzPTrxoqcQVr0lFKjW7K3Q44XLmKmsXydup4JwE9Leq49cveorfCwQuo2OZyzcrptsGuCdFoTxs+0e5n/kQFsCDWqRyF5SRBrWmFgqYtWU44Vf2R5L4+Tl9Y0fr/Rm3SEYPcvj/yT++TKWnubh07Lh9Pg1Odhlv398onZ7jIWTdN20aXo8PD3ze3Tw7X8Xl5OVS+NqxoKpoebryZRnj950YoTLmKms3xiLIOOtB8aAt/jls5Zef4QFEM6iuSqinnjG4qMLBBUMQNHxToSovLEG8796xG2Dxk8UhZ9vqzas+auRiNGwQsaq2Hl7q2Q+LMAr0IhGMJOunzBch2AkPqkN4r8OY6UOZvKZILDPnyDm+Z5+OZvnF/1aYbyDyqUAJZMYCx/u1n184SdAqLyxBvO/esRtg0ZSb53Cq3FwzkUiRj1ljHUzu+MzbAqHeyy8RMZH+Hj6RTG9EW14Kn8YQ8sje4i/MVYkYrsgts+MtQv+q28OzP/6VK6pCaV25ZHGmtrruy0fxArn1BUYC42P6ST+xlgxcO2IjDHWjjhy42kw/zfWtJEC71NKG+na8s2ZIFY4yw7BWGh/TCfxN8aKgWtHZIyxdsSRG0+D+b+xpo0U4Ig1/FDBRkq3c3MmiBVOrkMwFtof00n8jbFi4NoRGWOsHXHkxtNg/m+saX0F+G2BwXBc9i7S+qq3cGcOiBVOq1swFk4hppP4G2PFwLUjMsZYO+LIjafB/N9Y0zoK8P4b3o7L/wkWZtguYoUodxHGwonEdBL/ZMb6/v6P/dtdBGKCo1syDOVumd2ute2Chlf8Dw5Pve8EaBeT6tHbRazQti7CWDiRmE7i/y9j/WP/GAKGgCFgCBgCWSIAYvuXsWKIrrt7C7McCMR4uVsyXHx1y+x2rTXQUvE3xFIRq1ee+CczVr12mLYmEbDnWE2infNYzP+cjczKNkOsXXcQf2Osdh3R6OjGWI3CnfFgzP+MbczLNEOsXX8Qf2Osdh3R6OjGWI3CnfFgzP+MbczLNEOsXX8Qf2Osdh3R6OjGWI3CnfFgzP+MbczLNEOsXX8Qf2Osdh3R6OjGWI3CnfFgzP+MbczLNEOsXX8Qf2Osdh3R6OjGWI3CnfFgzP+MbczLNEOsXX8Qf2Osdh3R6OjGWI3CnfFgzP+MbczLNEOsXX8Q/y0yFn9byPuJ93ZnXj26/pRR+KN/1ffmf9UYK38fNWMh87+Z4XZgFEOsXScS//UZ6+X17Xoy5W+O9fqjwXB8cnbFn/c1xmrXx+HoxlghJvvZw/zfz+mvMevmESv77dA1jN+BW4j/mozFHyfVH49nGwAZY+UWKMZYGpknZ1e5Oagxe5j/MSPy4CHm1IGVIUY4ZvRMZJIQo82ogetFmjEWYdTfgF6HsX5NZySnwgZGMsZSxHNoG2NpZK5XR3Lw4+Y2JNVfMtbKH2XHTwuiJhhjOeeMsTaPVWhgxCYz1tf3j7LU9WTKn7d5//h8eHpmITDGqstbdekxxgKSm9SRunzRrh7mf4wZZKxef8RkL7wR2wJjLIKzSaTZHoswbrTHUh46ODxVpV5bJUljnkxuf2py7tgi0TlnjIV426SO5Bax69mzBmNdXE56/VH17wUPhmM8zO71RzuWPkmI0SmbRJoxFmGsjbEGw/F8sVS92g4Z62Z2d3B4iiXYxeXEW6+9f3zezO5Ozq7wuy+9/ujo+PxmdqdDeDrniyUSqdcfcej5Ynl7/8hXQg4OT68n0/ePTwqgMV8sPXvePz4jGUvXkjezu/ePTwynxAz9qvDk7Or2/lGnQ5MihVXby+vb1/fP9WQa/kzO7z9/Of2TsyvO3RgLgG9SR+iyTjeS6i+i7uHpGW9XFQawcw4C15Mp5I2x7FSwxhxhxCafCr5/fOqp4NHxeVloeuzCR7K83SM89nuNo+NzJomnk3WZjEXy8JT0+iP9tdP5Yqn3QngwHGtn2bycc8pY5Ax9if/3n7/kXc+Sg8NTUgg8Gi+sjHV7/xgO8fvP3/Ap42A4xojGWAA8ZKyy9SzjjbmnklzxDIbj68mUUUph59z7x+fF5QSegpi3UFPhxtrM/5gRyUBIYc0jvR258/X9Q3lexSJSo/ficsIs4IOGQgCxJG39tx+TEOPE64q0TkDEWW+jQfyTGcs5p5GHcnxydhXGMbPdK9n6px4yaL/XLnxj3pNxzhXykIqxWIRTUDG0IxlLb8QeyyN1FUBbqTpJWM0O6QpL4HC4Xn90PZnaqSATqZY6Al+cnF3RKbq0wljYduC04OTsCgcMXEDQnuYbzP+YoTHBl9c34HZ0fB7epZAiAjV9oAEHhoU4QCCsIajUg+E4HLHhniTEaJvCgk5d8VCMuzGuvLksZunLHyKdTu1t4r8OY319//BwT+vjweGphim8RQEsQueLpW629BgNtMeV18vrG0fhAzNP59HxOUgId3lbHyzZWDVYuH//+UurBsMxlm84YWN/9UG8DgS1GAtmILagioefX98/uoEDhXj0nyQ8GI6B9u39o5p9cHgKTBRnAGh7LCTS5nUE23HuCb6+f7CAuL1/ZK5iLeLxE5zFeKZwww3mf8y4iGcEG2JY0xwasBNCP6JRZa4nU4+NIM+XD5Gk/JNWAS5d1/JSw40kxGjb5pFGxsofIs56Gw3ivw5jYTejBVErJkNT2UV3FfoKrK4pOM+v75+X17eHp2ct8biqOsM3l0KGw12kEBCkWk5rIUkN8YzlVR/u33v9UcUlLBuThD160+KoZnNGIc7GWBpFulpKXfmGsYfaqjq10GNc/BdRzZWZXmqszfyPGVEngrrJ9RZuRxgz2kPGCkchnePSfLEE5XMRgH5gxaORUE9jPUmI0aoaGSt/iDjrbTSI/5qMBZu+vn9+TWfh8RQiTNlFM9k5pwzH6b28vvE1ChVAG2KqMzydCO/yepBUJLBef+RliF7SRSKNREP3WN4CUC30LnmUo0cBhW9hqTEYV3vUvLJ+nb6dCtKJm9cRL57pSvZjuRCGKE97dMFBwxprMP9jRkR0Md6Q78oieHTKpRKijvJlQ0CMV7GOpBLnHIiwEEPe1VgjCTFatXmkcY/lnMscIs56Gw3ivxFjwTLvoK/XHwFlrd3MZNziVVK+aIR+nHfzpSON7AqdHhHqENoOaUPxLSv9KsOiA7UaUqxchZfCoXU6np5Q2OvRilBmtjdx22PBj/XWEdXJJy7qWfUC26G7vRjb6p/M/5hRPMby9qNY++shCuao8YlTmYen55vZ3cXlRMOVBgAx5ScMpBxG4eYbSYjRvHojLXOIOOttNIh/DYwF+3R7BH7SpK1mLG54+agJOvW1N/RU6FTG0rgP4StMGIjpJS/lVI/usbzSoxaGeyzvnDNJ2BhLXcA2Q5k9KxuAXWPSq8LUQAexJ1ISN/JdA7ygof9ttxAngeYxFraP5ObwUVPIWJovwITlgsA653C4zd3bweGpEqFKNt9OQozm1R5pOUPEWW+jQfyTGev947PwTVNlFzxBZbbra9+YDFeaeI6lksoTXn33djBacaBWzycZ9yF8SktaOLwHP2qJp0Qz0GOsyEdTOJ9MEjbG8ryAPxnKhVcLO2uvIxqZGDEcotCStjqTQPMYyzue8mooF45MHzz6Ojo+//3nrx7CowgoAkgrnJfiQZf3wEyFG24nIUbbwjCIXPHwIMcrLzlDxFlvo0H8kxmLPmD8zRfLh6dnZQvEHCQRlx67VDDWxeVkvliGJ41AoUInEwnKkSG46+v75+HpmTserAohxjfuvHf54t+88ELqv4+LlGj5LVaeft6VJKxcy4pQwWQeznYqiHgItwUoBIwQphzjjT2RFQdrEW5EeHsmDeZ/jD0hY4FOkGK9/sh7xw9Rx/jE7d4yl6tDNUAfXGEFTCUq1ko7CTFaWHuk5QwRZ72NBvFfk7G0FHptbuSZ7Sv3WLrV8LTxT6BQoROPapU4eS8aZE09hPRk9M+KbEHZgjC5h35SI1Uh2/rBnSRhYyyCzAZDmT0rG2ENxQce+LYbNfC1UvZEMhbPuHQTTyWtN5JACxmLi6TCS4hzpk+hDDZe4avCEMbnZ0J3tIhbEmK0E9NRtt480rKFiLPeRoP418xY+oUOWovJFpgMazdDlqWBl/SzmRSr0AnN3m6P2jzWZMKowNHxOaIBnUy50AHVjIUXScq48+j43HuzucJmT7jMvLJ+nZ29K8gICT94wCW/vsKnQcIYiGcs3M4P/FHDw9Nz64ddzH9aVdFAdHnpQHBCXvHSB7frlF9e35gd3rhQiw1WuBb0hJv8MwkxGIa5ePhsHmnZQrRVdxD/ZMZCOfZ+y/Hg8PTicvLw9Kzn1BXs4lVSTFW/8wZfJ6iFGDIVOokX3rnX07aTs6tf05n3ZAtfnwNLDg5PwxG9FKV+HjHj3rK8KjSjbMUdKayAqHll/R7O+3wqiAUQP7im6DH8ABcWLogfPp2l9+MZS4+pDw5PYQAqtXeMRuWNNZj/MSMiukLEAGYY0oCR8vzAPkAAsCQ8zwA9//AS1pNs+M94xLYdadlCtFWPEP91GGurlpny7SGwz4zFTbx+o50HtX5o/eJywu8l4hafi5VwmcK1VKhT1xMV34bs3bjVP5n/MaOUMdbN7I6PAFSPx1jOOf1qZj5ghpjeiDY81Tqpe4bFI7btSONKKDeIPMTq/ZP4G2PVC2zW2vaZsbJ2TOPGMf8bH3n1gKj44dZt9Z3blMgKsTwh2ib8jvgbY20V57yUG2Pl5Y/2rGH+t2dC8ch4zJPhO5b5IJYtRMUeramX+Btj1YRoF9QYY3XBS03YyPxvYrCUMfCYMPyYQYqOrcjmg1i2EG0F9/9VSvyNsf4Xkj34vzHWHjg5aorM/yjppoTePz7xK8ZZvXOB2WeCWM4QbTVMiL8x1lZxzku5MVZe/mjPGuZ/eyb8n5HxGiHexcjtCRYMbR2x/CH6Px6t+w/in8xY39//sX+7i0DdgdS+PoZy+6Z0x4LcQMNL/weHp/ph26zgbB2x/CHaqr+I/7+M9Y/9YwgYAoaAIWAIZIkAGPF/GGur9GjKDQFDwBAwBAyBzREwxtocQ9NgCBgChoAh0AQCxlhNoGxjGAKGgCFgCGyOwP8DmKBBlkGz778AAAAASUVORK5CYII=)"
      ],
      "metadata": {
        "id": "1-OsSdwq6xQY"
      }
    },
    {
      "cell_type": "markdown",
      "source": [
        "\n",
        "### **Distribution Analysis**\n",
        "Data Manipulations:  \n",
        "1.Examined quartile distribution of prices across all neighbourhoods and room types.  \n",
        "2.Provided a summary of room type distribution across neighbourhood groups.\n",
        "\n",
        "**Below is the Insights Found**\n",
        "\n",
        "**Prices Quartile Distribution:**\n",
        "\n",
        "![image.png](data:image/png;base64,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)\n",
        "\n",
        "**Room Type Distribution Summary Across Neighbourhood Groups:**\n",
        "\n",
        "![image.png](data:image/png;base64,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)"
      ],
      "metadata": {
        "id": "XEMacxaa6_mu"
      }
    },
    {
      "cell_type": "markdown",
      "source": [
        "## ***4. Data Vizualization, Storytelling & Experimenting with charts : Understand the relationships between variables***"
      ],
      "metadata": {
        "id": "GF8Ens_Soomf"
      }
    },
    {
      "cell_type": "markdown",
      "source": [
        "#### **Chart - 1: Preffered Neighbourhood Group (Univariate)**"
      ],
      "metadata": {
        "id": "0wOQAZs5pc--"
      }
    },
    {
      "cell_type": "code",
      "source": [
        "# Chart - 1 visualization code\n",
        "# Countplot to check which neighbourhood is most preferred i.e which has more count\n",
        "plt.figure(figsize=(6, 4))\n",
        "sns.countplot(x='neighbourhood_group', data=airbnb_df)\n",
        "plt.xticks(rotation=90)  # Rotates x-axis labels for better readability\n",
        "plt.xlabel('Neighborhood Group')\n",
        "plt.ylabel('Count')\n",
        "plt.title('Preferred Neighborhoods Group')\n",
        "\n",
        "plt.show()"
      ],
      "metadata": {
        "id": "7v_ESjsspbW7",
        "colab": {
          "base_uri": "https://localhost:8080/",
          "height": 487
        },
        "outputId": "87f951e4-3512-459b-9e9e-6c69ce673cb0"
      },
      "execution_count": 32,
      "outputs": [
        {
          "output_type": "display_data",
          "data": {
            "text/plain": [
              "<Figure size 600x400 with 1 Axes>"
            ],
            "image/png": "[encoded data removed]"
          },
          "metadata": {}
        }
      ]
    },
    {
      "cell_type": "markdown",
      "source": [
        "##### 1. Why did you pick the specific chart?"
      ],
      "metadata": {
        "id": "K5QZ13OEpz2H"
      }
    },
    {
      "cell_type": "markdown",
      "source": [
        "A countplot is chosen for visualizing the preferred neighborhood groups based on their count. A countplot is suitable when you want to see the frequency or distribution of categorical data. In this case, it helps in quickly comparing the number of listings in each neighborhood group."
      ],
      "metadata": {
        "id": "XESiWehPqBRc"
      }
    },
    {
      "cell_type": "markdown",
      "source": [
        "##### 2. What is/are the insight(s) found from the chart?"
      ],
      "metadata": {
        "id": "lQ7QKXXCp7Bj"
      }
    },
    {
      "cell_type": "markdown",
      "source": [
        "1. As we dive into the visual, the chart paints a clear picture. Manhattan stands tall as the most preferred neighborhood group, capturing the attention of hosts and visitors alike. Its vibrant streets and iconic landmarks make it a hotspot for Airbnb activity.\n",
        "\n",
        "2. Following closely is the trendy and diverse borough of Brooklyn, indicating a strong second preference..Followed by Queens,Bronx,Staten Island."
      ],
      "metadata": {
        "id": "C_j1G7yiqdRP"
      }
    },
    {
      "cell_type": "markdown",
      "source": [
        "##### 3. Will the gained insights help creating a positive business impact?\n",
        "Are there any insights that lead to negative growth? Justify with specific reason."
      ],
      "metadata": {
        "id": "448CDAPjqfQr"
      }
    },
    {
      "cell_type": "markdown",
      "source": [
        "1. Positive Impact: If you're a host or investor, this info is like finding a treasure map. Manhattan and Brooklyn seem like golden spots for growth and making some extra cash.\n",
        "\n",
        "2. Negative Growth Consideration: The flip side suggests that more people means more competition and higher costs that is expenses related to property maintenance, marketing efforts, and potentially higher property acquisition costs. So, while Manhattan shines bright, there's a need to balance the shine with other factors.While popular neighborhoods offer growth potential, it's essential to weigh the benefits against the challenges and make informed decisions."
      ],
      "metadata": {
        "id": "3cspy4FjqxJW"
      }
    },
    {
      "cell_type": "markdown",
      "source": [
        "#### **Chart - 2 : Preffered Room Type (Univariate)**"
      ],
      "metadata": {
        "id": "KSlN3yHqYklG"
      }
    },
    {
      "cell_type": "code",
      "source": [
        "# Chart - 2 visualization code\n",
        "# Countplot to check which room type is most preferred i.e which has more count\n",
        "plt.figure(figsize=(10, 6))\n",
        "sns.countplot(x='room_type', data=airbnb_df)\n",
        "plt.xticks(rotation=90)  # Rotates x-axis labels for better readability\n",
        "plt.xlabel('Room Type')\n",
        "plt.ylabel('Count')\n",
        "plt.title('Preferred Room Type')\n",
        "\n",
        "plt.show()"
      ],
      "metadata": {
        "id": "R4YgtaqtYklH",
        "colab": {
          "base_uri": "https://localhost:8080/",
          "height": 662
        },
        "outputId": "0794e3d6-fa52-4f3f-a0cf-a22da858ba93"
      },
      "execution_count": 33,
      "outputs": [
        {
          "output_type": "display_data",
          "data": {
            "text/plain": [
              "<Figure size 1000x600 with 1 Axes>"
            ],
            "image/png": "[encoded data removed]"
          },
          "metadata": {}
        }
      ]
    },
    {
      "cell_type": "markdown",
      "source": [
        "##### 1. Why did you pick the specific chart?"
      ],
      "metadata": {
        "id": "t6dVpIINYklI"
      }
    },
    {
      "cell_type": "markdown",
      "source": [
        "The chosen chart is a countplot. It is suitable for comparing the frequency or distribution of categorical data, making it ideal for visualizing the preferred room types based on the count of Airbnb listings."
      ],
      "metadata": {
        "id": "5aaW0BYyYklI"
      }
    },
    {
      "cell_type": "markdown",
      "source": [
        "##### 2. What is/are the insight(s) found from the chart?"
      ],
      "metadata": {
        "id": "ijmpgYnKYklI"
      }
    },
    {
      "cell_type": "markdown",
      "source": [
        "1. Top Preference: Entire home/apartment is in high demand, indicating a preference for more private and exclusive accommodations.\n",
        "\n",
        "2. Secondary Preference: Private rooms are also highly preferred, suggesting a balance between privacy and affordability.\n",
        "\n",
        "3. Less Preferred: Shared rooms have a lower count, indicating a lower level of preference, possibly due to a preference for more personal space."
      ],
      "metadata": {
        "id": "PSx9atu2YklI"
      }
    },
    {
      "cell_type": "markdown",
      "source": [
        "##### 3. Will the gained insights help creating a positive business impact?\n",
        "Are there any insights that lead to negative growth? Justify with specific reason."
      ],
      "metadata": {
        "id": "-JiQyfWJYklI"
      }
    },
    {
      "cell_type": "markdown",
      "source": [
        "**Positive Impact:**\n",
        "\n",
        "Understanding the preferred room types is a win for the Airbnb platform as a whole. Hosts, armed with insights into guest preferences, can optimize their listings accordingly. This optimization leads to a positive ripple effect:\n",
        "\n",
        "1. Increased Bookings: By tailoring listings to what guests desire, hosts are likely to attract more bookings. Whether it's promoting entire homes or private rooms, aligning with guest preferences translates into a higher likelihood of reservations.\n",
        "2. Positive Guest Experiences: When guests find what they're looking for, it contributes to positive experiences. Satisfied guests are more likely to leave positive reviews, creating a cycle of positive feedback that benefits both hosts and the Airbnb platform.\n",
        "\n",
        "**Negative Growth Consideration:**\n",
        "\n",
        "1. Potentially Lower Revenue: Shared rooms may not be as lucrative as entire homes or private rooms. If hosts heavily invest in shared accommodations without assessing demand, it could result in lower revenue potential.\n",
        "2. Strategic Thinking: While shared rooms are less preferred, it might also indicate a potential market gap for hosts willing to cater to the shared accommodation niche. However, entering this market requires careful consideration of the target audience and competition."
      ],
      "metadata": {
        "id": "BcBbebzrYklV"
      }
    },
    {
      "cell_type": "markdown",
      "source": [
        "#### Chart - 3"
      ],
      "metadata": {
        "id": "EM7whBJCYoAo"
      }
    },
    {
      "cell_type": "code",
      "source": [
        "# Chart - 3 visualization code"
      ],
      "metadata": {
        "id": "t6GMdE67YoAp"
      },
      "execution_count": null,
      "outputs": []
    },
    {
      "cell_type": "markdown",
      "source": [
        "##### 1. Why did you pick the specific chart?"
      ],
      "metadata": {
        "id": "fge-S5ZAYoAp"
      }
    },
    {
      "cell_type": "markdown",
      "source": [
        "Answer Here."
      ],
      "metadata": {
        "id": "5dBItgRVYoAp"
      }
    },
    {
      "cell_type": "markdown",
      "source": [
        "##### 2. What is/are the insight(s) found from the chart?"
      ],
      "metadata": {
        "id": "85gYPyotYoAp"
      }
    },
    {
      "cell_type": "markdown",
      "source": [
        "Answer Here"
      ],
      "metadata": {
        "id": "4jstXR6OYoAp"
      }
    },
    {
      "cell_type": "markdown",
      "source": [
        "##### 3. Will the gained insights help creating a positive business impact?\n",
        "Are there any insights that lead to negative growth? Justify with specific reason."
      ],
      "metadata": {
        "id": "RoGjAbkUYoAp"
      }
    },
    {
      "cell_type": "markdown",
      "source": [
        "Answer Here"
      ],
      "metadata": {
        "id": "zfJ8IqMcYoAp"
      }
    },
    {
      "cell_type": "markdown",
      "source": [
        "#### Chart - 4"
      ],
      "metadata": {
        "id": "4Of9eVA-YrdM"
      }
    },
    {
      "cell_type": "code",
      "source": [
        "# Chart - 4 visualization code"
      ],
      "metadata": {
        "id": "irlUoxc8YrdO"
      },
      "execution_count": null,
      "outputs": []
    },
    {
      "cell_type": "markdown",
      "source": [
        "##### 1. Why did you pick the specific chart?"
      ],
      "metadata": {
        "id": "iky9q4vBYrdO"
      }
    },
    {
      "cell_type": "markdown",
      "source": [
        "Answer Here."
      ],
      "metadata": {
        "id": "aJRCwT6DYrdO"
      }
    },
    {
      "cell_type": "markdown",
      "source": [
        "##### 2. What is/are the insight(s) found from the chart?"
      ],
      "metadata": {
        "id": "F6T5p64dYrdO"
      }
    },
    {
      "cell_type": "markdown",
      "source": [
        "Answer Here"
      ],
      "metadata": {
        "id": "Xx8WAJvtYrdO"
      }
    },
    {
      "cell_type": "markdown",
      "source": [
        "##### 3. Will the gained insights help creating a positive business impact?\n",
        "Are there any insights that lead to negative growth? Justify with specific reason."
      ],
      "metadata": {
        "id": "y-Ehk30pYrdP"
      }
    },
    {
      "cell_type": "markdown",
      "source": [
        "Answer Here"
      ],
      "metadata": {
        "id": "jLNxxz7MYrdP"
      }
    },
    {
      "cell_type": "markdown",
      "source": [
        "#### Chart - 5"
      ],
      "metadata": {
        "id": "bamQiAODYuh1"
      }
    },
    {
      "cell_type": "code",
      "source": [
        "# Chart - 5 visualization code"
      ],
      "metadata": {
        "id": "TIJwrbroYuh3"
      },
      "execution_count": null,
      "outputs": []
    },
    {
      "cell_type": "markdown",
      "source": [
        "##### 1. Why did you pick the specific chart?"
      ],
      "metadata": {
        "id": "QHF8YVU7Yuh3"
      }
    },
    {
      "cell_type": "markdown",
      "source": [
        "Answer Here."
      ],
      "metadata": {
        "id": "dcxuIMRPYuh3"
      }
    },
    {
      "cell_type": "markdown",
      "source": [
        "##### 2. What is/are the insight(s) found from the chart?"
      ],
      "metadata": {
        "id": "GwzvFGzlYuh3"
      }
    },
    {
      "cell_type": "markdown",
      "source": [
        "Answer Here"
      ],
      "metadata": {
        "id": "uyqkiB8YYuh3"
      }
    },
    {
      "cell_type": "markdown",
      "source": [
        "##### 3. Will the gained insights help creating a positive business impact?\n",
        "Are there any insights that lead to negative growth? Justify with specific reason."
      ],
      "metadata": {
        "id": "qYpmQ266Yuh3"
      }
    },
    {
      "cell_type": "markdown",
      "source": [
        "Answer Here"
      ],
      "metadata": {
        "id": "_WtzZ_hCYuh4"
      }
    },
    {
      "cell_type": "markdown",
      "source": [
        "#### Chart - 6"
      ],
      "metadata": {
        "id": "OH-pJp9IphqM"
      }
    },
    {
      "cell_type": "code",
      "source": [
        "# Chart - 6 visualization code"
      ],
      "metadata": {
        "id": "kuRf4wtuphqN"
      },
      "execution_count": null,
      "outputs": []
    },
    {
      "cell_type": "markdown",
      "source": [
        "##### 1. Why did you pick the specific chart?"
      ],
      "metadata": {
        "id": "bbFf2-_FphqN"
      }
    },
    {
      "cell_type": "markdown",
      "source": [
        "Answer Here."
      ],
      "metadata": {
        "id": "loh7H2nzphqN"
      }
    },
    {
      "cell_type": "markdown",
      "source": [
        "##### 2. What is/are the insight(s) found from the chart?"
      ],
      "metadata": {
        "id": "_ouA3fa0phqN"
      }
    },
    {
      "cell_type": "markdown",
      "source": [
        "Answer Here"
      ],
      "metadata": {
        "id": "VECbqPI7phqN"
      }
    },
    {
      "cell_type": "markdown",
      "source": [
        "##### 3. Will the gained insights help creating a positive business impact?\n",
        "Are there any insights that lead to negative growth? Justify with specific reason."
      ],
      "metadata": {
        "id": "Seke61FWphqN"
      }
    },
    {
      "cell_type": "markdown",
      "source": [
        "Answer Here"
      ],
      "metadata": {
        "id": "DW4_bGpfphqN"
      }
    },
    {
      "cell_type": "markdown",
      "source": [
        "#### Chart - 7"
      ],
      "metadata": {
        "id": "PIIx-8_IphqN"
      }
    },
    {
      "cell_type": "code",
      "source": [
        "# Chart - 7 visualization code"
      ],
      "metadata": {
        "id": "lqAIGUfyphqO"
      },
      "execution_count": null,
      "outputs": []
    },
    {
      "cell_type": "markdown",
      "source": [
        "##### 1. Why did you pick the specific chart?"
      ],
      "metadata": {
        "id": "t27r6nlMphqO"
      }
    },
    {
      "cell_type": "markdown",
      "source": [
        "Answer Here."
      ],
      "metadata": {
        "id": "iv6ro40sphqO"
      }
    },
    {
      "cell_type": "markdown",
      "source": [
        "##### 2. What is/are the insight(s) found from the chart?"
      ],
      "metadata": {
        "id": "r2jJGEOYphqO"
      }
    },
    {
      "cell_type": "markdown",
      "source": [
        "Answer Here"
      ],
      "metadata": {
        "id": "Po6ZPi4hphqO"
      }
    },
    {
      "cell_type": "markdown",
      "source": [
        "##### 3. Will the gained insights help creating a positive business impact?\n",
        "Are there any insights that lead to negative growth? Justify with specific reason."
      ],
      "metadata": {
        "id": "b0JNsNcRphqO"
      }
    },
    {
      "cell_type": "markdown",
      "source": [
        "Answer Here"
      ],
      "metadata": {
        "id": "xvSq8iUTphqO"
      }
    },
    {
      "cell_type": "markdown",
      "source": [
        "#### Chart - 8"
      ],
      "metadata": {
        "id": "BZR9WyysphqO"
      }
    },
    {
      "cell_type": "code",
      "source": [
        "# Chart - 8 visualization code"
      ],
      "metadata": {
        "id": "TdPTWpAVphqO"
      },
      "execution_count": null,
      "outputs": []
    },
    {
      "cell_type": "markdown",
      "source": [
        "##### 1. Why did you pick the specific chart?"
      ],
      "metadata": {
        "id": "jj7wYXLtphqO"
      }
    },
    {
      "cell_type": "markdown",
      "source": [
        "Answer Here."
      ],
      "metadata": {
        "id": "Ob8u6rCTphqO"
      }
    },
    {
      "cell_type": "markdown",
      "source": [
        "##### 2. What is/are the insight(s) found from the chart?"
      ],
      "metadata": {
        "id": "eZrbJ2SmphqO"
      }
    },
    {
      "cell_type": "markdown",
      "source": [
        "Answer Here"
      ],
      "metadata": {
        "id": "mZtgC_hjphqO"
      }
    },
    {
      "cell_type": "markdown",
      "source": [
        "##### 3. Will the gained insights help creating a positive business impact?\n",
        "Are there any insights that lead to negative growth? Justify with specific reason."
      ],
      "metadata": {
        "id": "rFu4xreNphqO"
      }
    },
    {
      "cell_type": "markdown",
      "source": [
        "Answer Here"
      ],
      "metadata": {
        "id": "ey_0qi68phqO"
      }
    },
    {
      "cell_type": "markdown",
      "source": [
        "#### Chart - 9"
      ],
      "metadata": {
        "id": "YJ55k-q6phqO"
      }
    },
    {
      "cell_type": "code",
      "source": [
        "# Chart - 9 visualization code"
      ],
      "metadata": {
        "id": "B2aS4O1ophqO"
      },
      "execution_count": null,
      "outputs": []
    },
    {
      "cell_type": "markdown",
      "source": [
        "##### 1. Why did you pick the specific chart?"
      ],
      "metadata": {
        "id": "gCFgpxoyphqP"
      }
    },
    {
      "cell_type": "markdown",
      "source": [
        "Answer Here."
      ],
      "metadata": {
        "id": "TVxDimi2phqP"
      }
    },
    {
      "cell_type": "markdown",
      "source": [
        "##### 2. What is/are the insight(s) found from the chart?"
      ],
      "metadata": {
        "id": "OVtJsKN_phqQ"
      }
    },
    {
      "cell_type": "markdown",
      "source": [
        "Answer Here"
      ],
      "metadata": {
        "id": "ngGi97qjphqQ"
      }
    },
    {
      "cell_type": "markdown",
      "source": [
        "##### 3. Will the gained insights help creating a positive business impact?\n",
        "Are there any insights that lead to negative growth? Justify with specific reason."
      ],
      "metadata": {
        "id": "lssrdh5qphqQ"
      }
    },
    {
      "cell_type": "markdown",
      "source": [
        "Answer Here"
      ],
      "metadata": {
        "id": "tBpY5ekJphqQ"
      }
    },
    {
      "cell_type": "markdown",
      "source": [
        "#### Chart - 10"
      ],
      "metadata": {
        "id": "U2RJ9gkRphqQ"
      }
    },
    {
      "cell_type": "code",
      "source": [
        "# Chart - 10 visualization code"
      ],
      "metadata": {
        "id": "GM7a4YP4phqQ"
      },
      "execution_count": null,
      "outputs": []
    },
    {
      "cell_type": "markdown",
      "source": [
        "##### 1. Why did you pick the specific chart?"
      ],
      "metadata": {
        "id": "1M8mcRywphqQ"
      }
    },
    {
      "cell_type": "markdown",
      "source": [
        "Answer Here."
      ],
      "metadata": {
        "id": "8agQvks0phqQ"
      }
    },
    {
      "cell_type": "markdown",
      "source": [
        "##### 2. What is/are the insight(s) found from the chart?"
      ],
      "metadata": {
        "id": "tgIPom80phqQ"
      }
    },
    {
      "cell_type": "markdown",
      "source": [
        "Answer Here"
      ],
      "metadata": {
        "id": "Qp13pnNzphqQ"
      }
    },
    {
      "cell_type": "markdown",
      "source": [
        "##### 3. Will the gained insights help creating a positive business impact?\n",
        "Are there any insights that lead to negative growth? Justify with specific reason."
      ],
      "metadata": {
        "id": "JMzcOPDDphqR"
      }
    },
    {
      "cell_type": "markdown",
      "source": [
        "Answer Here"
      ],
      "metadata": {
        "id": "R4Ka1PC2phqR"
      }
    },
    {
      "cell_type": "markdown",
      "source": [
        "#### Chart - 11"
      ],
      "metadata": {
        "id": "x-EpHcCOp1ci"
      }
    },
    {
      "cell_type": "code",
      "source": [
        "# Chart - 11 visualization code"
      ],
      "metadata": {
        "id": "mAQTIvtqp1cj"
      },
      "execution_count": null,
      "outputs": []
    },
    {
      "cell_type": "markdown",
      "source": [
        "##### 1. Why did you pick the specific chart?"
      ],
      "metadata": {
        "id": "X_VqEhTip1ck"
      }
    },
    {
      "cell_type": "markdown",
      "source": [
        "Answer Here."
      ],
      "metadata": {
        "id": "-vsMzt_np1ck"
      }
    },
    {
      "cell_type": "markdown",
      "source": [
        "##### 2. What is/are the insight(s) found from the chart?"
      ],
      "metadata": {
        "id": "8zGJKyg5p1ck"
      }
    },
    {
      "cell_type": "markdown",
      "source": [
        "Answer Here"
      ],
      "metadata": {
        "id": "ZYdMsrqVp1ck"
      }
    },
    {
      "cell_type": "markdown",
      "source": [
        "##### 3. Will the gained insights help creating a positive business impact?\n",
        "Are there any insights that lead to negative growth? Justify with specific reason."
      ],
      "metadata": {
        "id": "PVzmfK_Ep1ck"
      }
    },
    {
      "cell_type": "markdown",
      "source": [
        "Answer Here"
      ],
      "metadata": {
        "id": "druuKYZpp1ck"
      }
    },
    {
      "cell_type": "markdown",
      "source": [
        "#### Chart - 12"
      ],
      "metadata": {
        "id": "n3dbpmDWp1ck"
      }
    },
    {
      "cell_type": "code",
      "source": [
        "# Chart - 12 visualization code"
      ],
      "metadata": {
        "id": "bwevp1tKp1ck"
      },
      "execution_count": null,
      "outputs": []
    },
    {
      "cell_type": "markdown",
      "source": [
        "##### 1. Why did you pick the specific chart?"
      ],
      "metadata": {
        "id": "ylSl6qgtp1ck"
      }
    },
    {
      "cell_type": "markdown",
      "source": [
        "Answer Here."
      ],
      "metadata": {
        "id": "m2xqNkiQp1ck"
      }
    },
    {
      "cell_type": "markdown",
      "source": [
        "##### 2. What is/are the insight(s) found from the chart?"
      ],
      "metadata": {
        "id": "ZWILFDl5p1ck"
      }
    },
    {
      "cell_type": "markdown",
      "source": [
        "Answer Here"
      ],
      "metadata": {
        "id": "x-lUsV2mp1ck"
      }
    },
    {
      "cell_type": "markdown",
      "source": [
        "##### 3. Will the gained insights help creating a positive business impact?\n",
        "Are there any insights that lead to negative growth? Justify with specific reason."
      ],
      "metadata": {
        "id": "M7G43BXep1ck"
      }
    },
    {
      "cell_type": "markdown",
      "source": [
        "Answer Here"
      ],
      "metadata": {
        "id": "5wwDJXsLp1cl"
      }
    },
    {
      "cell_type": "markdown",
      "source": [
        "#### Chart - 13"
      ],
      "metadata": {
        "id": "Ag9LCva-p1cl"
      }
    },
    {
      "cell_type": "code",
      "source": [
        "# Chart - 13 visualization code"
      ],
      "metadata": {
        "id": "EUfxeq9-p1cl"
      },
      "execution_count": null,
      "outputs": []
    },
    {
      "cell_type": "markdown",
      "source": [
        "##### 1. Why did you pick the specific chart?"
      ],
      "metadata": {
        "id": "E6MkPsBcp1cl"
      }
    },
    {
      "cell_type": "markdown",
      "source": [
        "Answer Here."
      ],
      "metadata": {
        "id": "V22bRsFWp1cl"
      }
    },
    {
      "cell_type": "markdown",
      "source": [
        "##### 2. What is/are the insight(s) found from the chart?"
      ],
      "metadata": {
        "id": "2cELzS2fp1cl"
      }
    },
    {
      "cell_type": "markdown",
      "source": [
        "Answer Here"
      ],
      "metadata": {
        "id": "ozQPc2_Ip1cl"
      }
    },
    {
      "cell_type": "markdown",
      "source": [
        "##### 3. Will the gained insights help creating a positive business impact?\n",
        "Are there any insights that lead to negative growth? Justify with specific reason."
      ],
      "metadata": {
        "id": "3MPXvC8up1cl"
      }
    },
    {
      "cell_type": "markdown",
      "source": [
        "Answer Here"
      ],
      "metadata": {
        "id": "GL8l1tdLp1cl"
      }
    },
    {
      "cell_type": "markdown",
      "source": [
        "#### Chart - 14 - Correlation Heatmap"
      ],
      "metadata": {
        "id": "NC_X3p0fY2L0"
      }
    },
    {
      "cell_type": "code",
      "source": [
        "# Correlation Heatmap visualization code"
      ],
      "metadata": {
        "id": "xyC9zolEZNRQ"
      },
      "execution_count": null,
      "outputs": []
    },
    {
      "cell_type": "markdown",
      "source": [
        "##### 1. Why did you pick the specific chart?"
      ],
      "metadata": {
        "id": "UV0SzAkaZNRQ"
      }
    },
    {
      "cell_type": "markdown",
      "source": [
        "Answer Here."
      ],
      "metadata": {
        "id": "DVPuT8LYZNRQ"
      }
    },
    {
      "cell_type": "markdown",
      "source": [
        "##### 2. What is/are the insight(s) found from the chart?"
      ],
      "metadata": {
        "id": "YPEH6qLeZNRQ"
      }
    },
    {
      "cell_type": "markdown",
      "source": [
        "Answer Here"
      ],
      "metadata": {
        "id": "bfSqtnDqZNRR"
      }
    },
    {
      "cell_type": "markdown",
      "source": [
        "#### Chart - 15 - Pair Plot"
      ],
      "metadata": {
        "id": "q29F0dvdveiT"
      }
    },
    {
      "cell_type": "code",
      "source": [
        "# Pair Plot visualization code"
      ],
      "metadata": {
        "id": "o58-TEIhveiU"
      },
      "execution_count": null,
      "outputs": []
    },
    {
      "cell_type": "markdown",
      "source": [
        "##### 1. Why did you pick the specific chart?"
      ],
      "metadata": {
        "id": "EXh0U9oCveiU"
      }
    },
    {
      "cell_type": "markdown",
      "source": [
        "Answer Here."
      ],
      "metadata": {
        "id": "eMmPjTByveiU"
      }
    },
    {
      "cell_type": "markdown",
      "source": [
        "##### 2. What is/are the insight(s) found from the chart?"
      ],
      "metadata": {
        "id": "22aHeOlLveiV"
      }
    },
    {
      "cell_type": "markdown",
      "source": [
        "Answer Here"
      ],
      "metadata": {
        "id": "uPQ8RGwHveiV"
      }
    },
    {
      "cell_type": "markdown",
      "source": [
        "## ***5. Hypothesis Testing***"
      ],
      "metadata": {
        "id": "g-ATYxFrGrvw"
      }
    },
    {
      "cell_type": "markdown",
      "source": [
        "### Based on your chart experiments, define three hypothetical statements from the dataset. In the next three questions, perform hypothesis testing to obtain final conclusion about the statements through your code and statistical testing."
      ],
      "metadata": {
        "id": "Yfr_Vlr8HBkt"
      }
    },
    {
      "cell_type": "markdown",
      "source": [
        "Answer Here."
      ],
      "metadata": {
        "id": "-7MS06SUHkB-"
      }
    },
    {
      "cell_type": "markdown",
      "source": [
        "### Hypothetical Statement - 1"
      ],
      "metadata": {
        "id": "8yEUt7NnHlrM"
      }
    },
    {
      "cell_type": "markdown",
      "source": [
        "#### 1. State Your research hypothesis as a null hypothesis and alternate hypothesis."
      ],
      "metadata": {
        "id": "tEA2Xm5dHt1r"
      }
    },
    {
      "cell_type": "markdown",
      "source": [
        "Answer Here."
      ],
      "metadata": {
        "id": "HI9ZP0laH0D-"
      }
    },
    {
      "cell_type": "markdown",
      "source": [
        "#### 2. Perform an appropriate statistical test."
      ],
      "metadata": {
        "id": "I79__PHVH19G"
      }
    },
    {
      "cell_type": "code",
      "source": [
        "# Perform Statistical Test to obtain P-Value"
      ],
      "metadata": {
        "id": "oZrfquKtyian"
      },
      "execution_count": null,
      "outputs": []
    },
    {
      "cell_type": "markdown",
      "source": [
        "##### Which statistical test have you done to obtain P-Value?"
      ],
      "metadata": {
        "id": "Ou-I18pAyIpj"
      }
    },
    {
      "cell_type": "markdown",
      "source": [
        "Answer Here."
      ],
      "metadata": {
        "id": "s2U0kk00ygSB"
      }
    },
    {
      "cell_type": "markdown",
      "source": [
        "##### Why did you choose the specific statistical test?"
      ],
      "metadata": {
        "id": "fF3858GYyt-u"
      }
    },
    {
      "cell_type": "markdown",
      "source": [
        "Answer Here."
      ],
      "metadata": {
        "id": "HO4K0gP5y3B4"
      }
    },
    {
      "cell_type": "markdown",
      "source": [
        "### Hypothetical Statement - 2"
      ],
      "metadata": {
        "id": "4_0_7-oCpUZd"
      }
    },
    {
      "cell_type": "markdown",
      "source": [
        "#### 1. State Your research hypothesis as a null hypothesis and alternate hypothesis."
      ],
      "metadata": {
        "id": "hwyV_J3ipUZe"
      }
    },
    {
      "cell_type": "markdown",
      "source": [
        "Answer Here."
      ],
      "metadata": {
        "id": "FnpLGJ-4pUZe"
      }
    },
    {
      "cell_type": "markdown",
      "source": [
        "#### 2. Perform an appropriate statistical test."
      ],
      "metadata": {
        "id": "3yB-zSqbpUZe"
      }
    },
    {
      "cell_type": "code",
      "source": [
        "# Perform Statistical Test to obtain P-Value"
      ],
      "metadata": {
        "id": "sWxdNTXNpUZe"
      },
      "execution_count": null,
      "outputs": []
    },
    {
      "cell_type": "markdown",
      "source": [
        "##### Which statistical test have you done to obtain P-Value?"
      ],
      "metadata": {
        "id": "dEUvejAfpUZe"
      }
    },
    {
      "cell_type": "markdown",
      "source": [
        "Answer Here."
      ],
      "metadata": {
        "id": "oLDrPz7HpUZf"
      }
    },
    {
      "cell_type": "markdown",
      "source": [
        "##### Why did you choose the specific statistical test?"
      ],
      "metadata": {
        "id": "Fd15vwWVpUZf"
      }
    },
    {
      "cell_type": "markdown",
      "source": [
        "Answer Here."
      ],
      "metadata": {
        "id": "4xOGYyiBpUZf"
      }
    },
    {
      "cell_type": "markdown",
      "source": [
        "### Hypothetical Statement - 3"
      ],
      "metadata": {
        "id": "bn_IUdTipZyH"
      }
    },
    {
      "cell_type": "markdown",
      "source": [
        "#### 1. State Your research hypothesis as a null hypothesis and alternate hypothesis."
      ],
      "metadata": {
        "id": "49K5P_iCpZyH"
      }
    },
    {
      "cell_type": "markdown",
      "source": [
        "Answer Here."
      ],
      "metadata": {
        "id": "7gWI5rT9pZyH"
      }
    },
    {
      "cell_type": "markdown",
      "source": [
        "#### 2. Perform an appropriate statistical test."
      ],
      "metadata": {
        "id": "Nff-vKELpZyI"
      }
    },
    {
      "cell_type": "code",
      "source": [
        "# Perform Statistical Test to obtain P-Value"
      ],
      "metadata": {
        "id": "s6AnJQjtpZyI"
      },
      "execution_count": null,
      "outputs": []
    },
    {
      "cell_type": "markdown",
      "source": [
        "##### Which statistical test have you done to obtain P-Value?"
      ],
      "metadata": {
        "id": "kLW572S8pZyI"
      }
    },
    {
      "cell_type": "markdown",
      "source": [
        "Answer Here."
      ],
      "metadata": {
        "id": "ytWJ8v15pZyI"
      }
    },
    {
      "cell_type": "markdown",
      "source": [
        "##### Why did you choose the specific statistical test?"
      ],
      "metadata": {
        "id": "dWbDXHzopZyI"
      }
    },
    {
      "cell_type": "markdown",
      "source": [
        "Answer Here."
      ],
      "metadata": {
        "id": "M99G98V6pZyI"
      }
    },
    {
      "cell_type": "markdown",
      "source": [
        "## ***6. Feature Engineering & Data Pre-processing***"
      ],
      "metadata": {
        "id": "yLjJCtPM0KBk"
      }
    },
    {
      "cell_type": "markdown",
      "source": [
        "### 1. Handling Missing Values"
      ],
      "metadata": {
        "id": "xiyOF9F70UgQ"
      }
    },
    {
      "cell_type": "code",
      "source": [
        "# Handling Missing Values & Missing Value Imputation"
      ],
      "metadata": {
        "id": "iRsAHk1K0fpS"
      },
      "execution_count": null,
      "outputs": []
    },
    {
      "cell_type": "markdown",
      "source": [
        "#### What all missing value imputation techniques have you used and why did you use those techniques?"
      ],
      "metadata": {
        "id": "7wuGOrhz0itI"
      }
    },
    {
      "cell_type": "markdown",
      "source": [
        "Answer Here."
      ],
      "metadata": {
        "id": "1ixusLtI0pqI"
      }
    },
    {
      "cell_type": "markdown",
      "source": [
        "### 2. Handling Outliers"
      ],
      "metadata": {
        "id": "id1riN9m0vUs"
      }
    },
    {
      "cell_type": "code",
      "source": [
        "# Handling Outliers & Outlier treatments"
      ],
      "metadata": {
        "id": "M6w2CzZf04JK"
      },
      "execution_count": null,
      "outputs": []
    },
    {
      "cell_type": "markdown",
      "source": [
        "##### What all outlier treatment techniques have you used and why did you use those techniques?"
      ],
      "metadata": {
        "id": "578E2V7j08f6"
      }
    },
    {
      "cell_type": "markdown",
      "source": [
        "Answer Here."
      ],
      "metadata": {
        "id": "uGZz5OrT1HH-"
      }
    },
    {
      "cell_type": "markdown",
      "source": [
        "### 3. Categorical Encoding"
      ],
      "metadata": {
        "id": "89xtkJwZ18nB"
      }
    },
    {
      "cell_type": "code",
      "source": [
        "# Encode your categorical columns"
      ],
      "metadata": {
        "id": "21JmIYMG2hEo"
      },
      "execution_count": null,
      "outputs": []
    },
    {
      "cell_type": "markdown",
      "source": [
        "#### What all categorical encoding techniques have you used & why did you use those techniques?"
      ],
      "metadata": {
        "id": "67NQN5KX2AMe"
      }
    },
    {
      "cell_type": "markdown",
      "source": [
        "Answer Here."
      ],
      "metadata": {
        "id": "UDaue5h32n_G"
      }
    },
    {
      "cell_type": "markdown",
      "source": [
        "### 4. Textual Data Preprocessing\n",
        "(It's mandatory for textual dataset i.e., NLP, Sentiment Analysis, Text Clustering etc.)"
      ],
      "metadata": {
        "id": "Iwf50b-R2tYG"
      }
    },
    {
      "cell_type": "markdown",
      "source": [
        "#### 1. Expand Contraction"
      ],
      "metadata": {
        "id": "GMQiZwjn3iu7"
      }
    },
    {
      "cell_type": "code",
      "source": [
        "# Expand Contraction"
      ],
      "metadata": {
        "id": "PTouz10C3oNN"
      },
      "execution_count": null,
      "outputs": []
    },
    {
      "cell_type": "markdown",
      "source": [
        "#### 2. Lower Casing"
      ],
      "metadata": {
        "id": "WVIkgGqN3qsr"
      }
    },
    {
      "cell_type": "code",
      "source": [
        "# Lower Casing"
      ],
      "metadata": {
        "id": "88JnJ1jN3w7j"
      },
      "execution_count": null,
      "outputs": []
    },
    {
      "cell_type": "markdown",
      "source": [
        "#### 3. Removing Punctuations"
      ],
      "metadata": {
        "id": "XkPnILGE3zoT"
      }
    },
    {
      "cell_type": "code",
      "source": [
        "# Remove Punctuations"
      ],
      "metadata": {
        "id": "vqbBqNaA33c0"
      },
      "execution_count": null,
      "outputs": []
    },
    {
      "cell_type": "markdown",
      "source": [
        "#### 4. Removing URLs & Removing words and digits contain digits."
      ],
      "metadata": {
        "id": "Hlsf0x5436Go"
      }
    },
    {
      "cell_type": "code",
      "source": [
        "# Remove URLs & Remove words and digits contain digits"
      ],
      "metadata": {
        "id": "2sxKgKxu4Ip3"
      },
      "execution_count": null,
      "outputs": []
    },
    {
      "cell_type": "markdown",
      "source": [
        "#### 5. Removing Stopwords & Removing White spaces"
      ],
      "metadata": {
        "id": "mT9DMSJo4nBL"
      }
    },
    {
      "cell_type": "code",
      "source": [
        "# Remove Stopwords"
      ],
      "metadata": {
        "id": "T2LSJh154s8W"
      },
      "execution_count": null,
      "outputs": []
    },
    {
      "cell_type": "code",
      "source": [
        "# Remove White spaces"
      ],
      "metadata": {
        "id": "EgLJGffy4vm0"
      },
      "execution_count": null,
      "outputs": []
    },
    {
      "cell_type": "markdown",
      "source": [
        "#### 6. Rephrase Text"
      ],
      "metadata": {
        "id": "c49ITxTc407N"
      }
    },
    {
      "cell_type": "code",
      "source": [
        "# Rephrase Text"
      ],
      "metadata": {
        "id": "foqY80Qu48N2"
      },
      "execution_count": null,
      "outputs": []
    },
    {
      "cell_type": "markdown",
      "source": [
        "#### 7. Tokenization"
      ],
      "metadata": {
        "id": "OeJFEK0N496M"
      }
    },
    {
      "cell_type": "code",
      "source": [
        "# Tokenization"
      ],
      "metadata": {
        "id": "ijx1rUOS5CUU"
      },
      "execution_count": null,
      "outputs": []
    },
    {
      "cell_type": "markdown",
      "source": [
        "#### 8. Text Normalization"
      ],
      "metadata": {
        "id": "9ExmJH0g5HBk"
      }
    },
    {
      "cell_type": "code",
      "source": [
        "# Normalizing Text (i.e., Stemming, Lemmatization etc.)"
      ],
      "metadata": {
        "id": "AIJ1a-Zc5PY8"
      },
      "execution_count": null,
      "outputs": []
    },
    {
      "cell_type": "markdown",
      "source": [
        "##### Which text normalization technique have you used and why?"
      ],
      "metadata": {
        "id": "cJNqERVU536h"
      }
    },
    {
      "cell_type": "markdown",
      "source": [
        "Answer Here."
      ],
      "metadata": {
        "id": "Z9jKVxE06BC1"
      }
    },
    {
      "cell_type": "markdown",
      "source": [
        "#### 9. Part of speech tagging"
      ],
      "metadata": {
        "id": "k5UmGsbsOxih"
      }
    },
    {
      "cell_type": "code",
      "source": [
        "# POS Taging"
      ],
      "metadata": {
        "id": "btT3ZJBAO6Ik"
      },
      "execution_count": null,
      "outputs": []
    },
    {
      "cell_type": "markdown",
      "source": [
        "#### 10. Text Vectorization"
      ],
      "metadata": {
        "id": "T0VqWOYE6DLQ"
      }
    },
    {
      "cell_type": "code",
      "source": [
        "# Vectorizing Text"
      ],
      "metadata": {
        "id": "yBRtdhth6JDE"
      },
      "execution_count": null,
      "outputs": []
    },
    {
      "cell_type": "markdown",
      "source": [
        "##### Which text vectorization technique have you used and why?"
      ],
      "metadata": {
        "id": "qBMux9mC6MCf"
      }
    },
    {
      "cell_type": "markdown",
      "source": [
        "Answer Here."
      ],
      "metadata": {
        "id": "su2EnbCh6UKQ"
      }
    },
    {
      "cell_type": "markdown",
      "source": [
        "### 4. Feature Manipulation & Selection"
      ],
      "metadata": {
        "id": "-oLEiFgy-5Pf"
      }
    },
    {
      "cell_type": "markdown",
      "source": [
        "#### 1. Feature Manipulation"
      ],
      "metadata": {
        "id": "C74aWNz2AliB"
      }
    },
    {
      "cell_type": "code",
      "source": [
        "# Manipulate Features to minimize feature correlation and create new features"
      ],
      "metadata": {
        "id": "h1qC4yhBApWC"
      },
      "execution_count": null,
      "outputs": []
    },
    {
      "cell_type": "markdown",
      "source": [
        "#### 2. Feature Selection"
      ],
      "metadata": {
        "id": "2DejudWSA-a0"
      }
    },
    {
      "cell_type": "code",
      "source": [
        "# Select your features wisely to avoid overfitting"
      ],
      "metadata": {
        "id": "YLhe8UmaBCEE"
      },
      "execution_count": null,
      "outputs": []
    },
    {
      "cell_type": "markdown",
      "source": [
        "##### What all feature selection methods have you used  and why?"
      ],
      "metadata": {
        "id": "pEMng2IbBLp7"
      }
    },
    {
      "cell_type": "markdown",
      "source": [
        "Answer Here."
      ],
      "metadata": {
        "id": "rb2Lh6Z8BgGs"
      }
    },
    {
      "cell_type": "markdown",
      "source": [
        "##### Which all features you found important and why?"
      ],
      "metadata": {
        "id": "rAdphbQ9Bhjc"
      }
    },
    {
      "cell_type": "markdown",
      "source": [
        "Answer Here."
      ],
      "metadata": {
        "id": "fGgaEstsBnaf"
      }
    },
    {
      "cell_type": "markdown",
      "source": [
        "### 5. Data Transformation"
      ],
      "metadata": {
        "id": "TNVZ9zx19K6k"
      }
    },
    {
      "cell_type": "markdown",
      "source": [
        "#### Do you think that your data needs to be transformed? If yes, which transformation have you used. Explain Why?"
      ],
      "metadata": {
        "id": "nqoHp30x9hH9"
      }
    },
    {
      "cell_type": "code",
      "source": [
        "# Transform Your data"
      ],
      "metadata": {
        "id": "I6quWQ1T9rtH"
      },
      "execution_count": null,
      "outputs": []
    },
    {
      "cell_type": "markdown",
      "source": [
        "### 6. Data Scaling"
      ],
      "metadata": {
        "id": "rMDnDkt2B6du"
      }
    },
    {
      "cell_type": "code",
      "source": [
        "# Scaling your data"
      ],
      "metadata": {
        "id": "dL9LWpySC6x_"
      },
      "execution_count": null,
      "outputs": []
    },
    {
      "cell_type": "markdown",
      "source": [
        "##### Which method have you used to scale you data and why?"
      ],
      "metadata": {
        "id": "yiiVWRdJDDil"
      }
    },
    {
      "cell_type": "markdown",
      "source": [
        "### 7. Dimesionality Reduction"
      ],
      "metadata": {
        "id": "1UUpS68QDMuG"
      }
    },
    {
      "cell_type": "markdown",
      "source": [
        "##### Do you think that dimensionality reduction is needed? Explain Why?"
      ],
      "metadata": {
        "id": "kexQrXU-DjzY"
      }
    },
    {
      "cell_type": "markdown",
      "source": [
        "Answer Here."
      ],
      "metadata": {
        "id": "GGRlBsSGDtTQ"
      }
    },
    {
      "cell_type": "code",
      "source": [
        "# DImensionality Reduction (If needed)"
      ],
      "metadata": {
        "id": "kQfvxBBHDvCa"
      },
      "execution_count": null,
      "outputs": []
    },
    {
      "cell_type": "markdown",
      "source": [
        "##### Which dimensionality reduction technique have you used and why? (If dimensionality reduction done on dataset.)"
      ],
      "metadata": {
        "id": "T5CmagL3EC8N"
      }
    },
    {
      "cell_type": "markdown",
      "source": [
        "Answer Here."
      ],
      "metadata": {
        "id": "ZKr75IDuEM7t"
      }
    },
    {
      "cell_type": "markdown",
      "source": [
        "### 8. Data Splitting"
      ],
      "metadata": {
        "id": "BhH2vgX9EjGr"
      }
    },
    {
      "cell_type": "code",
      "source": [
        "# Split your data to train and test. Choose Splitting ratio wisely."
      ],
      "metadata": {
        "id": "0CTyd2UwEyNM"
      },
      "execution_count": null,
      "outputs": []
    },
    {
      "cell_type": "markdown",
      "source": [
        "##### What data splitting ratio have you used and why?"
      ],
      "metadata": {
        "id": "qjKvONjwE8ra"
      }
    },
    {
      "cell_type": "markdown",
      "source": [
        "Answer Here."
      ],
      "metadata": {
        "id": "Y2lJ8cobFDb_"
      }
    },
    {
      "cell_type": "markdown",
      "source": [
        "### 9. Handling Imbalanced Dataset"
      ],
      "metadata": {
        "id": "P1XJ9OREExlT"
      }
    },
    {
      "cell_type": "markdown",
      "source": [
        "##### Do you think the dataset is imbalanced? Explain Why."
      ],
      "metadata": {
        "id": "VFOzZv6IFROw"
      }
    },
    {
      "cell_type": "markdown",
      "source": [
        "Answer Here."
      ],
      "metadata": {
        "id": "GeKDIv7pFgcC"
      }
    },
    {
      "cell_type": "code",
      "source": [
        "# Handling Imbalanced Dataset (If needed)"
      ],
      "metadata": {
        "id": "nQsRhhZLFiDs"
      },
      "execution_count": null,
      "outputs": []
    },
    {
      "cell_type": "markdown",
      "source": [
        "##### What technique did you use to handle the imbalance dataset and why? (If needed to be balanced)"
      ],
      "metadata": {
        "id": "TIqpNgepFxVj"
      }
    },
    {
      "cell_type": "markdown",
      "source": [
        "Answer Here."
      ],
      "metadata": {
        "id": "qbet1HwdGDTz"
      }
    },
    {
      "cell_type": "markdown",
      "source": [
        "## ***7. ML Model Implementation***"
      ],
      "metadata": {
        "id": "VfCC591jGiD4"
      }
    },
    {
      "cell_type": "markdown",
      "source": [
        "### ML Model - 1"
      ],
      "metadata": {
        "id": "OB4l2ZhMeS1U"
      }
    },
    {
      "cell_type": "code",
      "source": [
        "# ML Model - 1 Implementation\n",
        "\n",
        "# Fit the Algorithm\n",
        "\n",
        "# Predict on the model"
      ],
      "metadata": {
        "id": "7ebyywQieS1U"
      },
      "execution_count": null,
      "outputs": []
    },
    {
      "cell_type": "markdown",
      "source": [
        "#### 1. Explain the ML Model used and it's performance using Evaluation metric Score Chart."
      ],
      "metadata": {
        "id": "ArJBuiUVfxKd"
      }
    },
    {
      "cell_type": "code",
      "source": [
        "# Visualizing evaluation Metric Score chart"
      ],
      "metadata": {
        "id": "rqD5ZohzfxKe"
      },
      "execution_count": null,
      "outputs": []
    },
    {
      "cell_type": "markdown",
      "source": [
        "#### 2. Cross- Validation & Hyperparameter Tuning"
      ],
      "metadata": {
        "id": "4qY1EAkEfxKe"
      }
    },
    {
      "cell_type": "code",
      "source": [
        "# ML Model - 1 Implementation with hyperparameter optimization techniques (i.e., GridSearch CV, RandomSearch CV, Bayesian Optimization etc.)\n",
        "\n",
        "# Fit the Algorithm\n",
        "\n",
        "# Predict on the model"
      ],
      "metadata": {
        "id": "Dy61ujd6fxKe"
      },
      "execution_count": null,
      "outputs": []
    },
    {
      "cell_type": "markdown",
      "source": [
        "##### Which hyperparameter optimization technique have you used and why?"
      ],
      "metadata": {
        "id": "PiV4Ypx8fxKe"
      }
    },
    {
      "cell_type": "markdown",
      "source": [
        "Answer Here."
      ],
      "metadata": {
        "id": "negyGRa7fxKf"
      }
    },
    {
      "cell_type": "markdown",
      "source": [
        "##### Have you seen any improvement? Note down the improvement with updates Evaluation metric Score Chart."
      ],
      "metadata": {
        "id": "TfvqoZmBfxKf"
      }
    },
    {
      "cell_type": "markdown",
      "source": [
        "Answer Here."
      ],
      "metadata": {
        "id": "OaLui8CcfxKf"
      }
    },
    {
      "cell_type": "markdown",
      "source": [
        "### ML Model - 2"
      ],
      "metadata": {
        "id": "dJ2tPlVmpsJ0"
      }
    },
    {
      "cell_type": "markdown",
      "source": [
        "#### 1. Explain the ML Model used and it's performance using Evaluation metric Score Chart."
      ],
      "metadata": {
        "id": "JWYfwnehpsJ1"
      }
    },
    {
      "cell_type": "code",
      "source": [
        "# Visualizing evaluation Metric Score chart"
      ],
      "metadata": {
        "id": "yEl-hgQWpsJ1"
      },
      "execution_count": null,
      "outputs": []
    },
    {
      "cell_type": "markdown",
      "source": [
        "#### 2. Cross- Validation & Hyperparameter Tuning"
      ],
      "metadata": {
        "id": "-jK_YjpMpsJ2"
      }
    },
    {
      "cell_type": "code",
      "source": [
        "# ML Model - 1 Implementation with hyperparameter optimization techniques (i.e., GridSearch CV, RandomSearch CV, Bayesian Optimization etc.)\n",
        "\n",
        "# Fit the Algorithm\n",
        "\n",
        "# Predict on the model"
      ],
      "metadata": {
        "id": "Dn0EOfS6psJ2"
      },
      "execution_count": null,
      "outputs": []
    },
    {
      "cell_type": "markdown",
      "source": [
        "##### Which hyperparameter optimization technique have you used and why?"
      ],
      "metadata": {
        "id": "HAih1iBOpsJ2"
      }
    },
    {
      "cell_type": "markdown",
      "source": [
        "Answer Here."
      ],
      "metadata": {
        "id": "9kBgjYcdpsJ2"
      }
    },
    {
      "cell_type": "markdown",
      "source": [
        "##### Have you seen any improvement? Note down the improvement with updates Evaluation metric Score Chart."
      ],
      "metadata": {
        "id": "zVGeBEFhpsJ2"
      }
    },
    {
      "cell_type": "markdown",
      "source": [
        "Answer Here."
      ],
      "metadata": {
        "id": "74yRdG6UpsJ3"
      }
    },
    {
      "cell_type": "markdown",
      "source": [
        "#### 3. Explain each evaluation metric's indication towards business and the business impact pf the ML model used."
      ],
      "metadata": {
        "id": "bmKjuQ-FpsJ3"
      }
    },
    {
      "cell_type": "markdown",
      "source": [
        "Answer Here."
      ],
      "metadata": {
        "id": "BDKtOrBQpsJ3"
      }
    },
    {
      "cell_type": "markdown",
      "source": [
        "### ML Model - 3"
      ],
      "metadata": {
        "id": "Fze-IPXLpx6K"
      }
    },
    {
      "cell_type": "code",
      "source": [
        "# ML Model - 3 Implementation\n",
        "\n",
        "# Fit the Algorithm\n",
        "\n",
        "# Predict on the model"
      ],
      "metadata": {
        "id": "FFrSXAtrpx6M"
      },
      "execution_count": null,
      "outputs": []
    },
    {
      "cell_type": "markdown",
      "source": [
        "#### 1. Explain the ML Model used and it's performance using Evaluation metric Score Chart."
      ],
      "metadata": {
        "id": "7AN1z2sKpx6M"
      }
    },
    {
      "cell_type": "code",
      "source": [
        "# Visualizing evaluation Metric Score chart"
      ],
      "metadata": {
        "id": "xIY4lxxGpx6M"
      },
      "execution_count": null,
      "outputs": []
    },
    {
      "cell_type": "markdown",
      "source": [
        "#### 2. Cross- Validation & Hyperparameter Tuning"
      ],
      "metadata": {
        "id": "9PIHJqyupx6M"
      }
    },
    {
      "cell_type": "code",
      "source": [
        "# ML Model - 3 Implementation with hyperparameter optimization techniques (i.e., GridSearch CV, RandomSearch CV, Bayesian Optimization etc.)\n",
        "\n",
        "# Fit the Algorithm\n",
        "\n",
        "# Predict on the model"
      ],
      "metadata": {
        "id": "eSVXuaSKpx6M"
      },
      "execution_count": null,
      "outputs": []
    },
    {
      "cell_type": "markdown",
      "source": [
        "##### Which hyperparameter optimization technique have you used and why?"
      ],
      "metadata": {
        "id": "_-qAgymDpx6N"
      }
    },
    {
      "cell_type": "markdown",
      "source": [
        "Answer Here."
      ],
      "metadata": {
        "id": "lQMffxkwpx6N"
      }
    },
    {
      "cell_type": "markdown",
      "source": [
        "##### Have you seen any improvement? Note down the improvement with updates Evaluation metric Score Chart."
      ],
      "metadata": {
        "id": "Z-hykwinpx6N"
      }
    },
    {
      "cell_type": "markdown",
      "source": [
        "Answer Here."
      ],
      "metadata": {
        "id": "MzVzZC6opx6N"
      }
    },
    {
      "cell_type": "markdown",
      "source": [
        "### 1. Which Evaluation metrics did you consider for a positive business impact and why?"
      ],
      "metadata": {
        "id": "h_CCil-SKHpo"
      }
    },
    {
      "cell_type": "markdown",
      "source": [
        "Answer Here."
      ],
      "metadata": {
        "id": "jHVz9hHDKFms"
      }
    },
    {
      "cell_type": "markdown",
      "source": [
        "### 2. Which ML model did you choose from the above created models as your final prediction model and why?"
      ],
      "metadata": {
        "id": "cBFFvTBNJzUa"
      }
    },
    {
      "cell_type": "markdown",
      "source": [
        "Answer Here."
      ],
      "metadata": {
        "id": "6ksF5Q1LKTVm"
      }
    },
    {
      "cell_type": "markdown",
      "source": [
        "### 3. Explain the model which you have used and the feature importance using any model explainability tool?"
      ],
      "metadata": {
        "id": "HvGl1hHyA_VK"
      }
    },
    {
      "cell_type": "markdown",
      "source": [
        "Answer Here."
      ],
      "metadata": {
        "id": "YnvVTiIxBL-C"
      }
    },
    {
      "cell_type": "markdown",
      "source": [
        "## ***8.*** ***Future Work (Optional)***"
      ],
      "metadata": {
        "id": "EyNgTHvd2WFk"
      }
    },
    {
      "cell_type": "markdown",
      "source": [
        "### 1. Save the best performing ml model in a pickle file or joblib file format for deployment process.\n"
      ],
      "metadata": {
        "id": "KH5McJBi2d8v"
      }
    },
    {
      "cell_type": "code",
      "source": [
        "# Save the File"
      ],
      "metadata": {
        "id": "bQIANRl32f4J"
      },
      "execution_count": null,
      "outputs": []
    },
    {
      "cell_type": "markdown",
      "source": [
        "### 2. Again Load the saved model file and try to predict unseen data for a sanity check.\n"
      ],
      "metadata": {
        "id": "iW_Lq9qf2h6X"
      }
    },
    {
      "cell_type": "code",
      "source": [
        "# Load the File and predict unseen data."
      ],
      "metadata": {
        "id": "oEXk9ydD2nVC"
      },
      "execution_count": null,
      "outputs": []
    },
    {
      "cell_type": "markdown",
      "source": [
        "### ***Congrats! Your model is successfully created and ready for deployment on a live server for a real user interaction !!!***"
      ],
      "metadata": {
        "id": "-Kee-DAl2viO"
      }
    },
    {
      "cell_type": "markdown",
      "source": [
        "# **Conclusion**"
      ],
      "metadata": {
        "id": "gCX9965dhzqZ"
      }
    },
    {
      "cell_type": "markdown",
      "source": [
        "Write the conclusion here."
      ],
      "metadata": {
        "id": "Fjb1IsQkh3yE"
      }
    },
    {
      "cell_type": "markdown",
      "source": [
        "### ***Hurrah! You have successfully completed your Machine Learning Capstone Project !!!***"
      ],
      "metadata": {
        "id": "gIfDvo9L0UH2"
      }
    }
  ]
}